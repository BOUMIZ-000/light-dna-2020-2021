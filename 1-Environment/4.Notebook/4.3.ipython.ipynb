{
 "cells": [
  {
   "cell_type": "markdown",
   "metadata": {},
   "source": [
    "# IPython -- An enhanced Interactive Python\n",
    "IPython offers a fully compatible replacement for the standard Python\n",
    "interpreter, with convenient shell features, special commands, command\n",
    "history mechanism and output results caching.\n"
   ]
  },
  {
   "cell_type": "markdown",
   "metadata": {},
   "source": [
    "### GETTING HELP : IPython and Python\n",
    "\n",
    "Within IPython you have various way to access help:\n",
    "- ?           : Introduction and overview of IPython's features.\n",
    "- object?     : Details about 'object' (or object + Shieft + Tab).\n",
    "- object??    : More detailed, verbose information about 'object'.\n",
    "- %quickref   : Quick reference of all IPython specific syntax and magics.\n",
    "- help        : Access Python's own help system.  \n",
    "- Tab         : Completion in the local namespace\n",
    "\n",
    "\n",
    "The help() function is possibly the most important Python function you can learn. If you can remember how to use help(), you hold the key to understanding most other function."
   ]
  },
  {
   "cell_type": "markdown",
   "metadata": {},
   "source": [
    "### IPython help"
   ]
  },
  {
   "cell_type": "code",
   "execution_count": 34,
   "metadata": {},
   "outputs": [],
   "source": [
    "?"
   ]
  },
  {
   "cell_type": "markdown",
   "metadata": {},
   "source": [
    "### Object help"
   ]
  },
  {
   "cell_type": "code",
   "execution_count": 35,
   "metadata": {},
   "outputs": [],
   "source": [
    "a = 1"
   ]
  },
  {
   "cell_type": "code",
   "execution_count": 36,
   "metadata": {},
   "outputs": [],
   "source": [
    "a?"
   ]
  },
  {
   "cell_type": "code",
   "execution_count": 41,
   "metadata": {},
   "outputs": [],
   "source": [
    "def myfunction(a):\n",
    "    '''\n",
    "    My function will do some nice job\n",
    "    a: param 1 is the size\n",
    "    return: the function will return some result \n",
    "    '''\n",
    "    b = a\n",
    "    b +=1\n",
    "    \n",
    "    return b"
   ]
  },
  {
   "cell_type": "code",
   "execution_count": 45,
   "metadata": {},
   "outputs": [],
   "source": [
    "#short help\n",
    "myfunction?"
   ]
  },
  {
   "cell_type": "code",
   "execution_count": null,
   "metadata": {},
   "outputs": [],
   "source": [
    "#details help\n",
    "myfunction??"
   ]
  },
  {
   "cell_type": "code",
   "execution_count": null,
   "metadata": {},
   "outputs": [],
   "source": [
    "#Shieft + Tab\n",
    "myfunction"
   ]
  },
  {
   "cell_type": "code",
   "execution_count": 46,
   "metadata": {
    "collapsed": true,
    "jupyter": {
     "outputs_hidden": true
    }
   },
   "outputs": [
    {
     "name": "stdout",
     "output_type": "stream",
     "text": [
      "Help on class list in module builtins:\n",
      "\n",
      "class list(object)\n",
      " |  list(iterable=(), /)\n",
      " |  \n",
      " |  Built-in mutable sequence.\n",
      " |  \n",
      " |  If no argument is given, the constructor creates a new empty list.\n",
      " |  The argument must be an iterable if specified.\n",
      " |  \n",
      " |  Methods defined here:\n",
      " |  \n",
      " |  __add__(self, value, /)\n",
      " |      Return self+value.\n",
      " |  \n",
      " |  __contains__(self, key, /)\n",
      " |      Return key in self.\n",
      " |  \n",
      " |  __delitem__(self, key, /)\n",
      " |      Delete self[key].\n",
      " |  \n",
      " |  __eq__(self, value, /)\n",
      " |      Return self==value.\n",
      " |  \n",
      " |  __ge__(self, value, /)\n",
      " |      Return self>=value.\n",
      " |  \n",
      " |  __getattribute__(self, name, /)\n",
      " |      Return getattr(self, name).\n",
      " |  \n",
      " |  __getitem__(...)\n",
      " |      x.__getitem__(y) <==> x[y]\n",
      " |  \n",
      " |  __gt__(self, value, /)\n",
      " |      Return self>value.\n",
      " |  \n",
      " |  __iadd__(self, value, /)\n",
      " |      Implement self+=value.\n",
      " |  \n",
      " |  __imul__(self, value, /)\n",
      " |      Implement self*=value.\n",
      " |  \n",
      " |  __init__(self, /, *args, **kwargs)\n",
      " |      Initialize self.  See help(type(self)) for accurate signature.\n",
      " |  \n",
      " |  __iter__(self, /)\n",
      " |      Implement iter(self).\n",
      " |  \n",
      " |  __le__(self, value, /)\n",
      " |      Return self<=value.\n",
      " |  \n",
      " |  __len__(self, /)\n",
      " |      Return len(self).\n",
      " |  \n",
      " |  __lt__(self, value, /)\n",
      " |      Return self<value.\n",
      " |  \n",
      " |  __mul__(self, value, /)\n",
      " |      Return self*value.\n",
      " |  \n",
      " |  __ne__(self, value, /)\n",
      " |      Return self!=value.\n",
      " |  \n",
      " |  __repr__(self, /)\n",
      " |      Return repr(self).\n",
      " |  \n",
      " |  __reversed__(self, /)\n",
      " |      Return a reverse iterator over the list.\n",
      " |  \n",
      " |  __rmul__(self, value, /)\n",
      " |      Return value*self.\n",
      " |  \n",
      " |  __setitem__(self, key, value, /)\n",
      " |      Set self[key] to value.\n",
      " |  \n",
      " |  __sizeof__(self, /)\n",
      " |      Return the size of the list in memory, in bytes.\n",
      " |  \n",
      " |  append(self, object, /)\n",
      " |      Append object to the end of the list.\n",
      " |  \n",
      " |  clear(self, /)\n",
      " |      Remove all items from list.\n",
      " |  \n",
      " |  copy(self, /)\n",
      " |      Return a shallow copy of the list.\n",
      " |  \n",
      " |  count(self, value, /)\n",
      " |      Return number of occurrences of value.\n",
      " |  \n",
      " |  extend(self, iterable, /)\n",
      " |      Extend list by appending elements from the iterable.\n",
      " |  \n",
      " |  index(self, value, start=0, stop=9223372036854775807, /)\n",
      " |      Return first index of value.\n",
      " |      \n",
      " |      Raises ValueError if the value is not present.\n",
      " |  \n",
      " |  insert(self, index, object, /)\n",
      " |      Insert object before index.\n",
      " |  \n",
      " |  pop(self, index=-1, /)\n",
      " |      Remove and return item at index (default last).\n",
      " |      \n",
      " |      Raises IndexError if list is empty or index is out of range.\n",
      " |  \n",
      " |  remove(self, value, /)\n",
      " |      Remove first occurrence of value.\n",
      " |      \n",
      " |      Raises ValueError if the value is not present.\n",
      " |  \n",
      " |  reverse(self, /)\n",
      " |      Reverse *IN PLACE*.\n",
      " |  \n",
      " |  sort(self, /, *, key=None, reverse=False)\n",
      " |      Sort the list in ascending order and return None.\n",
      " |      \n",
      " |      The sort is in-place (i.e. the list itself is modified) and stable (i.e. the\n",
      " |      order of two equal elements is maintained).\n",
      " |      \n",
      " |      If a key function is given, apply it once to each list item and sort them,\n",
      " |      ascending or descending, according to their function values.\n",
      " |      \n",
      " |      The reverse flag can be set to sort in descending order.\n",
      " |  \n",
      " |  ----------------------------------------------------------------------\n",
      " |  Static methods defined here:\n",
      " |  \n",
      " |  __new__(*args, **kwargs) from builtins.type\n",
      " |      Create and return a new object.  See help(type) for accurate signature.\n",
      " |  \n",
      " |  ----------------------------------------------------------------------\n",
      " |  Data and other attributes defined here:\n",
      " |  \n",
      " |  __hash__ = None\n",
      "\n"
     ]
    }
   ],
   "source": [
    "#Python help\n",
    "help(list)"
   ]
  },
  {
   "cell_type": "code",
   "execution_count": 48,
   "metadata": {},
   "outputs": [],
   "source": [
    "# Get the different help of the module (np.random) \n",
    "# or an object (np.random.rand)\n",
    "import numpy as np"
   ]
  },
  {
   "cell_type": "code",
   "execution_count": 50,
   "metadata": {},
   "outputs": [],
   "source": [
    "#module help\n",
    "np?"
   ]
  },
  {
   "cell_type": "code",
   "execution_count": 51,
   "metadata": {},
   "outputs": [],
   "source": [
    "# \n",
    "np.sort?"
   ]
  },
  {
   "cell_type": "code",
   "execution_count": 33,
   "metadata": {},
   "outputs": [],
   "source": [
    "a?"
   ]
  },
  {
   "cell_type": "code",
   "execution_count": 18,
   "metadata": {},
   "outputs": [],
   "source": [
    "b = list()"
   ]
  },
  {
   "cell_type": "code",
   "execution_count": 19,
   "metadata": {},
   "outputs": [],
   "source": [
    "def  add_numbers(a,b):\n",
    "    \"\"\"\n",
    "    Add two number together\n",
    "    \n",
    "    Returns\n",
    "    -------\n",
    "    the_sum: type of arguments\n",
    "    \"\"\"\n",
    "    return a+b"
   ]
  },
  {
   "cell_type": "code",
   "execution_count": 20,
   "metadata": {},
   "outputs": [
    {
     "name": "stdout",
     "output_type": "stream",
     "text": [
      "Help on built-in function append:\n",
      "\n",
      "append(object, /) method of builtins.list instance\n",
      "    Append object to the end of the list.\n",
      "\n"
     ]
    }
   ],
   "source": [
    "help(b.append)"
   ]
  },
  {
   "cell_type": "code",
   "execution_count": null,
   "metadata": {},
   "outputs": [],
   "source": [
    "help(round)"
   ]
  },
  {
   "cell_type": "markdown",
   "metadata": {},
   "source": [
    "help() displays two things:\n",
    "\n",
    "    - the header of that function round(number[, ndigits]). In this case, this tells us that round() takes an argument we can describe as number. Additionally, we can optionally give a separate argument which could be described as ndigits.\n",
    "    - A brief English description of what the function does.\n",
    "\n"
   ]
  },
  {
   "cell_type": "code",
   "execution_count": 52,
   "metadata": {},
   "outputs": [],
   "source": [
    "#all method of b\n",
    "b.*?"
   ]
  },
  {
   "cell_type": "markdown",
   "metadata": {},
   "source": [
    "### MAIN FEATURES"
   ]
  },
  {
   "cell_type": "markdown",
   "metadata": {},
   "source": [
    "#### **Magic function system**: a series of functions which allow you to\n",
    "control the behavior of IPython itself, plus a lot of system-type\n",
    "features. There are two kinds of magics:\n",
    "\n",
    "- **Line magics % cell commands**: they get as an argument the rest of the line, where arguments are passed without parentheses or quotes.  For example, this will time the given statement::\n",
    "\n",
    "        %timeit range(1000)\n",
    "\n",
    "- **Cell magics %% commands**:  they are functions that get as an argument not only the rest of the line, but also the lines below it in a separate argument.  These magics are called with two arguments: the rest of the call line and the body of the cell, consisting of the lines below the first. For example::\n",
    "\n",
    "        %%timeit x = numpy.random.randn((100, 100))\n",
    "        numpy.linalg.svd(x)"
   ]
  },
  {
   "cell_type": "code",
   "execution_count": 21,
   "metadata": {},
   "outputs": [],
   "source": [
    "%magic"
   ]
  },
  {
   "cell_type": "markdown",
   "metadata": {},
   "source": [
    "- %alias: Define an alias for a system command.\n",
    "- %autocall: Make functions callable without having to type parentheses.\n",
    "- %bookmark: Manage IPython's bookmark system.\n",
    "- **%cd: Change the current working directory.*\n",
    "- %dirs: Return the current directory stack.\n",
    "- %env: Get, set, or list environment variables.\n",
    "- %hist: Alias for `%history`.\n",
    "- %matplotlib: ::\n",
    "- **%pwd: Return the current working directory path.**\n",
    "- **%reset: Resets the namespace by removing all names defined by the user if**\n",
    "- **%run: Run the named file inside IPython as a program.**\n",
    "- %save: Save a set of lines or a macro to a given filename.\n",
    "- **%time  %%: Time execution of a Python statement or expression.**\n",
    "- **%timeit %%: Time execution of a Python statement or expression**\n",
    "- **%%!: run shell command and capture output (!! is short-hand).**\n",
    "- %%file: Alias for `%%writefile`.\n",
    "- %%writefile: ::"
   ]
  },
  {
   "cell_type": "code",
   "execution_count": 3,
   "metadata": {},
   "outputs": [
    {
     "data": {
      "text/plain": [
       "'C:\\\\Cours\\\\2020-2021\\\\dna-2020-2021\\\\1-Environment\\\\4.Notebook'"
      ]
     },
     "execution_count": 3,
     "metadata": {},
     "output_type": "execute_result"
    }
   ],
   "source": [
    "%pwd # work also without %"
   ]
  },
  {
   "cell_type": "code",
   "execution_count": 6,
   "metadata": {},
   "outputs": [
    {
     "name": "stdout",
     "output_type": "stream",
     "text": [
      "C:\\Cours\\2020-2021\\dna-2020-2021\n"
     ]
    }
   ],
   "source": [
    "%cd .."
   ]
  },
  {
   "cell_type": "code",
   "execution_count": 10,
   "metadata": {},
   "outputs": [
    {
     "name": "stdout",
     "output_type": "stream",
     "text": [
      "C:\\Cours\\2020-2021\\dna-2020-2021\\1-Environment\\4.Notebook\n"
     ]
    }
   ],
   "source": [
    "cd \"C:\\\\Cours\\\\2020-2021\\\\dna-2020-2021\\\\1-Environment\\\\4.Notebook\""
   ]
  },
  {
   "cell_type": "code",
   "execution_count": 31,
   "metadata": {
    "collapsed": true,
    "jupyter": {
     "outputs_hidden": true
    }
   },
   "outputs": [
    {
     "name": "stdout",
     "output_type": "stream",
     "text": [
      " Le volume dans le lecteur C n'a pas de nom.\n",
      " Le num‚ro de s‚rie du volume est 9E5C-E5AA\n",
      "\n",
      " R‚pertoire de C:\\Cours\\2020-2021\\0-Env\\4.Notebook\n",
      "\n",
      "24/09/2020  10:39    <DIR>          .\n",
      "24/09/2020  10:39    <DIR>          ..\n",
      "24/09/2020  10:03    <DIR>          .ipynb_checkpoints\n",
      "24/09/2020  09:38           191ÿ035 4.1.notebook.ipynb\n",
      "23/09/2020  01:04         1ÿ939ÿ002 4.2.markdown-cheatsheet-online.pdf\n",
      "24/09/2020  10:39            30ÿ210 ipython.ipynb\n",
      "27/02/2020  08:33                74 ipython_script_test.py\n",
      "27/02/2020  08:33            62ÿ719 salll.jpg\n",
      "27/02/2020  08:33             1ÿ480 time.ipynb\n",
      "               6 fichier(s)        2ÿ224ÿ520 octets\n",
      "               3 R‚p(s)  360ÿ854ÿ622ÿ208 octets libres\n"
     ]
    }
   ],
   "source": [
    "ls"
   ]
  },
  {
   "cell_type": "code",
   "execution_count": 12,
   "metadata": {},
   "outputs": [
    {
     "name": "stdout",
     "output_type": "stream",
     "text": [
      "function of 5 6 7.5\n",
      "1.4666666666666666\n"
     ]
    }
   ],
   "source": [
    "%run ipython_script_test.py"
   ]
  },
  {
   "cell_type": "markdown",
   "metadata": {},
   "source": [
    "#### **Persistent command history across sessions**"
   ]
  },
  {
   "cell_type": "code",
   "execution_count": 13,
   "metadata": {},
   "outputs": [
    {
     "name": "stdout",
     "output_type": "stream",
     "text": [
      "(1).__doc__\n",
      "1.__doc__\n",
      "%pwd # work also without %\n",
      "%cd ..\n",
      "cd \"C:\\\\Cours\\\\2020-2021\\\\0-Env\\\\4.Notebook\"\n",
      "%cd ..\n",
      "cd \"C:\\\\Cours\\\\2020-2021\\\\0-Env\\\\4.Notebook\"\n",
      "cd \"C:\\Cours\\2020-20210-Env\\4.Notebook\"\n",
      "cd 'C:\\\\Cours\\\\2020-2021\\\\dna-2020-2021\\\\1-Environment\\\\4.Notebook'\n",
      "cd \"C:\\\\Cours\\\\2020-2021\\\\dna-2020-2021\\\\1-Environment\\\\4.Notebook\"\n",
      "%run ipython_script_test.py\n",
      "%run ipython_script_test.py\n",
      "hist\n"
     ]
    }
   ],
   "source": [
    "hist"
   ]
  },
  {
   "cell_type": "markdown",
   "metadata": {},
   "source": [
    "#### **System shell with !**"
   ]
  },
  {
   "cell_type": "code",
   "execution_count": 15,
   "metadata": {},
   "outputs": [
    {
     "name": "stdout",
     "output_type": "stream",
     "text": [
      "Python 3.8.5\n"
     ]
    }
   ],
   "source": [
    "! python --version"
   ]
  },
  {
   "cell_type": "code",
   "execution_count": 16,
   "metadata": {},
   "outputs": [],
   "source": [
    "foo = '*.jpg'"
   ]
  },
  {
   "cell_type": "code",
   "execution_count": 36,
   "metadata": {},
   "outputs": [],
   "source": [
    "a = !ls $foo"
   ]
  },
  {
   "cell_type": "code",
   "execution_count": 18,
   "metadata": {},
   "outputs": [
    {
     "data": {
      "text/plain": [
       "1"
      ]
     },
     "execution_count": 18,
     "metadata": {},
     "output_type": "execute_result"
    }
   ],
   "source": [
    "len(a)"
   ]
  },
  {
   "cell_type": "code",
   "execution_count": 32,
   "metadata": {},
   "outputs": [
    {
     "data": {
      "text/plain": [
       "[\"ls: cannot access ';': No such file or directory\"]"
      ]
     },
     "execution_count": 32,
     "metadata": {},
     "output_type": "execute_result"
    }
   ],
   "source": [
    "%%!\n",
    "ls && pwd"
   ]
  },
  {
   "cell_type": "markdown",
   "metadata": {},
   "source": [
    "#### **Input caching system** \n",
    "The input is saved and can be retrieved as variables \n",
    "  * The following GLOBAL variables always exist (so don't overwrite them!):\n",
    "     - _i: stores previous input.\n",
    "     - _ii: next previous.\n",
    "     - _iii: next-next previous.\n",
    "     - _ih : a list of all input _ih[n] is the input from line n.\n",
    "     - Additionally, global variables named _i<n> are dynamically created (<n> being the prompt counter), such that _i<n> == _ih[<n>]. For   example, what you typed at prompt 14 is available as _i14 and _ih[14].\n"
   ]
  },
  {
   "cell_type": "code",
   "execution_count": 33,
   "metadata": {},
   "outputs": [
    {
     "data": {
      "text/plain": [
       "'(1).__doc__'"
      ]
     },
     "execution_count": 33,
     "metadata": {},
     "output_type": "execute_result"
    }
   ],
   "source": [
    "_i1"
   ]
  },
  {
   "cell_type": "markdown",
   "metadata": {},
   "source": [
    "#### **Output caching system**\n",
    "\n",
    "For output that is returned from actions, a system similar to the input cache exists but using _ instead of _i. Only actions that produce a result(NOT assignments, for example) are cached. The following GLOBAL variables always exist (so don't overwrite them!):\n",
    "\n",
    "      - _ (one underscore): previous output.\n",
    "      \n",
    "      - __ (two underscores): next previous.\n",
    "      \n",
    "      - ___ (three underscores): next-next previous.\n",
    "      \n",
    "      - Global variables named _<n> are dynamically created (<n> being the prompt counter), such that the result of output <n> is always available as _<n>."
   ]
  },
  {
   "cell_type": "code",
   "execution_count": 27,
   "metadata": {},
   "outputs": [
    {
     "data": {
      "text/plain": [
       "'%pwd'"
      ]
     },
     "execution_count": 27,
     "metadata": {},
     "output_type": "execute_result"
    }
   ],
   "source": [
    "_"
   ]
  },
  {
   "cell_type": "markdown",
   "metadata": {},
   "source": [
    "#### **Debugger**"
   ]
  },
  {
   "cell_type": "code",
   "execution_count": 41,
   "metadata": {},
   "outputs": [
    {
     "name": "stdout",
     "output_type": "stream",
     "text": [
      "Automatic pdb calling has been turned OFF\n"
     ]
    }
   ],
   "source": [
    "%pdb"
   ]
  },
  {
   "cell_type": "markdown",
   "metadata": {},
   "source": [
    "#### **Execution time**\n",
    "\n"
   ]
  },
  {
   "cell_type": "code",
   "execution_count": 38,
   "metadata": {},
   "outputs": [
    {
     "name": "stdout",
     "output_type": "stream",
     "text": [
      "1.08 µs ± 18.6 ns per loop (mean ± std. dev. of 7 runs, 1000000 loops each)\n"
     ]
    }
   ],
   "source": [
    "import numpy as np\n",
    "a = np.random.randint(2,8,100)\n",
    "x = %timeit -o -t np.dot(a,a)"
   ]
  },
  {
   "cell_type": "code",
   "execution_count": 39,
   "metadata": {},
   "outputs": [
    {
     "data": {
      "text/plain": [
       "<TimeitResult : 1.08 µs ± 18.6 ns per loop (mean ± std. dev. of 7 runs, 1000000 loops each)>"
      ]
     },
     "execution_count": 39,
     "metadata": {},
     "output_type": "execute_result"
    }
   ],
   "source": [
    "x"
   ]
  },
  {
   "cell_type": "code",
   "execution_count": 40,
   "metadata": {},
   "outputs": [
    {
     "data": {
      "text/plain": [
       "1000000"
      ]
     },
     "execution_count": 40,
     "metadata": {},
     "output_type": "execute_result"
    }
   ],
   "source": [
    "x.loops"
   ]
  },
  {
   "cell_type": "code",
   "execution_count": 41,
   "metadata": {},
   "outputs": [
    {
     "name": "stdout",
     "output_type": "stream",
     "text": [
      "226 ns ± 1.27 ns per loop (mean ± std. dev. of 7 runs, 1000000 loops each)\n"
     ]
    }
   ],
   "source": [
    "%%timeit  a = 1\n",
    "def f(x, y, z):\n",
    "    return (x+y)/z\n",
    "\n",
    "a = a+ 5\n",
    "b = 6\n",
    "c = 7.5\n",
    "\n",
    "result = f(a,b,c)"
   ]
  },
  {
   "cell_type": "code",
   "execution_count": 57,
   "metadata": {},
   "outputs": [
    {
     "name": "stdout",
     "output_type": "stream",
     "text": [
      "4.24 ms ± 416 µs per loop (mean ± std. dev. of 7 runs, 1 loop each)\n"
     ]
    }
   ],
   "source": [
    "%%timeit \n",
    "x = np.random.randn(100, 100)\n",
    "z = np.linalg.svd(x)"
   ]
  },
  {
   "cell_type": "markdown",
   "metadata": {},
   "source": [
    "#### **Namespaces**\n",
    "\n",
    "A namespace is a collection of names. In Python, you can imagine a namespace as a mapping of every name you have defined to corresponding objects. Different namespaces can co-exist at a given time but are completely isolated.\n",
    "- see https://www.programiz.com/python-programming/namespace\n",
    "- also https://www.programiz.com/python-programming/methods/built-in/globals\n",
    "    "
   ]
  },
  {
   "cell_type": "code",
   "execution_count": 42,
   "metadata": {},
   "outputs": [
    {
     "ename": "TypeError",
     "evalue": "'int' object is not callable",
     "output_type": "error",
     "traceback": [
      "\u001b[1;31m---------------------------------------------------------------------------\u001b[0m",
      "\u001b[1;31mTypeError\u001b[0m                                 Traceback (most recent call last)",
      "\u001b[1;32m<ipython-input-42-61c487e88e32>\u001b[0m in \u001b[0;36m<module>\u001b[1;34m\u001b[0m\n\u001b[0;32m      1\u001b[0m \u001b[1;31m#help(set)\u001b[0m\u001b[1;33m\u001b[0m\u001b[1;33m\u001b[0m\u001b[1;33m\u001b[0m\u001b[0m\n\u001b[0;32m      2\u001b[0m \u001b[0mset\u001b[0m \u001b[1;33m=\u001b[0m \u001b[1;36m1\u001b[0m\u001b[1;33m\u001b[0m\u001b[1;33m\u001b[0m\u001b[0m\n\u001b[1;32m----> 3\u001b[1;33m \u001b[0mb\u001b[0m \u001b[1;33m=\u001b[0m \u001b[0mset\u001b[0m\u001b[1;33m(\u001b[0m\u001b[1;33m)\u001b[0m\u001b[1;33m\u001b[0m\u001b[1;33m\u001b[0m\u001b[0m\n\u001b[0m",
      "\u001b[1;31mTypeError\u001b[0m: 'int' object is not callable"
     ]
    }
   ],
   "source": [
    "#help(set)\n",
    "set = 1\n",
    "b = set()"
   ]
  },
  {
   "cell_type": "code",
   "execution_count": 43,
   "metadata": {},
   "outputs": [
    {
     "data": {
      "text/plain": [
       "{'__name__': '__main__',\n",
       " '__doc__': 'Module created for script run in IPython',\n",
       " '__package__': None,\n",
       " '__loader__': None,\n",
       " '__spec__': None,\n",
       " '__builtin__': <module 'builtins' (built-in)>,\n",
       " '__builtins__': <module 'builtins' (built-in)>,\n",
       " '_ih': ['',\n",
       "  '(1).__doc__',\n",
       "  '1.__doc__',\n",
       "  \"get_ipython().run_line_magic('pwd', '# work also without %')\",\n",
       "  \"get_ipython().run_line_magic('cd', '..')\",\n",
       "  'get_ipython().run_line_magic(\\'cd\\', \\'\"C:\\\\\\\\\\\\\\\\Cours\\\\\\\\\\\\\\\\2020-2021\\\\\\\\\\\\\\\\0-Env\\\\\\\\\\\\\\\\4.Notebook\"\\')',\n",
       "  \"get_ipython().run_line_magic('cd', '..')\",\n",
       "  'get_ipython().run_line_magic(\\'cd\\', \\'\"C:\\\\\\\\\\\\\\\\Cours\\\\\\\\\\\\\\\\2020-2021\\\\\\\\\\\\\\\\0-Env\\\\\\\\\\\\\\\\4.Notebook\"\\')',\n",
       "  'get_ipython().run_line_magic(\\'cd\\', \\'\"C:\\\\\\\\Cours\\\\\\\\2020-20210-Env\\\\\\\\4.Notebook\"\\')',\n",
       "  'get_ipython().run_line_magic(\\'cd\\', \"\\'C:\\\\\\\\\\\\\\\\Cours\\\\\\\\\\\\\\\\2020-2021\\\\\\\\\\\\\\\\dna-2020-2021\\\\\\\\\\\\\\\\1-Environment\\\\\\\\\\\\\\\\4.Notebook\\'\")',\n",
       "  'get_ipython().run_line_magic(\\'cd\\', \\'\"C:\\\\\\\\\\\\\\\\Cours\\\\\\\\\\\\\\\\2020-2021\\\\\\\\\\\\\\\\dna-2020-2021\\\\\\\\\\\\\\\\1-Environment\\\\\\\\\\\\\\\\4.Notebook\"\\')',\n",
       "  \"get_ipython().run_line_magic('run', 'ipython_script_test.py')\",\n",
       "  \"get_ipython().run_line_magic('run', 'ipython_script_test.py')\",\n",
       "  \"get_ipython().run_line_magic('hist', '')\",\n",
       "  'python --version',\n",
       "  \"get_ipython().system('python --version')\",\n",
       "  \"foo = '*.jpg'\",\n",
       "  \"a = get_ipython().getoutput('ls $foo')\",\n",
       "  'len(a)',\n",
       "  \"get_ipython().run_cell_magic('!', '', 'pwd\\\\ndir\\\\n')\",\n",
       "  \"get_ipython().run_cell_magic('!', '', 'pwd\\\\nls\\\\n')\",\n",
       "  \"get_ipython().system('ls')\",\n",
       "  \"get_ipython().run_cell_magic('!', '', 'pwd\\\\n\\\\nls\\\\n')\",\n",
       "  \"get_ipython().run_cell_magic('!', '', '\\\\n\\\\n\\\\nls\\\\n')\",\n",
       "  \"get_ipython().run_cell_magic('!', '', 'ls\\\\n')\",\n",
       "  \"get_ipython().run_cell_magic('!', '', 'ls\\\\npwd\\\\n')\",\n",
       "  \"get_ipython().run_cell_magic('!', '', 'ls &\\\\npwd\\\\n')\",\n",
       "  \"get_ipython().run_cell_magic('!', '', 'ls &&\\\\npwd\\\\n')\",\n",
       "  \"get_ipython().run_cell_magic('!', '', 'ls &\\\\npwd\\\\n')\",\n",
       "  \"get_ipython().run_cell_magic('!', '', 'ls &&\\\\npwd\\\\n')\",\n",
       "  \"get_ipython().run_cell_magic('!', '', 'ls && pwd\\\\n')\",\n",
       "  \"get_ipython().run_cell_magic('!', '', 'ls ; \\\\npwd\\\\n')\",\n",
       "  \"get_ipython().run_cell_magic('!', '', 'ls; \\\\npwd\\\\n')\",\n",
       "  '_i1',\n",
       "  \"import numpy as np\\n\\nx = get_ipython().run_line_magic('timeit', '-o -t np.dot(a,a)')\",\n",
       "  \"import numpy as np\\n\\nx = get_ipython().run_line_magic('timeit', '-o -t np.dot(a,a)')\",\n",
       "  \"a = get_ipython().getoutput('ls $foo')\",\n",
       "  \"import numpy as np\\n\\nx = get_ipython().run_line_magic('timeit', '-o -t np.dot(a,a)')\",\n",
       "  \"import numpy as np\\na = np.random.randint(2,8,100)\\nx = get_ipython().run_line_magic('timeit', '-o -t np.dot(a,a)')\",\n",
       "  'x',\n",
       "  'x.loops',\n",
       "  \"get_ipython().run_cell_magic('timeit', ' a = 1', 'def f(x, y, z):\\\\n    return (x+y)/z\\\\n\\\\na = a+ 5\\\\nb = 6\\\\nc = 7.5\\\\n\\\\nresult = f(a,b,c)\\\\n')\",\n",
       "  '#help(set)\\nset = 1\\nb = set()',\n",
       "  'globals()'],\n",
       " '_oh': {1: \"int([x]) -> integer\\nint(x, base=10) -> integer\\n\\nConvert a number or string to an integer, or return 0 if no arguments\\nare given.  If x is a number, return x.__int__().  For floating point\\nnumbers, this truncates towards zero.\\n\\nIf x is not a number or if base is given, then x must be a string,\\nbytes, or bytearray instance representing an integer literal in the\\ngiven base.  The literal can be preceded by '+' or '-' and be surrounded\\nby whitespace.  The base defaults to 10.  Valid bases are 0 and 2-36.\\nBase 0 means to interpret the base from the string as an integer literal.\\n>>> int('0b100', base=0)\\n4\",\n",
       "  3: 'C:\\\\Cours\\\\2020-2021\\\\dna-2020-2021\\\\1-Environment\\\\4.Notebook',\n",
       "  18: 1,\n",
       "  19: ['/c/Cours/2020-2021/dna-2020-2021/1-Environment/4.Notebook'],\n",
       "  20: ['/c/Cours/2020-2021/dna-2020-2021/1-Environment/4.Notebook'],\n",
       "  22: ['/c/Cours/2020-2021/dna-2020-2021/1-Environment/4.Notebook'],\n",
       "  23: [],\n",
       "  24: ['4.1.notebook.ipynb',\n",
       "   '4.2.markdown-cheatsheet-online.pdf',\n",
       "   '4.3.ipython.ipynb',\n",
       "   '4.4.time.ipynb',\n",
       "   'ipython_script_test.py',\n",
       "   'salll.jpg'],\n",
       "  25: ['4.1.notebook.ipynb',\n",
       "   '4.2.markdown-cheatsheet-online.pdf',\n",
       "   '4.3.ipython.ipynb',\n",
       "   '4.4.time.ipynb',\n",
       "   'ipython_script_test.py',\n",
       "   'salll.jpg'],\n",
       "  26: ['4.1.notebook.ipynb',\n",
       "   '4.2.markdown-cheatsheet-online.pdf',\n",
       "   '4.3.ipython.ipynb',\n",
       "   '4.4.time.ipynb',\n",
       "   'ipython_script_test.py',\n",
       "   'salll.jpg'],\n",
       "  27: [\"La syntaxe de la commande n'est pas correcte.\"],\n",
       "  28: ['4.1.notebook.ipynb',\n",
       "   '4.2.markdown-cheatsheet-online.pdf',\n",
       "   '4.3.ipython.ipynb',\n",
       "   '4.4.time.ipynb',\n",
       "   'ipython_script_test.py',\n",
       "   'salll.jpg'],\n",
       "  29: [\"La syntaxe de la commande n'est pas correcte.\"],\n",
       "  30: ['4.1.notebook.ipynb',\n",
       "   '4.2.markdown-cheatsheet-online.pdf',\n",
       "   '4.3.ipython.ipynb',\n",
       "   '4.4.time.ipynb',\n",
       "   'ipython_script_test.py',\n",
       "   'salll.jpg',\n",
       "   '/c/Cours/2020-2021/dna-2020-2021/1-Environment/4.Notebook'],\n",
       "  31: [\"ls: cannot access ';': No such file or directory\"],\n",
       "  32: [\"ls: cannot access ';': No such file or directory\"],\n",
       "  33: '(1).__doc__',\n",
       "  39: <TimeitResult : 1.08 µs ± 18.6 ns per loop (mean ± std. dev. of 7 runs, 1000000 loops each)>,\n",
       "  40: 1000000},\n",
       " '_dh': ['C:\\\\Cours\\\\2020-2021\\\\dna-2020-2021\\\\1-Environment\\\\4.Notebook',\n",
       "  'C:\\\\Cours\\\\2020-2021\\\\dna-2020-2021\\\\1-Environment',\n",
       "  'C:\\\\Cours\\\\2020-2021\\\\dna-2020-2021',\n",
       "  'C:\\\\Cours\\\\2020-2021\\\\dna-2020-2021\\\\1-Environment\\\\4.Notebook'],\n",
       " 'In': ['',\n",
       "  '(1).__doc__',\n",
       "  '1.__doc__',\n",
       "  \"get_ipython().run_line_magic('pwd', '# work also without %')\",\n",
       "  \"get_ipython().run_line_magic('cd', '..')\",\n",
       "  'get_ipython().run_line_magic(\\'cd\\', \\'\"C:\\\\\\\\\\\\\\\\Cours\\\\\\\\\\\\\\\\2020-2021\\\\\\\\\\\\\\\\0-Env\\\\\\\\\\\\\\\\4.Notebook\"\\')',\n",
       "  \"get_ipython().run_line_magic('cd', '..')\",\n",
       "  'get_ipython().run_line_magic(\\'cd\\', \\'\"C:\\\\\\\\\\\\\\\\Cours\\\\\\\\\\\\\\\\2020-2021\\\\\\\\\\\\\\\\0-Env\\\\\\\\\\\\\\\\4.Notebook\"\\')',\n",
       "  'get_ipython().run_line_magic(\\'cd\\', \\'\"C:\\\\\\\\Cours\\\\\\\\2020-20210-Env\\\\\\\\4.Notebook\"\\')',\n",
       "  'get_ipython().run_line_magic(\\'cd\\', \"\\'C:\\\\\\\\\\\\\\\\Cours\\\\\\\\\\\\\\\\2020-2021\\\\\\\\\\\\\\\\dna-2020-2021\\\\\\\\\\\\\\\\1-Environment\\\\\\\\\\\\\\\\4.Notebook\\'\")',\n",
       "  'get_ipython().run_line_magic(\\'cd\\', \\'\"C:\\\\\\\\\\\\\\\\Cours\\\\\\\\\\\\\\\\2020-2021\\\\\\\\\\\\\\\\dna-2020-2021\\\\\\\\\\\\\\\\1-Environment\\\\\\\\\\\\\\\\4.Notebook\"\\')',\n",
       "  \"get_ipython().run_line_magic('run', 'ipython_script_test.py')\",\n",
       "  \"get_ipython().run_line_magic('run', 'ipython_script_test.py')\",\n",
       "  \"get_ipython().run_line_magic('hist', '')\",\n",
       "  'python --version',\n",
       "  \"get_ipython().system('python --version')\",\n",
       "  \"foo = '*.jpg'\",\n",
       "  \"a = get_ipython().getoutput('ls $foo')\",\n",
       "  'len(a)',\n",
       "  \"get_ipython().run_cell_magic('!', '', 'pwd\\\\ndir\\\\n')\",\n",
       "  \"get_ipython().run_cell_magic('!', '', 'pwd\\\\nls\\\\n')\",\n",
       "  \"get_ipython().system('ls')\",\n",
       "  \"get_ipython().run_cell_magic('!', '', 'pwd\\\\n\\\\nls\\\\n')\",\n",
       "  \"get_ipython().run_cell_magic('!', '', '\\\\n\\\\n\\\\nls\\\\n')\",\n",
       "  \"get_ipython().run_cell_magic('!', '', 'ls\\\\n')\",\n",
       "  \"get_ipython().run_cell_magic('!', '', 'ls\\\\npwd\\\\n')\",\n",
       "  \"get_ipython().run_cell_magic('!', '', 'ls &\\\\npwd\\\\n')\",\n",
       "  \"get_ipython().run_cell_magic('!', '', 'ls &&\\\\npwd\\\\n')\",\n",
       "  \"get_ipython().run_cell_magic('!', '', 'ls &\\\\npwd\\\\n')\",\n",
       "  \"get_ipython().run_cell_magic('!', '', 'ls &&\\\\npwd\\\\n')\",\n",
       "  \"get_ipython().run_cell_magic('!', '', 'ls && pwd\\\\n')\",\n",
       "  \"get_ipython().run_cell_magic('!', '', 'ls ; \\\\npwd\\\\n')\",\n",
       "  \"get_ipython().run_cell_magic('!', '', 'ls; \\\\npwd\\\\n')\",\n",
       "  '_i1',\n",
       "  \"import numpy as np\\n\\nx = get_ipython().run_line_magic('timeit', '-o -t np.dot(a,a)')\",\n",
       "  \"import numpy as np\\n\\nx = get_ipython().run_line_magic('timeit', '-o -t np.dot(a,a)')\",\n",
       "  \"a = get_ipython().getoutput('ls $foo')\",\n",
       "  \"import numpy as np\\n\\nx = get_ipython().run_line_magic('timeit', '-o -t np.dot(a,a)')\",\n",
       "  \"import numpy as np\\na = np.random.randint(2,8,100)\\nx = get_ipython().run_line_magic('timeit', '-o -t np.dot(a,a)')\",\n",
       "  'x',\n",
       "  'x.loops',\n",
       "  \"get_ipython().run_cell_magic('timeit', ' a = 1', 'def f(x, y, z):\\\\n    return (x+y)/z\\\\n\\\\na = a+ 5\\\\nb = 6\\\\nc = 7.5\\\\n\\\\nresult = f(a,b,c)\\\\n')\",\n",
       "  '#help(set)\\nset = 1\\nb = set()',\n",
       "  'globals()'],\n",
       " 'Out': {1: \"int([x]) -> integer\\nint(x, base=10) -> integer\\n\\nConvert a number or string to an integer, or return 0 if no arguments\\nare given.  If x is a number, return x.__int__().  For floating point\\nnumbers, this truncates towards zero.\\n\\nIf x is not a number or if base is given, then x must be a string,\\nbytes, or bytearray instance representing an integer literal in the\\ngiven base.  The literal can be preceded by '+' or '-' and be surrounded\\nby whitespace.  The base defaults to 10.  Valid bases are 0 and 2-36.\\nBase 0 means to interpret the base from the string as an integer literal.\\n>>> int('0b100', base=0)\\n4\",\n",
       "  3: 'C:\\\\Cours\\\\2020-2021\\\\dna-2020-2021\\\\1-Environment\\\\4.Notebook',\n",
       "  18: 1,\n",
       "  19: ['/c/Cours/2020-2021/dna-2020-2021/1-Environment/4.Notebook'],\n",
       "  20: ['/c/Cours/2020-2021/dna-2020-2021/1-Environment/4.Notebook'],\n",
       "  22: ['/c/Cours/2020-2021/dna-2020-2021/1-Environment/4.Notebook'],\n",
       "  23: [],\n",
       "  24: ['4.1.notebook.ipynb',\n",
       "   '4.2.markdown-cheatsheet-online.pdf',\n",
       "   '4.3.ipython.ipynb',\n",
       "   '4.4.time.ipynb',\n",
       "   'ipython_script_test.py',\n",
       "   'salll.jpg'],\n",
       "  25: ['4.1.notebook.ipynb',\n",
       "   '4.2.markdown-cheatsheet-online.pdf',\n",
       "   '4.3.ipython.ipynb',\n",
       "   '4.4.time.ipynb',\n",
       "   'ipython_script_test.py',\n",
       "   'salll.jpg'],\n",
       "  26: ['4.1.notebook.ipynb',\n",
       "   '4.2.markdown-cheatsheet-online.pdf',\n",
       "   '4.3.ipython.ipynb',\n",
       "   '4.4.time.ipynb',\n",
       "   'ipython_script_test.py',\n",
       "   'salll.jpg'],\n",
       "  27: [\"La syntaxe de la commande n'est pas correcte.\"],\n",
       "  28: ['4.1.notebook.ipynb',\n",
       "   '4.2.markdown-cheatsheet-online.pdf',\n",
       "   '4.3.ipython.ipynb',\n",
       "   '4.4.time.ipynb',\n",
       "   'ipython_script_test.py',\n",
       "   'salll.jpg'],\n",
       "  29: [\"La syntaxe de la commande n'est pas correcte.\"],\n",
       "  30: ['4.1.notebook.ipynb',\n",
       "   '4.2.markdown-cheatsheet-online.pdf',\n",
       "   '4.3.ipython.ipynb',\n",
       "   '4.4.time.ipynb',\n",
       "   'ipython_script_test.py',\n",
       "   'salll.jpg',\n",
       "   '/c/Cours/2020-2021/dna-2020-2021/1-Environment/4.Notebook'],\n",
       "  31: [\"ls: cannot access ';': No such file or directory\"],\n",
       "  32: [\"ls: cannot access ';': No such file or directory\"],\n",
       "  33: '(1).__doc__',\n",
       "  39: <TimeitResult : 1.08 µs ± 18.6 ns per loop (mean ± std. dev. of 7 runs, 1000000 loops each)>,\n",
       "  40: 1000000},\n",
       " 'get_ipython': <bound method InteractiveShell.get_ipython of <ipykernel.zmqshell.ZMQInteractiveShell object at 0x000001CD70D35790>>,\n",
       " 'exit': <IPython.core.autocall.ZMQExitAutocall at 0x1cd70dddfa0>,\n",
       " 'quit': <IPython.core.autocall.ZMQExitAutocall at 0x1cd70dddfa0>,\n",
       " '_': 1000000,\n",
       " '__': <TimeitResult : 1.08 µs ± 18.6 ns per loop (mean ± std. dev. of 7 runs, 1000000 loops each)>,\n",
       " '___': '(1).__doc__',\n",
       " '_i': '#help(set)\\nset = 1\\nb = set()',\n",
       " '_ii': '%%timeit  a = 1\\ndef f(x, y, z):\\n    return (x+y)/z\\n\\na = a+ 5\\nb = 6\\nc = 7.5\\n\\nresult = f(a,b,c)',\n",
       " '_iii': 'x.loops',\n",
       " '_i1': '(1).__doc__',\n",
       " '_1': \"int([x]) -> integer\\nint(x, base=10) -> integer\\n\\nConvert a number or string to an integer, or return 0 if no arguments\\nare given.  If x is a number, return x.__int__().  For floating point\\nnumbers, this truncates towards zero.\\n\\nIf x is not a number or if base is given, then x must be a string,\\nbytes, or bytearray instance representing an integer literal in the\\ngiven base.  The literal can be preceded by '+' or '-' and be surrounded\\nby whitespace.  The base defaults to 10.  Valid bases are 0 and 2-36.\\nBase 0 means to interpret the base from the string as an integer literal.\\n>>> int('0b100', base=0)\\n4\",\n",
       " '_i2': '1.__doc__',\n",
       " '_i3': '%pwd # work also without %',\n",
       " '_3': 'C:\\\\Cours\\\\2020-2021\\\\dna-2020-2021\\\\1-Environment\\\\4.Notebook',\n",
       " '_i4': '%cd ..',\n",
       " '_i5': 'cd \"C:\\\\\\\\Cours\\\\\\\\2020-2021\\\\\\\\0-Env\\\\\\\\4.Notebook\"',\n",
       " '_i6': '%cd ..',\n",
       " '_i7': 'cd \"C:\\\\\\\\Cours\\\\\\\\2020-2021\\\\\\\\0-Env\\\\\\\\4.Notebook\"',\n",
       " '_i8': 'cd \"C:\\\\Cours\\\\2020-20210-Env\\\\4.Notebook\"',\n",
       " '_i9': \"cd 'C:\\\\\\\\Cours\\\\\\\\2020-2021\\\\\\\\dna-2020-2021\\\\\\\\1-Environment\\\\\\\\4.Notebook'\",\n",
       " '_i10': 'cd \"C:\\\\\\\\Cours\\\\\\\\2020-2021\\\\\\\\dna-2020-2021\\\\\\\\1-Environment\\\\\\\\4.Notebook\"',\n",
       " '_i11': '%run ipython_script_test.py',\n",
       " '__nonzero__': <function IPython.core.interactiveshell.InteractiveShell.new_main_mod.<locals>.<lambda>()>,\n",
       " 'f': <function __main__.f(x, y, z)>,\n",
       " 'a': array([3, 6, 2, 5, 4, 3, 7, 6, 4, 4, 5, 3, 7, 3, 5, 3, 3, 5, 7, 5, 3, 5,\n",
       "        6, 3, 7, 6, 2, 6, 6, 2, 6, 7, 4, 6, 3, 4, 2, 3, 4, 6, 3, 4, 4, 4,\n",
       "        7, 2, 3, 5, 4, 5, 4, 6, 2, 5, 7, 5, 6, 6, 7, 5, 3, 4, 6, 6, 5, 2,\n",
       "        7, 6, 2, 3, 4, 6, 4, 6, 5, 5, 5, 4, 3, 3, 3, 5, 7, 4, 6, 7, 4, 7,\n",
       "        4, 5, 3, 4, 4, 6, 3, 6, 5, 7, 6, 6]),\n",
       " 'b': 6,\n",
       " 'c': 7.5,\n",
       " 'result': 1.4666666666666666,\n",
       " '_i12': '%run ipython_script_test.py',\n",
       " '_i13': 'hist',\n",
       " '_i14': 'python --version',\n",
       " '_i15': '!python --version',\n",
       " '_exit_code': 0,\n",
       " '_i16': \"foo = '*.jpg'\",\n",
       " 'foo': '*.jpg',\n",
       " '_i17': 'a = !ls $foo',\n",
       " '_i18': 'len(a)',\n",
       " '_18': 1,\n",
       " '_i19': '%%!\\npwd\\ndir',\n",
       " '_19': ['/c/Cours/2020-2021/dna-2020-2021/1-Environment/4.Notebook'],\n",
       " '_i20': '%%!\\npwd\\nls',\n",
       " '_20': ['/c/Cours/2020-2021/dna-2020-2021/1-Environment/4.Notebook'],\n",
       " '_i21': '!ls',\n",
       " '_i22': '%%!\\npwd\\n\\nls',\n",
       " '_22': ['/c/Cours/2020-2021/dna-2020-2021/1-Environment/4.Notebook'],\n",
       " '_i23': '%%!\\n\\n\\n\\nls',\n",
       " '_23': [],\n",
       " '_i24': '%%!\\nls',\n",
       " '_24': ['4.1.notebook.ipynb',\n",
       "  '4.2.markdown-cheatsheet-online.pdf',\n",
       "  '4.3.ipython.ipynb',\n",
       "  '4.4.time.ipynb',\n",
       "  'ipython_script_test.py',\n",
       "  'salll.jpg'],\n",
       " '_i25': '%%!\\nls\\npwd',\n",
       " '_25': ['4.1.notebook.ipynb',\n",
       "  '4.2.markdown-cheatsheet-online.pdf',\n",
       "  '4.3.ipython.ipynb',\n",
       "  '4.4.time.ipynb',\n",
       "  'ipython_script_test.py',\n",
       "  'salll.jpg'],\n",
       " '_i26': '%%!\\nls &\\npwd',\n",
       " '_26': ['4.1.notebook.ipynb',\n",
       "  '4.2.markdown-cheatsheet-online.pdf',\n",
       "  '4.3.ipython.ipynb',\n",
       "  '4.4.time.ipynb',\n",
       "  'ipython_script_test.py',\n",
       "  'salll.jpg'],\n",
       " '_i27': '%%!\\nls &&\\npwd',\n",
       " '_27': [\"La syntaxe de la commande n'est pas correcte.\"],\n",
       " '_i28': '%%!\\nls &\\npwd',\n",
       " '_28': ['4.1.notebook.ipynb',\n",
       "  '4.2.markdown-cheatsheet-online.pdf',\n",
       "  '4.3.ipython.ipynb',\n",
       "  '4.4.time.ipynb',\n",
       "  'ipython_script_test.py',\n",
       "  'salll.jpg'],\n",
       " '_i29': '%%!\\nls &&\\npwd',\n",
       " '_29': [\"La syntaxe de la commande n'est pas correcte.\"],\n",
       " '_i30': '%%!\\nls && pwd',\n",
       " '_30': ['4.1.notebook.ipynb',\n",
       "  '4.2.markdown-cheatsheet-online.pdf',\n",
       "  '4.3.ipython.ipynb',\n",
       "  '4.4.time.ipynb',\n",
       "  'ipython_script_test.py',\n",
       "  'salll.jpg',\n",
       "  '/c/Cours/2020-2021/dna-2020-2021/1-Environment/4.Notebook'],\n",
       " '_i31': '%%!\\nls ; \\npwd',\n",
       " '_31': [\"ls: cannot access ';': No such file or directory\"],\n",
       " '_i32': '%%!\\nls; \\npwd',\n",
       " '_32': [\"ls: cannot access ';': No such file or directory\"],\n",
       " '_i33': '_i1',\n",
       " '_33': '(1).__doc__',\n",
       " '_i34': 'import numpy as np\\n\\nx = %timeit -o -t np.dot(a,a)',\n",
       " 'np': <module 'numpy' from 'C:\\\\ProgramData\\\\Anaconda3\\\\envs\\\\firstDNA\\\\lib\\\\site-packages\\\\numpy\\\\__init__.py'>,\n",
       " '_i35': 'import numpy as np\\n\\nx = %timeit -o -t np.dot(a,a)',\n",
       " '_i36': 'a = !ls $foo',\n",
       " '_i37': 'import numpy as np\\n\\nx = %timeit -o -t np.dot(a,a)',\n",
       " '_i38': 'import numpy as np\\na = np.random.randint(2,8,100)\\nx = %timeit -o -t np.dot(a,a)',\n",
       " 'x': <TimeitResult : 1.08 µs ± 18.6 ns per loop (mean ± std. dev. of 7 runs, 1000000 loops each)>,\n",
       " '_i39': 'x',\n",
       " '_39': <TimeitResult : 1.08 µs ± 18.6 ns per loop (mean ± std. dev. of 7 runs, 1000000 loops each)>,\n",
       " '_i40': 'x.loops',\n",
       " '_40': 1000000,\n",
       " '_i41': '%%timeit  a = 1\\ndef f(x, y, z):\\n    return (x+y)/z\\n\\na = a+ 5\\nb = 6\\nc = 7.5\\n\\nresult = f(a,b,c)',\n",
       " '_i42': '#help(set)\\nset = 1\\nb = set()',\n",
       " 'set': 1,\n",
       " '_i43': 'globals()'}"
      ]
     },
     "execution_count": 43,
     "metadata": {},
     "output_type": "execute_result"
    }
   ],
   "source": [
    "globals()"
   ]
  },
  {
   "cell_type": "code",
   "execution_count": 62,
   "metadata": {},
   "outputs": [
    {
     "name": "stdout",
     "output_type": "stream",
     "text": [
      "Once deleted, variables cannot be recovered. Proceed (y/[n])? y\n"
     ]
    }
   ],
   "source": [
    "%reset"
   ]
  },
  {
   "cell_type": "code",
   "execution_count": 63,
   "metadata": {},
   "outputs": [],
   "source": [
    "b = set()"
   ]
  },
  {
   "cell_type": "markdown",
   "metadata": {},
   "source": [
    "#### **Others**"
   ]
  },
  {
   "cell_type": "code",
   "execution_count": 103,
   "metadata": {},
   "outputs": [],
   "source": [
    "a = %env"
   ]
  },
  {
   "cell_type": "code",
   "execution_count": 104,
   "metadata": {},
   "outputs": [
    {
     "data": {
      "text/plain": [
       "{'Apple_PubSub_Socket_Render': '/private/tmp/com.apple.launchd.4lXggCXXdb/Render',\n",
       " 'CLICOLOR': '1',\n",
       " 'GIT_PAGER': 'cat',\n",
       " 'HOME': '/Users/berrada',\n",
       " 'JPY_PARENT_PID': '920',\n",
       " 'LANG': 'fr_FR.UTF-8',\n",
       " 'LOGNAME': 'berrada',\n",
       " 'MANPATH': '/Users/berrada/.nvm/versions/node/v6.11.1/share/man:/usr/local/opt/icu4c/share/man:/Users/berrada/miniconda3/share/man:/usr/share/man:/usr/local/share/man:/Library/Developer/CommandLineTools/usr/share/man',\n",
       " 'MPLBACKEND': 'module://ipykernel.pylab.backend_inline',\n",
       " 'NVM_BIN': '/Users/berrada/.nvm/versions/node/v6.11.1/bin',\n",
       " 'NVM_CD_FLAGS': '',\n",
       " 'NVM_DIR': '/Users/berrada/.nvm',\n",
       " 'NVM_IOJS_ORG_MIRROR': 'https://iojs.org/dist',\n",
       " 'NVM_NODEJS_ORG_MIRROR': 'https://nodejs.org/dist',\n",
       " 'NVM_PATH': '/Users/berrada/.nvm/versions/node/v6.11.1/lib/node',\n",
       " 'PAGER': 'cat',\n",
       " 'PATH': '/Users/berrada/miniconda3/bin:/Users/berrada/.nvm/versions/node/v6.11.1/bin:/usr/local/opt/icu4c/sbin:/usr/local/opt/icu4c/bin:/usr/local/opt/icu4c/sbin:/usr/local/opt/icu4c/bin:/Users/berrada/miniconda3/bin:/Users/berrada/miniconda3/bin:/usr/bin:/bin:/usr/sbin:/sbin:/usr/local/bin:/usr/texbin:/Applications/Wireshark.app/Contents/MacOS',\n",
       " 'PWD': '/Users/berrada',\n",
       " 'SECURITYSESSIONID': '186a7',\n",
       " 'SHELL': '/bin/bash',\n",
       " 'SHLVL': '1',\n",
       " 'SSH_AUTH_SOCK': '/private/tmp/com.apple.launchd.6svLLs5pk2/Listeners',\n",
       " 'TERM': 'xterm-color',\n",
       " 'TERM_PROGRAM': 'Apple_Terminal',\n",
       " 'TERM_PROGRAM_VERSION': '404',\n",
       " 'TERM_SESSION_ID': 'E610E184-94A2-4179-96CE-AC9A172ACAF1',\n",
       " 'TMPDIR': '/var/folders/sz/wn0dpf9935zbfbqblylwb4k00000gn/T/',\n",
       " 'USER': 'berrada',\n",
       " 'XPC_FLAGS': '0x0',\n",
       " 'XPC_SERVICE_NAME': '0',\n",
       " '_': '/Users/berrada/miniconda3/bin/jupyter',\n",
       " '__CF_USER_TEXT_ENCODING': '0x1F5:0x0:0x1'}"
      ]
     },
     "execution_count": 104,
     "metadata": {},
     "output_type": "execute_result"
    }
   ],
   "source": [
    "a"
   ]
  },
  {
   "cell_type": "code",
   "execution_count": 128,
   "metadata": {},
   "outputs": [
    {
     "name": "stdout",
     "output_type": "stream",
     "text": [
      "/Users/berrada/Python Book\n"
     ]
    }
   ],
   "source": [
    "%cd Python\\ Book"
   ]
  },
  {
   "cell_type": "code",
   "execution_count": 132,
   "metadata": {},
   "outputs": [],
   "source": [
    "a = %pwd"
   ]
  },
  {
   "cell_type": "markdown",
   "metadata": {},
   "source": [
    "a"
   ]
  },
  {
   "cell_type": "code",
   "execution_count": 133,
   "metadata": {},
   "outputs": [
    {
     "data": {
      "text/plain": [
       "'/Users/berrada/Python Book'"
      ]
     },
     "execution_count": 133,
     "metadata": {},
     "output_type": "execute_result"
    }
   ],
   "source": [
    "a"
   ]
  },
  {
   "cell_type": "code",
   "execution_count": 134,
   "metadata": {
    "collapsed": true,
    "jupyter": {
     "outputs_hidden": true
    }
   },
   "outputs": [],
   "source": [
    "%bookmark pb '/Users/berrada/Python Book'"
   ]
  },
  {
   "cell_type": "code",
   "execution_count": 137,
   "metadata": {},
   "outputs": [
    {
     "name": "stdout",
     "output_type": "stream",
     "text": [
      "/Users/berrada\n"
     ]
    }
   ],
   "source": [
    "%cd"
   ]
  },
  {
   "cell_type": "code",
   "execution_count": 138,
   "metadata": {},
   "outputs": [
    {
     "name": "stdout",
     "output_type": "stream",
     "text": [
      "(bookmark:pb) -> /Users/berrada/Python Book\n",
      "/Users/berrada/Python Book\n"
     ]
    }
   ],
   "source": [
    "%cd pb"
   ]
  }
 ],
 "metadata": {
  "kernelspec": {
   "display_name": "Python 3",
   "language": "python",
   "name": "python3"
  },
  "language_info": {
   "codemirror_mode": {
    "name": "ipython",
    "version": 3
   },
   "file_extension": ".py",
   "mimetype": "text/x-python",
   "name": "python",
   "nbconvert_exporter": "python",
   "pygments_lexer": "ipython3",
   "version": "3.8.5"
  }
 },
 "nbformat": 4,
 "nbformat_minor": 4
}
