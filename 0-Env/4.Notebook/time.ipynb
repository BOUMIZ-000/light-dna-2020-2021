{
 "cells": [
  {
   "cell_type": "markdown",
   "metadata": {},
   "source": [
    "# Getting the execution time\n",
    "\n",
    "    import time\n",
    "    start = time.time()\n",
    "    for i in range (20000):\n",
    "        pass\n",
    "    elapsed = (time.time() -start)/20000\n",
    "    print (elapsed)\n",
    "\n",
    "\n",
    "### IPython : %time and %timeit allow the automation module of time and timeit \n",
    "\n",
    "    %%timeit pass\n",
    "    for i in range (20000):\n",
    "        pass\n",
    "\n",
    "### A very large list of strings\n",
    "\n",
    "    strings = ['foo','foobar','baz','qux','python', 'Guido Van Rossum']*100000\n",
    "\n",
    "    #Wall time \n",
    "    %time method1 = [x for x in strings if x.startswith('foo')]\n",
    "    %time method2 = [x for x in strings if x[:3] == 'foo']\n",
    "\n",
    "    # The execution time\n",
    "    %timeit method1 = [x for x in strings if x.startswith('foo')]\n",
    "    %timeit method2 = [x for x in strings if x[:3] == 'foo']\n"
   ]
  }
 ],
 "metadata": {
  "kernelspec": {
   "display_name": "Python 3",
   "language": "python",
   "name": "python3"
  },
  "language_info": {
   "codemirror_mode": {
    "name": "ipython",
    "version": 3
   },
   "file_extension": ".py",
   "mimetype": "text/x-python",
   "name": "python",
   "nbconvert_exporter": "python",
   "pygments_lexer": "ipython3",
   "version": "3.8.5"
  }
 },
 "nbformat": 4,
 "nbformat_minor": 2
}
