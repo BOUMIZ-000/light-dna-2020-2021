{
 "cells": [
  {
   "cell_type": "markdown",
   "metadata": {},
   "source": [
    "# IPython -- An enhanced Interactive Python\n",
    "IPython offers a fully compatible replacement for the standard Python\n",
    "interpreter, with convenient shell features, special commands, command\n",
    "history mechanism and output results caching.\n"
   ]
  },
  {
   "cell_type": "markdown",
   "metadata": {},
   "source": [
    "### GETTING HELP : IPython and Python\n",
    "\n",
    "Within IPython you have various way to access help:\n",
    "- ?           : Introduction and overview of IPython's features.\n",
    "- object?     : Details about 'object' (or object + Shieft + Tab).\n",
    "- object??    : More detailed, verbose information about 'object'.\n",
    "- %quickref   : Quick reference of all IPython specific syntax and magics.\n",
    "- help        : Access Python's own help system.  \n",
    "- Tab         : Completion in the local namespace\n",
    "\n",
    "\n",
    "The help() function is possibly the most important Python function you can learn. If you can remember how to use help(), you hold the key to understanding most other function."
   ]
  },
  {
   "cell_type": "markdown",
   "metadata": {},
   "source": [
    "1) IPython help"
   ]
  },
  {
   "cell_type": "code",
   "execution_count": 34,
   "metadata": {},
   "outputs": [],
   "source": [
    "?"
   ]
  },
  {
   "cell_type": "markdown",
   "metadata": {},
   "source": [
    "2) Object help"
   ]
  },
  {
   "cell_type": "code",
   "execution_count": 35,
   "metadata": {},
   "outputs": [],
   "source": [
    "a = 1"
   ]
  },
  {
   "cell_type": "code",
   "execution_count": 36,
   "metadata": {},
   "outputs": [],
   "source": [
    "a?"
   ]
  },
  {
   "cell_type": "code",
   "execution_count": 41,
   "metadata": {},
   "outputs": [],
   "source": [
    "def myfunction(a):\n",
    "    '''\n",
    "    My function will do some nice job\n",
    "    a: param 1 is the size\n",
    "    return: the function will return some result \n",
    "    '''\n",
    "    b = a\n",
    "    b +=1\n",
    "    \n",
    "    return b"
   ]
  },
  {
   "cell_type": "code",
   "execution_count": 45,
   "metadata": {},
   "outputs": [],
   "source": [
    "#short help\n",
    "myfunction?"
   ]
  },
  {
   "cell_type": "code",
   "execution_count": null,
   "metadata": {},
   "outputs": [],
   "source": [
    "#details help\n",
    "myfunction??"
   ]
  },
  {
   "cell_type": "code",
   "execution_count": null,
   "metadata": {},
   "outputs": [],
   "source": [
    "#Shieft + Tab\n",
    "myfunction"
   ]
  },
  {
   "cell_type": "code",
   "execution_count": 46,
   "metadata": {
    "collapsed": true
   },
   "outputs": [
    {
     "name": "stdout",
     "output_type": "stream",
     "text": [
      "Help on class list in module builtins:\n",
      "\n",
      "class list(object)\n",
      " |  list(iterable=(), /)\n",
      " |  \n",
      " |  Built-in mutable sequence.\n",
      " |  \n",
      " |  If no argument is given, the constructor creates a new empty list.\n",
      " |  The argument must be an iterable if specified.\n",
      " |  \n",
      " |  Methods defined here:\n",
      " |  \n",
      " |  __add__(self, value, /)\n",
      " |      Return self+value.\n",
      " |  \n",
      " |  __contains__(self, key, /)\n",
      " |      Return key in self.\n",
      " |  \n",
      " |  __delitem__(self, key, /)\n",
      " |      Delete self[key].\n",
      " |  \n",
      " |  __eq__(self, value, /)\n",
      " |      Return self==value.\n",
      " |  \n",
      " |  __ge__(self, value, /)\n",
      " |      Return self>=value.\n",
      " |  \n",
      " |  __getattribute__(self, name, /)\n",
      " |      Return getattr(self, name).\n",
      " |  \n",
      " |  __getitem__(...)\n",
      " |      x.__getitem__(y) <==> x[y]\n",
      " |  \n",
      " |  __gt__(self, value, /)\n",
      " |      Return self>value.\n",
      " |  \n",
      " |  __iadd__(self, value, /)\n",
      " |      Implement self+=value.\n",
      " |  \n",
      " |  __imul__(self, value, /)\n",
      " |      Implement self*=value.\n",
      " |  \n",
      " |  __init__(self, /, *args, **kwargs)\n",
      " |      Initialize self.  See help(type(self)) for accurate signature.\n",
      " |  \n",
      " |  __iter__(self, /)\n",
      " |      Implement iter(self).\n",
      " |  \n",
      " |  __le__(self, value, /)\n",
      " |      Return self<=value.\n",
      " |  \n",
      " |  __len__(self, /)\n",
      " |      Return len(self).\n",
      " |  \n",
      " |  __lt__(self, value, /)\n",
      " |      Return self<value.\n",
      " |  \n",
      " |  __mul__(self, value, /)\n",
      " |      Return self*value.\n",
      " |  \n",
      " |  __ne__(self, value, /)\n",
      " |      Return self!=value.\n",
      " |  \n",
      " |  __repr__(self, /)\n",
      " |      Return repr(self).\n",
      " |  \n",
      " |  __reversed__(self, /)\n",
      " |      Return a reverse iterator over the list.\n",
      " |  \n",
      " |  __rmul__(self, value, /)\n",
      " |      Return value*self.\n",
      " |  \n",
      " |  __setitem__(self, key, value, /)\n",
      " |      Set self[key] to value.\n",
      " |  \n",
      " |  __sizeof__(self, /)\n",
      " |      Return the size of the list in memory, in bytes.\n",
      " |  \n",
      " |  append(self, object, /)\n",
      " |      Append object to the end of the list.\n",
      " |  \n",
      " |  clear(self, /)\n",
      " |      Remove all items from list.\n",
      " |  \n",
      " |  copy(self, /)\n",
      " |      Return a shallow copy of the list.\n",
      " |  \n",
      " |  count(self, value, /)\n",
      " |      Return number of occurrences of value.\n",
      " |  \n",
      " |  extend(self, iterable, /)\n",
      " |      Extend list by appending elements from the iterable.\n",
      " |  \n",
      " |  index(self, value, start=0, stop=9223372036854775807, /)\n",
      " |      Return first index of value.\n",
      " |      \n",
      " |      Raises ValueError if the value is not present.\n",
      " |  \n",
      " |  insert(self, index, object, /)\n",
      " |      Insert object before index.\n",
      " |  \n",
      " |  pop(self, index=-1, /)\n",
      " |      Remove and return item at index (default last).\n",
      " |      \n",
      " |      Raises IndexError if list is empty or index is out of range.\n",
      " |  \n",
      " |  remove(self, value, /)\n",
      " |      Remove first occurrence of value.\n",
      " |      \n",
      " |      Raises ValueError if the value is not present.\n",
      " |  \n",
      " |  reverse(self, /)\n",
      " |      Reverse *IN PLACE*.\n",
      " |  \n",
      " |  sort(self, /, *, key=None, reverse=False)\n",
      " |      Sort the list in ascending order and return None.\n",
      " |      \n",
      " |      The sort is in-place (i.e. the list itself is modified) and stable (i.e. the\n",
      " |      order of two equal elements is maintained).\n",
      " |      \n",
      " |      If a key function is given, apply it once to each list item and sort them,\n",
      " |      ascending or descending, according to their function values.\n",
      " |      \n",
      " |      The reverse flag can be set to sort in descending order.\n",
      " |  \n",
      " |  ----------------------------------------------------------------------\n",
      " |  Static methods defined here:\n",
      " |  \n",
      " |  __new__(*args, **kwargs) from builtins.type\n",
      " |      Create and return a new object.  See help(type) for accurate signature.\n",
      " |  \n",
      " |  ----------------------------------------------------------------------\n",
      " |  Data and other attributes defined here:\n",
      " |  \n",
      " |  __hash__ = None\n",
      "\n"
     ]
    }
   ],
   "source": [
    "#Python help\n",
    "help(list)"
   ]
  },
  {
   "cell_type": "code",
   "execution_count": 48,
   "metadata": {},
   "outputs": [],
   "source": [
    "# Get the different help of the module (np.random) \n",
    "# or an object (np.random.rand)\n",
    "import numpy as np\n"
   ]
  },
  {
   "cell_type": "code",
   "execution_count": 50,
   "metadata": {},
   "outputs": [],
   "source": [
    "#module help\n",
    "np?"
   ]
  },
  {
   "cell_type": "code",
   "execution_count": 51,
   "metadata": {},
   "outputs": [],
   "source": [
    "# \n",
    "np.sort?"
   ]
  },
  {
   "cell_type": "code",
   "execution_count": 33,
   "metadata": {},
   "outputs": [],
   "source": [
    "a?"
   ]
  },
  {
   "cell_type": "code",
   "execution_count": 18,
   "metadata": {},
   "outputs": [],
   "source": [
    "b = list()"
   ]
  },
  {
   "cell_type": "code",
   "execution_count": 19,
   "metadata": {},
   "outputs": [],
   "source": [
    "def  add_numbers(a,b):\n",
    "    \"\"\"\n",
    "    Add two number together\n",
    "    \n",
    "    Returns\n",
    "    -------\n",
    "    the_sum: type of arguments\n",
    "    \"\"\"\n",
    "    return a+b"
   ]
  },
  {
   "cell_type": "code",
   "execution_count": 20,
   "metadata": {},
   "outputs": [
    {
     "name": "stdout",
     "output_type": "stream",
     "text": [
      "Help on built-in function append:\n",
      "\n",
      "append(object, /) method of builtins.list instance\n",
      "    Append object to the end of the list.\n",
      "\n"
     ]
    }
   ],
   "source": [
    "help(b.append)"
   ]
  },
  {
   "cell_type": "code",
   "execution_count": null,
   "metadata": {},
   "outputs": [],
   "source": [
    "help(round)"
   ]
  },
  {
   "cell_type": "markdown",
   "metadata": {},
   "source": [
    "help() displays two things:\n",
    "\n",
    "    - the header of that function round(number[, ndigits]). In this case, this tells us that round() takes an argument we can describe as number. Additionally, we can optionally give a separate argument which could be described as ndigits.\n",
    "    - A brief English description of what the function does.\n",
    "\n"
   ]
  },
  {
   "cell_type": "code",
   "execution_count": 52,
   "metadata": {},
   "outputs": [],
   "source": [
    "#all method of b\n",
    "b.*?"
   ]
  },
  {
   "cell_type": "markdown",
   "metadata": {},
   "source": [
    "### MAIN FEATURES"
   ]
  },
  {
   "cell_type": "markdown",
   "metadata": {},
   "source": [
    "1) **Magic function system**: a series of functions which allow you to\n",
    "control the behavior of IPython itself, plus a lot of system-type\n",
    "features. There are two kinds of magics:\n",
    "\n",
    "    - **Line magics % cell commands**: they get as an argument the rest of the line, where arguments are passed without parentheses or quotes.  For example, this will time the given statement::\n",
    "\n",
    "        %timeit range(1000)\n",
    "\n",
    "    - **Cell magics %% commands**:  they are functions that get as an argument not only the rest of the line, but also the lines below it in a separate argument.  These magics are called with two arguments: the rest of the call line and the body of the cell, consisting of the lines below the first. For example::\n",
    "\n",
    "        %%timeit x = numpy.random.randn((100, 100))\n",
    "        numpy.linalg.svd(x)"
   ]
  },
  {
   "cell_type": "code",
   "execution_count": 21,
   "metadata": {},
   "outputs": [],
   "source": [
    "%magic"
   ]
  },
  {
   "cell_type": "markdown",
   "metadata": {},
   "source": [
    "- %alias: Define an alias for a system command.\n",
    "- %autocall: Make functions callable without having to type parentheses.\n",
    "- %bookmark: Manage IPython's bookmark system.\n",
    "- **%cd: Change the current working directory.*\n",
    "- %dirs: Return the current directory stack.\n",
    "- %env: Get, set, or list environment variables.\n",
    "- %hist: Alias for `%history`.\n",
    "- %matplotlib: ::\n",
    "- **%pwd: Return the current working directory path.**\n",
    "- **%reset: Resets the namespace by removing all names defined by the user if**\n",
    "- **%run: Run the named file inside IPython as a program.**\n",
    "- %save: Save a set of lines or a macro to a given filename.\n",
    "- **%time or %%: Time execution of a Python statement or expression.**\n",
    "- **%timeitor %%: Time execution of a Python statement or expression**\n",
    "- **%%!: run shell command and capture output (!! is short-hand).**\n",
    "- %%file: Alias for `%%writefile`.\n",
    "- %%writefile: ::"
   ]
  },
  {
   "cell_type": "code",
   "execution_count": 18,
   "metadata": {},
   "outputs": [
    {
     "data": {
      "text/plain": [
       "'C:\\\\Cours\\\\2020-2021\\\\0-Env\\\\4.Notebook'"
      ]
     },
     "execution_count": 18,
     "metadata": {},
     "output_type": "execute_result"
    }
   ],
   "source": [
    "%pwd # work also without %"
   ]
  },
  {
   "cell_type": "code",
   "execution_count": 3,
   "metadata": {},
   "outputs": [
    {
     "name": "stdout",
     "output_type": "stream",
     "text": [
      "C:\\Cours\\2020-2021\n"
     ]
    }
   ],
   "source": [
    "%cd .."
   ]
  },
  {
   "cell_type": "code",
   "execution_count": 7,
   "metadata": {},
   "outputs": [
    {
     "name": "stdout",
     "output_type": "stream",
     "text": [
      "C:\\Cours\\2020-2021\\0-Env\\4.Notebook\n"
     ]
    }
   ],
   "source": [
    "cd \"C:\\\\Cours\\\\2020-2021\\\\0-Env\\\\4.Notebook\""
   ]
  },
  {
   "cell_type": "code",
   "execution_count": 31,
   "metadata": {
    "collapsed": true
   },
   "outputs": [
    {
     "name": "stdout",
     "output_type": "stream",
     "text": [
      " Le volume dans le lecteur C n'a pas de nom.\n",
      " Le num‚ro de s‚rie du volume est 9E5C-E5AA\n",
      "\n",
      " R‚pertoire de C:\\Cours\\2020-2021\\0-Env\\4.Notebook\n",
      "\n",
      "24/09/2020  10:39    <DIR>          .\n",
      "24/09/2020  10:39    <DIR>          ..\n",
      "24/09/2020  10:03    <DIR>          .ipynb_checkpoints\n",
      "24/09/2020  09:38           191ÿ035 4.1.notebook.ipynb\n",
      "23/09/2020  01:04         1ÿ939ÿ002 4.2.markdown-cheatsheet-online.pdf\n",
      "24/09/2020  10:39            30ÿ210 ipython.ipynb\n",
      "27/02/2020  08:33                74 ipython_script_test.py\n",
      "27/02/2020  08:33            62ÿ719 salll.jpg\n",
      "27/02/2020  08:33             1ÿ480 time.ipynb\n",
      "               6 fichier(s)        2ÿ224ÿ520 octets\n",
      "               3 R‚p(s)  360ÿ854ÿ622ÿ208 octets libres\n"
     ]
    }
   ],
   "source": [
    "ls"
   ]
  },
  {
   "cell_type": "code",
   "execution_count": 8,
   "metadata": {},
   "outputs": [],
   "source": [
    "%run ipython_script_test.py"
   ]
  },
  {
   "cell_type": "markdown",
   "metadata": {},
   "source": [
    "2) Persistent command history across sessions."
   ]
  },
  {
   "cell_type": "code",
   "execution_count": 23,
   "metadata": {
    "collapsed": true
   },
   "outputs": [
    {
     "name": "stdout",
     "output_type": "stream",
     "text": [
      "%pwd\n",
      "cd ..\n",
      "%cd ..\n",
      "%run ipython_script_test.py\n",
      "cd\n",
      "cd 'C:\\\\Cours\\\\2020-2021\\\\0-Env\\\\4.Notebook'\n",
      "cd \"C:\\\\Cours\\\\2020-2021\\\\0-Env\\\\4.Notebook\"\n",
      "%run ipython_script_test.py\n",
      "!python --version\n",
      "a =1\n",
      "b = 2\n",
      "print(b)\n",
      "print(a)\n",
      "_10\n",
      "__10\n",
      "__9\n",
      "*_10\n",
      "* _10\n",
      "%quickref\n",
      "%quickref\n",
      "pwd\n",
      "%quickref\n",
      "%magic\n",
      "%magic\n",
      "hist\n",
      "hist\n"
     ]
    }
   ],
   "source": [
    "hist"
   ]
  },
  {
   "cell_type": "markdown",
   "metadata": {},
   "source": [
    "3) System shell with !. Typing !ls will run 'ls' in the current directory."
   ]
  },
  {
   "cell_type": "code",
   "execution_count": 24,
   "metadata": {},
   "outputs": [
    {
     "name": "stdout",
     "output_type": "stream",
     "text": [
      "Python 3.8.5\n"
     ]
    }
   ],
   "source": [
    "!python --version"
   ]
  },
  {
   "cell_type": "code",
   "execution_count": null,
   "metadata": {},
   "outputs": [],
   "source": [
    "foo = '*.jpg'"
   ]
  },
  {
   "cell_type": "code",
   "execution_count": null,
   "metadata": {},
   "outputs": [],
   "source": [
    "a = !ls $foo"
   ]
  },
  {
   "cell_type": "code",
   "execution_count": null,
   "metadata": {},
   "outputs": [],
   "source": [
    "len(a)"
   ]
  },
  {
   "cell_type": "code",
   "execution_count": 66,
   "metadata": {},
   "outputs": [
    {
     "data": {
      "text/plain": [
       "[\"'pwd' n'est pas reconnu en tant que commande interne\",\n",
       " 'ou externe, un programme ex‚cutable ou un fichier de commandes.']"
      ]
     },
     "execution_count": 66,
     "metadata": {},
     "output_type": "execute_result"
    }
   ],
   "source": [
    "%%!\n",
    "pwd\n",
    "dir"
   ]
  },
  {
   "cell_type": "markdown",
   "metadata": {},
   "source": [
    "4) Input caching system: input is saved and can be retrieved as variables \n",
    "  * The following GLOBAL variables always exist (so don't overwrite them!):\n",
    "     - _i: stores previous input.\n",
    "     - _ii: next previous.\n",
    "     - _iii: next-next previous.\n",
    "     - _ih : a list of all input _ih[n] is the input from line n.\n",
    "     - Additionally, global variables named _i<n> are dynamically created (<n> being the prompt counter), such that _i<n> == _ih[<n>]. For   example, what you typed at prompt 14 is available as _i14 and _ih[14].\n"
   ]
  },
  {
   "cell_type": "code",
   "execution_count": 26,
   "metadata": {},
   "outputs": [
    {
     "data": {
      "text/plain": [
       "'%pwd'"
      ]
     },
     "execution_count": 26,
     "metadata": {},
     "output_type": "execute_result"
    }
   ],
   "source": [
    "_i1"
   ]
  },
  {
   "cell_type": "markdown",
   "metadata": {},
   "source": [
    "5) Output caching system: For output that is returned from actions, a system similar to the input cache exists but using _ instead of _i. Only actions that produce a result(NOT assignments, for example) are cached. The following GLOBAL variables always exist (so don't overwrite them!):\n",
    "\n",
    "      - _ (one underscore): previous output.\n",
    "      \n",
    "      - __ (two underscores): next previous.\n",
    "      \n",
    "      - ___ (three underscores): next-next previous.\n",
    "      \n",
    "      - Global variables named _<n> are dynamically created (<n> being the prompt counter), such that the result of output <n> is always available as _<n>."
   ]
  },
  {
   "cell_type": "code",
   "execution_count": 27,
   "metadata": {},
   "outputs": [
    {
     "data": {
      "text/plain": [
       "'%pwd'"
      ]
     },
     "execution_count": 27,
     "metadata": {},
     "output_type": "execute_result"
    }
   ],
   "source": [
    "_"
   ]
  },
  {
   "cell_type": "markdown",
   "metadata": {},
   "source": [
    "6) Debugger"
   ]
  },
  {
   "cell_type": "code",
   "execution_count": 41,
   "metadata": {},
   "outputs": [
    {
     "name": "stdout",
     "output_type": "stream",
     "text": [
      "Automatic pdb calling has been turned OFF\n"
     ]
    }
   ],
   "source": [
    "%pdb"
   ]
  },
  {
   "cell_type": "markdown",
   "metadata": {},
   "source": [
    "7) Execution time\n",
    "\n"
   ]
  },
  {
   "cell_type": "code",
   "execution_count": 53,
   "metadata": {},
   "outputs": [
    {
     "name": "stdout",
     "output_type": "stream",
     "text": [
      "3.84 µs ± 275 ns per loop (mean ± std. dev. of 7 runs, 100000 loops each)\n"
     ]
    }
   ],
   "source": [
    "import numpy as np\n",
    "\n",
    "x = %timeit -o -t np.dot(a,a)"
   ]
  },
  {
   "cell_type": "code",
   "execution_count": 54,
   "metadata": {},
   "outputs": [
    {
     "data": {
      "text/plain": [
       "<TimeitResult : 3.84 µs ± 275 ns per loop (mean ± std. dev. of 7 runs, 100000 loops each)>"
      ]
     },
     "execution_count": 54,
     "metadata": {},
     "output_type": "execute_result"
    }
   ],
   "source": [
    "x"
   ]
  },
  {
   "cell_type": "code",
   "execution_count": 55,
   "metadata": {},
   "outputs": [
    {
     "data": {
      "text/plain": [
       "100000"
      ]
     },
     "execution_count": 55,
     "metadata": {},
     "output_type": "execute_result"
    }
   ],
   "source": [
    "x.loops"
   ]
  },
  {
   "cell_type": "code",
   "execution_count": 56,
   "metadata": {},
   "outputs": [
    {
     "name": "stdout",
     "output_type": "stream",
     "text": [
      "692 ns ± 8.49 ns per loop (mean ± std. dev. of 7 runs, 1000000 loops each)\n"
     ]
    }
   ],
   "source": [
    "%%timeit  a = 1\n",
    "def f(x, y, z):\n",
    "    return (x+y)/z\n",
    "\n",
    "a = a+ 5\n",
    "b = 6\n",
    "c = 7.5\n",
    "\n",
    "result = f(a,b,c)"
   ]
  },
  {
   "cell_type": "code",
   "execution_count": 57,
   "metadata": {},
   "outputs": [
    {
     "name": "stdout",
     "output_type": "stream",
     "text": [
      "4.24 ms ± 416 µs per loop (mean ± std. dev. of 7 runs, 1 loop each)\n"
     ]
    }
   ],
   "source": [
    "%%timeit \n",
    "x = np.random.randn(100, 100)\n",
    "z = np.linalg.svd(x)"
   ]
  },
  {
   "cell_type": "markdown",
   "metadata": {},
   "source": [
    "8) Namespaces\n",
    "\n",
    "A namespace is a collection of names. In Python, you can imagine a namespace as a mapping of every name you have defined to corresponding objects. Different namespaces can co-exist at a given time but are completely isolated.\n",
    "- see https://www.programiz.com/python-programming/namespace\n",
    "- also https://www.programiz.com/python-programming/methods/built-in/globals\n",
    "    "
   ]
  },
  {
   "cell_type": "code",
   "execution_count": 59,
   "metadata": {},
   "outputs": [
    {
     "ename": "TypeError",
     "evalue": "'int' object is not callable",
     "output_type": "error",
     "traceback": [
      "\u001b[1;31m---------------------------------------------------------------------------\u001b[0m",
      "\u001b[1;31mTypeError\u001b[0m                                 Traceback (most recent call last)",
      "\u001b[1;32m<ipython-input-59-61c487e88e32>\u001b[0m in \u001b[0;36m<module>\u001b[1;34m\u001b[0m\n\u001b[0;32m      1\u001b[0m \u001b[1;31m#help(set)\u001b[0m\u001b[1;33m\u001b[0m\u001b[1;33m\u001b[0m\u001b[1;33m\u001b[0m\u001b[0m\n\u001b[0;32m      2\u001b[0m \u001b[0mset\u001b[0m \u001b[1;33m=\u001b[0m \u001b[1;36m1\u001b[0m\u001b[1;33m\u001b[0m\u001b[1;33m\u001b[0m\u001b[0m\n\u001b[1;32m----> 3\u001b[1;33m \u001b[0mb\u001b[0m \u001b[1;33m=\u001b[0m \u001b[0mset\u001b[0m\u001b[1;33m(\u001b[0m\u001b[1;33m)\u001b[0m\u001b[1;33m\u001b[0m\u001b[1;33m\u001b[0m\u001b[0m\n\u001b[0m",
      "\u001b[1;31mTypeError\u001b[0m: 'int' object is not callable"
     ]
    }
   ],
   "source": [
    "#help(set)\n",
    "set = 1\n",
    "b = set()"
   ]
  },
  {
   "cell_type": "code",
   "execution_count": 60,
   "metadata": {},
   "outputs": [
    {
     "data": {
      "text/plain": [
       "{'__name__': '__main__',\n",
       " '__doc__': 'Module created for script run in IPython',\n",
       " '__package__': None,\n",
       " '__loader__': None,\n",
       " '__spec__': None,\n",
       " '__builtin__': <module 'builtins' (built-in)>,\n",
       " '__builtins__': <module 'builtins' (built-in)>,\n",
       " '_ih': ['',\n",
       "  \"get_ipython().run_line_magic('pwd', '')\",\n",
       "  \"get_ipython().run_line_magic('cd', '..')\",\n",
       "  \"get_ipython().run_line_magic('cd', '..')\",\n",
       "  \"get_ipython().run_line_magic('run', 'ipython_script_test.py')\",\n",
       "  \"get_ipython().run_line_magic('cd', '')\",\n",
       "  'get_ipython().run_line_magic(\\'cd\\', \"\\'C:\\\\\\\\\\\\\\\\Cours\\\\\\\\\\\\\\\\2020-2021\\\\\\\\\\\\\\\\0-Env\\\\\\\\\\\\\\\\4.Notebook\\'\")',\n",
       "  'get_ipython().run_line_magic(\\'cd\\', \\'\"C:\\\\\\\\\\\\\\\\Cours\\\\\\\\\\\\\\\\2020-2021\\\\\\\\\\\\\\\\0-Env\\\\\\\\\\\\\\\\4.Notebook\"\\')',\n",
       "  \"get_ipython().run_line_magic('run', 'ipython_script_test.py')\",\n",
       "  \"get_ipython().system('python --version')\",\n",
       "  'a =1\\nb = 2\\nprint(b)\\nprint(a)',\n",
       "  '_10',\n",
       "  '__10',\n",
       "  '__9',\n",
       "  '*_10',\n",
       "  '* _10',\n",
       "  \"get_ipython().run_line_magic('quickref', '')\",\n",
       "  \"get_ipython().run_line_magic('quickref', '')\",\n",
       "  \"get_ipython().run_line_magic('pwd', '')\",\n",
       "  \"get_ipython().run_line_magic('quickref', '')\",\n",
       "  \"get_ipython().run_line_magic('magic', '')\",\n",
       "  \"get_ipython().run_line_magic('magic', '')\",\n",
       "  \"get_ipython().run_line_magic('hist', '')\",\n",
       "  \"get_ipython().run_line_magic('hist', '')\",\n",
       "  \"get_ipython().system('python --version')\",\n",
       "  '_i14',\n",
       "  '_i1',\n",
       "  '_',\n",
       "  \"get_ipython().system('ls')\",\n",
       "  \"get_ipython().run_line_magic('ls', '')\",\n",
       "  \"get_ipython().run_line_magic('ls', '')\",\n",
       "  \"get_ipython().run_line_magic('ls', '')\",\n",
       "  'a = [1,1,3]',\n",
       "  \"get_ipython().run_line_magic('pinfo', 'a')\",\n",
       "  'get_ipython().show_usage()',\n",
       "  'a = 1',\n",
       "  \"get_ipython().run_line_magic('pinfo', 'a')\",\n",
       "  \"get_ipython().run_line_magic('pinfo2', 'a')\",\n",
       "  \"get_ipython().run_line_magic('pinfo2', 'list')\",\n",
       "  \"get_ipython().run_line_magic('pinfo', 'list')\",\n",
       "  \"get_ipython().run_line_magic('pinfo', 'numpy')\",\n",
       "  \"def myfunction(a):\\n    '''\\n    My function will do some nice job\\n    a: param 1 is the size\\n    return: the function will return some result \\n    '''\\n    b = a\\n    b +=1\\n    \\n    return b\",\n",
       "  'a = myfunction(2)',\n",
       "  'type(a)',\n",
       "  \"get_ipython().set_next_input('a = myfunction');get_ipython().run_line_magic('pinfo', 'myfunction')\",\n",
       "  \"get_ipython().set_next_input('a = myfunction');get_ipython().run_line_magic('pinfo2', 'myfunction')\",\n",
       "  'help(list)',\n",
       "  'help list',\n",
       "  '# Get the different help of the module (np.random) \\n# or an object (np.random.rand)\\nimport numpy as np',\n",
       "  'help (np)',\n",
       "  \"get_ipython().run_line_magic('pinfo', 'np')\",\n",
       "  \"# \\n\\nget_ipython().run_line_magic('pinfo', 'np.sort')\",\n",
       "  \"get_ipython().run_line_magic('psearch', 'b.*')\",\n",
       "  \"import numpy as np\\n\\nx = get_ipython().run_line_magic('timeit', '-o -t np.dot(a,a)')\",\n",
       "  'x',\n",
       "  'x.loops',\n",
       "  \"get_ipython().run_cell_magic('timeit', ' a = 1', 'def f(x, y, z):\\\\n    return (x+y)/z\\\\n\\\\na = a+ 5\\\\nb = 6\\\\nc = 7.5\\\\n\\\\nresult = f(a,b,c)\\\\n')\",\n",
       "  \"get_ipython().run_cell_magic('timeit', '', 'x = np.random.randn(100, 100)\\\\nz = np.linalg.svd(x)\\\\n')\",\n",
       "  '8) Namespaces\\n\\nA namespace is a collection of names. In Python, you can imagine a namespace as a mapping of every name you have defined to corresponding objects. Different namespaces can co-exist at a given time but are completely isolated.\\n- see https://www.programiz.com/python-programming/namespace\\n- https://www.programiz.com/python-programming/methods/built-in/globals\\n    ',\n",
       "  '#help(set)\\nset = 1\\nb = set()',\n",
       "  'globals()'],\n",
       " '_oh': {1: 'C:\\\\Cours\\\\2020-2021\\\\0-Env\\\\4.Notebook',\n",
       "  18: 'C:\\\\Cours\\\\2020-2021\\\\0-Env\\\\4.Notebook',\n",
       "  25: '*_10',\n",
       "  26: '%pwd',\n",
       "  27: '%pwd',\n",
       "  43: int,\n",
       "  54: <TimeitResult : 3.84 µs ± 275 ns per loop (mean ± std. dev. of 7 runs, 100000 loops each)>,\n",
       "  55: 100000},\n",
       " '_dh': ['C:\\\\Cours\\\\2020-2021\\\\0-Env\\\\4.Notebook',\n",
       "  'C:\\\\Cours\\\\2020-2021\\\\0-Env',\n",
       "  'C:\\\\Cours\\\\2020-2021',\n",
       "  'C:\\\\Users\\\\ismail.berrada',\n",
       "  'C:\\\\Cours\\\\2020-2021\\\\0-Env\\\\4.Notebook'],\n",
       " 'In': ['',\n",
       "  \"get_ipython().run_line_magic('pwd', '')\",\n",
       "  \"get_ipython().run_line_magic('cd', '..')\",\n",
       "  \"get_ipython().run_line_magic('cd', '..')\",\n",
       "  \"get_ipython().run_line_magic('run', 'ipython_script_test.py')\",\n",
       "  \"get_ipython().run_line_magic('cd', '')\",\n",
       "  'get_ipython().run_line_magic(\\'cd\\', \"\\'C:\\\\\\\\\\\\\\\\Cours\\\\\\\\\\\\\\\\2020-2021\\\\\\\\\\\\\\\\0-Env\\\\\\\\\\\\\\\\4.Notebook\\'\")',\n",
       "  'get_ipython().run_line_magic(\\'cd\\', \\'\"C:\\\\\\\\\\\\\\\\Cours\\\\\\\\\\\\\\\\2020-2021\\\\\\\\\\\\\\\\0-Env\\\\\\\\\\\\\\\\4.Notebook\"\\')',\n",
       "  \"get_ipython().run_line_magic('run', 'ipython_script_test.py')\",\n",
       "  \"get_ipython().system('python --version')\",\n",
       "  'a =1\\nb = 2\\nprint(b)\\nprint(a)',\n",
       "  '_10',\n",
       "  '__10',\n",
       "  '__9',\n",
       "  '*_10',\n",
       "  '* _10',\n",
       "  \"get_ipython().run_line_magic('quickref', '')\",\n",
       "  \"get_ipython().run_line_magic('quickref', '')\",\n",
       "  \"get_ipython().run_line_magic('pwd', '')\",\n",
       "  \"get_ipython().run_line_magic('quickref', '')\",\n",
       "  \"get_ipython().run_line_magic('magic', '')\",\n",
       "  \"get_ipython().run_line_magic('magic', '')\",\n",
       "  \"get_ipython().run_line_magic('hist', '')\",\n",
       "  \"get_ipython().run_line_magic('hist', '')\",\n",
       "  \"get_ipython().system('python --version')\",\n",
       "  '_i14',\n",
       "  '_i1',\n",
       "  '_',\n",
       "  \"get_ipython().system('ls')\",\n",
       "  \"get_ipython().run_line_magic('ls', '')\",\n",
       "  \"get_ipython().run_line_magic('ls', '')\",\n",
       "  \"get_ipython().run_line_magic('ls', '')\",\n",
       "  'a = [1,1,3]',\n",
       "  \"get_ipython().run_line_magic('pinfo', 'a')\",\n",
       "  'get_ipython().show_usage()',\n",
       "  'a = 1',\n",
       "  \"get_ipython().run_line_magic('pinfo', 'a')\",\n",
       "  \"get_ipython().run_line_magic('pinfo2', 'a')\",\n",
       "  \"get_ipython().run_line_magic('pinfo2', 'list')\",\n",
       "  \"get_ipython().run_line_magic('pinfo', 'list')\",\n",
       "  \"get_ipython().run_line_magic('pinfo', 'numpy')\",\n",
       "  \"def myfunction(a):\\n    '''\\n    My function will do some nice job\\n    a: param 1 is the size\\n    return: the function will return some result \\n    '''\\n    b = a\\n    b +=1\\n    \\n    return b\",\n",
       "  'a = myfunction(2)',\n",
       "  'type(a)',\n",
       "  \"get_ipython().set_next_input('a = myfunction');get_ipython().run_line_magic('pinfo', 'myfunction')\",\n",
       "  \"get_ipython().set_next_input('a = myfunction');get_ipython().run_line_magic('pinfo2', 'myfunction')\",\n",
       "  'help(list)',\n",
       "  'help list',\n",
       "  '# Get the different help of the module (np.random) \\n# or an object (np.random.rand)\\nimport numpy as np',\n",
       "  'help (np)',\n",
       "  \"get_ipython().run_line_magic('pinfo', 'np')\",\n",
       "  \"# \\n\\nget_ipython().run_line_magic('pinfo', 'np.sort')\",\n",
       "  \"get_ipython().run_line_magic('psearch', 'b.*')\",\n",
       "  \"import numpy as np\\n\\nx = get_ipython().run_line_magic('timeit', '-o -t np.dot(a,a)')\",\n",
       "  'x',\n",
       "  'x.loops',\n",
       "  \"get_ipython().run_cell_magic('timeit', ' a = 1', 'def f(x, y, z):\\\\n    return (x+y)/z\\\\n\\\\na = a+ 5\\\\nb = 6\\\\nc = 7.5\\\\n\\\\nresult = f(a,b,c)\\\\n')\",\n",
       "  \"get_ipython().run_cell_magic('timeit', '', 'x = np.random.randn(100, 100)\\\\nz = np.linalg.svd(x)\\\\n')\",\n",
       "  '8) Namespaces\\n\\nA namespace is a collection of names. In Python, you can imagine a namespace as a mapping of every name you have defined to corresponding objects. Different namespaces can co-exist at a given time but are completely isolated.\\n- see https://www.programiz.com/python-programming/namespace\\n- https://www.programiz.com/python-programming/methods/built-in/globals\\n    ',\n",
       "  '#help(set)\\nset = 1\\nb = set()',\n",
       "  'globals()'],\n",
       " 'Out': {1: 'C:\\\\Cours\\\\2020-2021\\\\0-Env\\\\4.Notebook',\n",
       "  18: 'C:\\\\Cours\\\\2020-2021\\\\0-Env\\\\4.Notebook',\n",
       "  25: '*_10',\n",
       "  26: '%pwd',\n",
       "  27: '%pwd',\n",
       "  43: int,\n",
       "  54: <TimeitResult : 3.84 µs ± 275 ns per loop (mean ± std. dev. of 7 runs, 100000 loops each)>,\n",
       "  55: 100000},\n",
       " 'get_ipython': <bound method InteractiveShell.get_ipython of <ipykernel.zmqshell.ZMQInteractiveShell object at 0x0000025A1B7B2790>>,\n",
       " 'exit': <IPython.core.autocall.ZMQExitAutocall at 0x25a1b85bfa0>,\n",
       " 'quit': <IPython.core.autocall.ZMQExitAutocall at 0x25a1b85bfa0>,\n",
       " '_': 100000,\n",
       " '__': <TimeitResult : 3.84 µs ± 275 ns per loop (mean ± std. dev. of 7 runs, 100000 loops each)>,\n",
       " '___': int,\n",
       " '_i': '#help(set)\\nset = 1\\nb = set()',\n",
       " '_ii': '8) Namespaces\\n\\nA namespace is a collection of names. In Python, you can imagine a namespace as a mapping of every name you have defined to corresponding objects. Different namespaces can co-exist at a given time but are completely isolated.\\n- see https://www.programiz.com/python-programming/namespace\\n- https://www.programiz.com/python-programming/methods/built-in/globals\\n    ',\n",
       " '_iii': '%%timeit \\nx = np.random.randn(100, 100)\\nz = np.linalg.svd(x)',\n",
       " '_i1': '%pwd',\n",
       " '_1': 'C:\\\\Cours\\\\2020-2021\\\\0-Env\\\\4.Notebook',\n",
       " '_i2': 'cd ..',\n",
       " '_i3': '%cd ..',\n",
       " '_i4': '%run ipython_script_test.py',\n",
       " '_i5': 'cd',\n",
       " '_i6': \"cd 'C:\\\\\\\\Cours\\\\\\\\2020-2021\\\\\\\\0-Env\\\\\\\\4.Notebook'\",\n",
       " '_i7': 'cd \"C:\\\\\\\\Cours\\\\\\\\2020-2021\\\\\\\\0-Env\\\\\\\\4.Notebook\"',\n",
       " '_i8': '%run ipython_script_test.py',\n",
       " '__nonzero__': <function IPython.core.interactiveshell.InteractiveShell.new_main_mod.<locals>.<lambda>()>,\n",
       " 'f': <function __main__.f(x, y, z)>,\n",
       " 'a': 3,\n",
       " 'b': 2,\n",
       " 'c': 7.5,\n",
       " 'result': 1.4666666666666666,\n",
       " '_i9': '!python --version',\n",
       " '_exit_code': 0,\n",
       " '_i10': 'a =1\\nb = 2\\nprint(b)\\nprint(a)',\n",
       " '_i11': '_10',\n",
       " '_i12': '__10',\n",
       " '_i13': '__9',\n",
       " '_i14': '*_10',\n",
       " '_i15': '* _10',\n",
       " '_i16': '%quickref',\n",
       " '_i17': '%quickref',\n",
       " '_i18': 'pwd',\n",
       " '_18': 'C:\\\\Cours\\\\2020-2021\\\\0-Env\\\\4.Notebook',\n",
       " '_i19': '%quickref',\n",
       " '_i20': '%magic',\n",
       " '_i21': '%magic',\n",
       " '_i22': 'hist',\n",
       " '_i23': 'hist',\n",
       " '_i24': '!python --version',\n",
       " '_i25': '_i14',\n",
       " '_25': '*_10',\n",
       " '_i26': '_i1',\n",
       " '_26': '%pwd',\n",
       " '_i27': '_',\n",
       " '_27': '%pwd',\n",
       " '_i28': '!ls',\n",
       " '_i29': 'ls',\n",
       " '_i30': 'ls',\n",
       " '_i31': '%ls',\n",
       " '_i32': 'a = [1,1,3]',\n",
       " '_i33': 'a?',\n",
       " '_i34': '?',\n",
       " '_i35': 'a = 1',\n",
       " '_i36': 'a?',\n",
       " '_i37': 'a??',\n",
       " '_i38': 'list??',\n",
       " '_i39': 'list?',\n",
       " '_i40': 'numpy?',\n",
       " '_i41': \"def myfunction(a):\\n    '''\\n    My function will do some nice job\\n    a: param 1 is the size\\n    return: the function will return some result \\n    '''\\n    b = a\\n    b +=1\\n    \\n    return b\",\n",
       " 'myfunction': <function __main__.myfunction(a)>,\n",
       " '_i42': 'a = myfunction(2)',\n",
       " '_i43': 'type(a)',\n",
       " '_43': int,\n",
       " '_i44': 'a = myfunction?',\n",
       " '_i45': 'a = myfunction??',\n",
       " '_i46': 'help(list)',\n",
       " '_i47': 'help list',\n",
       " '_i48': '# Get the different help of the module (np.random) \\n# or an object (np.random.rand)\\nimport numpy as np',\n",
       " 'np': <module 'numpy' from 'C:\\\\ProgramData\\\\Anaconda3\\\\envs\\\\firstDNA\\\\lib\\\\site-packages\\\\numpy\\\\__init__.py'>,\n",
       " '_i49': 'help (np)',\n",
       " '_i50': 'np?',\n",
       " '_i51': '# \\n\\nnp.sort?',\n",
       " '_i52': 'b.*?',\n",
       " '_i53': 'import numpy as np\\n\\nx = %timeit -o -t np.dot(a,a)',\n",
       " 'x': <TimeitResult : 3.84 µs ± 275 ns per loop (mean ± std. dev. of 7 runs, 100000 loops each)>,\n",
       " '_i54': 'x',\n",
       " '_54': <TimeitResult : 3.84 µs ± 275 ns per loop (mean ± std. dev. of 7 runs, 100000 loops each)>,\n",
       " '_i55': 'x.loops',\n",
       " '_55': 100000,\n",
       " '_i56': '%%timeit  a = 1\\ndef f(x, y, z):\\n    return (x+y)/z\\n\\na = a+ 5\\nb = 6\\nc = 7.5\\n\\nresult = f(a,b,c)',\n",
       " '_i57': '%%timeit \\nx = np.random.randn(100, 100)\\nz = np.linalg.svd(x)',\n",
       " '_i58': '8) Namespaces\\n\\nA namespace is a collection of names. In Python, you can imagine a namespace as a mapping of every name you have defined to corresponding objects. Different namespaces can co-exist at a given time but are completely isolated.\\n- see https://www.programiz.com/python-programming/namespace\\n- https://www.programiz.com/python-programming/methods/built-in/globals\\n    ',\n",
       " '_i59': '#help(set)\\nset = 1\\nb = set()',\n",
       " 'set': 1,\n",
       " '_i60': 'globals()'}"
      ]
     },
     "execution_count": 60,
     "metadata": {},
     "output_type": "execute_result"
    }
   ],
   "source": [
    "globals()"
   ]
  },
  {
   "cell_type": "code",
   "execution_count": 62,
   "metadata": {},
   "outputs": [
    {
     "name": "stdout",
     "output_type": "stream",
     "text": [
      "Once deleted, variables cannot be recovered. Proceed (y/[n])? y\n"
     ]
    }
   ],
   "source": [
    "%reset"
   ]
  },
  {
   "cell_type": "code",
   "execution_count": 63,
   "metadata": {},
   "outputs": [],
   "source": [
    "b = set()"
   ]
  },
  {
   "cell_type": "markdown",
   "metadata": {},
   "source": [
    "9) Others"
   ]
  },
  {
   "cell_type": "code",
   "execution_count": 103,
   "metadata": {},
   "outputs": [],
   "source": [
    "a = %env"
   ]
  },
  {
   "cell_type": "code",
   "execution_count": 104,
   "metadata": {},
   "outputs": [
    {
     "data": {
      "text/plain": [
       "{'Apple_PubSub_Socket_Render': '/private/tmp/com.apple.launchd.4lXggCXXdb/Render',\n",
       " 'CLICOLOR': '1',\n",
       " 'GIT_PAGER': 'cat',\n",
       " 'HOME': '/Users/berrada',\n",
       " 'JPY_PARENT_PID': '920',\n",
       " 'LANG': 'fr_FR.UTF-8',\n",
       " 'LOGNAME': 'berrada',\n",
       " 'MANPATH': '/Users/berrada/.nvm/versions/node/v6.11.1/share/man:/usr/local/opt/icu4c/share/man:/Users/berrada/miniconda3/share/man:/usr/share/man:/usr/local/share/man:/Library/Developer/CommandLineTools/usr/share/man',\n",
       " 'MPLBACKEND': 'module://ipykernel.pylab.backend_inline',\n",
       " 'NVM_BIN': '/Users/berrada/.nvm/versions/node/v6.11.1/bin',\n",
       " 'NVM_CD_FLAGS': '',\n",
       " 'NVM_DIR': '/Users/berrada/.nvm',\n",
       " 'NVM_IOJS_ORG_MIRROR': 'https://iojs.org/dist',\n",
       " 'NVM_NODEJS_ORG_MIRROR': 'https://nodejs.org/dist',\n",
       " 'NVM_PATH': '/Users/berrada/.nvm/versions/node/v6.11.1/lib/node',\n",
       " 'PAGER': 'cat',\n",
       " 'PATH': '/Users/berrada/miniconda3/bin:/Users/berrada/.nvm/versions/node/v6.11.1/bin:/usr/local/opt/icu4c/sbin:/usr/local/opt/icu4c/bin:/usr/local/opt/icu4c/sbin:/usr/local/opt/icu4c/bin:/Users/berrada/miniconda3/bin:/Users/berrada/miniconda3/bin:/usr/bin:/bin:/usr/sbin:/sbin:/usr/local/bin:/usr/texbin:/Applications/Wireshark.app/Contents/MacOS',\n",
       " 'PWD': '/Users/berrada',\n",
       " 'SECURITYSESSIONID': '186a7',\n",
       " 'SHELL': '/bin/bash',\n",
       " 'SHLVL': '1',\n",
       " 'SSH_AUTH_SOCK': '/private/tmp/com.apple.launchd.6svLLs5pk2/Listeners',\n",
       " 'TERM': 'xterm-color',\n",
       " 'TERM_PROGRAM': 'Apple_Terminal',\n",
       " 'TERM_PROGRAM_VERSION': '404',\n",
       " 'TERM_SESSION_ID': 'E610E184-94A2-4179-96CE-AC9A172ACAF1',\n",
       " 'TMPDIR': '/var/folders/sz/wn0dpf9935zbfbqblylwb4k00000gn/T/',\n",
       " 'USER': 'berrada',\n",
       " 'XPC_FLAGS': '0x0',\n",
       " 'XPC_SERVICE_NAME': '0',\n",
       " '_': '/Users/berrada/miniconda3/bin/jupyter',\n",
       " '__CF_USER_TEXT_ENCODING': '0x1F5:0x0:0x1'}"
      ]
     },
     "execution_count": 104,
     "metadata": {},
     "output_type": "execute_result"
    }
   ],
   "source": [
    "a"
   ]
  },
  {
   "cell_type": "code",
   "execution_count": 128,
   "metadata": {},
   "outputs": [
    {
     "name": "stdout",
     "output_type": "stream",
     "text": [
      "/Users/berrada/Python Book\n"
     ]
    }
   ],
   "source": [
    "%cd Python\\ Book"
   ]
  },
  {
   "cell_type": "code",
   "execution_count": 132,
   "metadata": {},
   "outputs": [],
   "source": [
    "a = %pwd"
   ]
  },
  {
   "cell_type": "markdown",
   "metadata": {},
   "source": [
    "a"
   ]
  },
  {
   "cell_type": "code",
   "execution_count": 133,
   "metadata": {},
   "outputs": [
    {
     "data": {
      "text/plain": [
       "'/Users/berrada/Python Book'"
      ]
     },
     "execution_count": 133,
     "metadata": {},
     "output_type": "execute_result"
    }
   ],
   "source": [
    "a"
   ]
  },
  {
   "cell_type": "code",
   "execution_count": 134,
   "metadata": {
    "collapsed": true
   },
   "outputs": [],
   "source": [
    "%bookmark pb '/Users/berrada/Python Book'"
   ]
  },
  {
   "cell_type": "code",
   "execution_count": 137,
   "metadata": {},
   "outputs": [
    {
     "name": "stdout",
     "output_type": "stream",
     "text": [
      "/Users/berrada\n"
     ]
    }
   ],
   "source": [
    "%cd"
   ]
  },
  {
   "cell_type": "code",
   "execution_count": 138,
   "metadata": {},
   "outputs": [
    {
     "name": "stdout",
     "output_type": "stream",
     "text": [
      "(bookmark:pb) -> /Users/berrada/Python Book\n",
      "/Users/berrada/Python Book\n"
     ]
    }
   ],
   "source": [
    "%cd pb"
   ]
  }
 ],
 "metadata": {
  "kernelspec": {
   "display_name": "Python 3",
   "language": "python",
   "name": "python3"
  },
  "language_info": {
   "codemirror_mode": {
    "name": "ipython",
    "version": 3
   },
   "file_extension": ".py",
   "mimetype": "text/x-python",
   "name": "python",
   "nbconvert_exporter": "python",
   "pygments_lexer": "ipython3",
   "version": "3.8.5"
  }
 },
 "nbformat": 4,
 "nbformat_minor": 2
}
