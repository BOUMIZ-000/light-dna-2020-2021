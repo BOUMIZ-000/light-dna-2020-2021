{
 "cells": [
  {
   "cell_type": "code",
   "execution_count": 2,
   "metadata": {},
   "outputs": [
    {
     "name": "stderr",
     "output_type": "stream",
     "text": [
      "C:\\ProgramData\\Anaconda3\\envs\\courses\\lib\\site-packages\\statsmodels\\tools\\_testing.py:19: FutureWarning: pandas.util.testing is deprecated. Use the functions in the public API at pandas.testing instead.\n",
      "  import pandas.util.testing as tm\n"
     ]
    },
    {
     "data": {
      "text/html": [
       "        <script type=\"text/javascript\">\n",
       "        window.PlotlyConfig = {MathJaxConfig: 'local'};\n",
       "        if (window.MathJax) {MathJax.Hub.Config({SVG: {font: \"STIX-Web\"}});}\n",
       "        if (typeof require !== 'undefined') {\n",
       "        require.undef(\"plotly\");\n",
       "        requirejs.config({\n",
       "            paths: {\n",
       "                'plotly': ['https://cdn.plot.ly/plotly-latest.min']\n",
       "            }\n",
       "        });\n",
       "        require(['plotly'], function(Plotly) {\n",
       "            window._Plotly = Plotly;\n",
       "        });\n",
       "        }\n",
       "        </script>\n",
       "        "
      ]
     },
     "metadata": {},
     "output_type": "display_data"
    }
   ],
   "source": [
    "# data analysis and wrangling\n",
    "import pandas as pd\n",
    "import numpy as np\n",
    "from pandas_profiling import ProfileReport\n",
    "\n",
    "# visualization\n",
    "import pydotplus\n",
    "from sklearn.tree import export_graphviz\n",
    "import seaborn as sns\n",
    "import matplotlib.pyplot as plt\n",
    "\n",
    "import plotly.offline as py\n",
    "py.init_notebook_mode(connected=True)\n",
    "import plotly.graph_objs as go\n",
    "import plotly.tools as tls\n",
    "\n",
    "# machine learning\n",
    "from sklearn.tree import DecisionTreeClassifier\n",
    "from sklearn.ensemble import RandomForestClassifier, RandomForestRegressor, AdaBoostClassifier, VotingClassifier\n",
    "from sklearn.ensemble import GradientBoostingClassifier, ExtraTreesClassifier, AdaBoostClassifier\n",
    "from sklearn.linear_model import LogisticRegression, SGDClassifier\n",
    "from sklearn.naive_bayes import GaussianNB\n",
    "from sklearn.neighbors import KNeighborsClassifier\n",
    "from sklearn.svm import SVC\n",
    "import xgboost as xgb\n",
    "from sklearn.decomposition import FactorAnalysis, PCA\n",
    "from lightgbm.sklearn import LGBMClassifier\n",
    "\n",
    "\n",
    "#preprocessing\n",
    "from sklearn.model_selection import GridSearchCV\n",
    "from sklearn.preprocessing import StandardScaler, MinMaxScaler, RobustScaler\n",
    "from sklearn.preprocessing import LabelEncoder, OneHotEncoder\n",
    "from sklearn.model_selection import KFold, StratifiedKFold, cross_validate, cross_val_predict\n",
    "from sklearn.metrics import accuracy_score, f1_score\n",
    "from sklearn.preprocessing import OrdinalEncoder\n",
    "\n",
    "\n",
    "import warnings\n",
    "warnings.filterwarnings('ignore')\n"
   ]
  },
  {
   "cell_type": "markdown",
   "metadata": {},
   "source": [
    "# I. Acquire data\n",
    "\n",
    "The Python Pandas packages helps us work with our datasets. We start by acquiring the training and testing datasets into Pandas DataFrames. We also combine these datasets to run certain operations on both datasets together."
   ]
  },
  {
   "cell_type": "code",
   "execution_count": 3,
   "metadata": {},
   "outputs": [
    {
     "data": {
      "text/plain": [
       "Index(['PassengerId', 'Pclass', 'Name', 'Sex', 'Age', 'SibSp', 'Parch',\n",
       "       'Ticket', 'Fare', 'Cabin', 'Embarked'],\n",
       "      dtype='object')"
      ]
     },
     "execution_count": 3,
     "metadata": {},
     "output_type": "execute_result"
    }
   ],
   "source": [
    "train_data = pd.read_csv('.\\\\titanic\\\\train.csv')\n",
    "test_data = pd.read_csv('.\\\\titanic\\\\test.csv')\n",
    "test_data.columns"
   ]
  },
  {
   "cell_type": "markdown",
   "metadata": {},
   "source": [
    "\n",
    "## a. Preprocessing"
   ]
  },
  {
   "cell_type": "code",
   "execution_count": 31,
   "metadata": {},
   "outputs": [],
   "source": [
    "train_df = train_data.copy()\n",
    "test_df = test_data.copy()\n",
    "y = train_data['Survived']\n",
    "\n",
    "full_data = [train_df, test_df]\n",
    "\n",
    "for dataset in full_data:\n",
    "    dataset['Name_length'] = dataset['Name'].apply(len)\n",
    "    dataset['Has_Cabin'] = dataset[\"Cabin\"].apply(lambda x: 0 if type(x) == float else 1)\n",
    "    dataset['FamilySize'] = dataset['SibSp'] + dataset['Parch'] + 1\n",
    "    #dataset['IsAlone'] = 0\n",
    "    #dataset.loc[dataset['FamilySize'] == 1, 'IsAlone'] = 1\n",
    "    #dataset['Ticket'] = dataset['Ticket'].apply(lambda x : x.isdigit()).astype(int)\n",
    "\n",
    "    def family_group(size):\n",
    "        a = ''\n",
    "       # if (size <= 1):\n",
    "       #     a = 'loner'\n",
    "        if (size <= 5): #4\n",
    "            a = 'small'\n",
    "        else:\n",
    "            a = 'large'\n",
    "        return a\n",
    "    \n",
    "    dataset['FamilyGroup'] = dataset['FamilySize'].map(family_group)\n",
    "\n",
    "    dataset['Title'] = dataset['Name'].apply(lambda x : x.split(',')[1].split('.')[0].strip())\n",
    "    dataset['Title'] = dataset['Title'].replace(['Lady','the Countess', 'Countess','Capt', 'Col','Don', 'Dr', 'Major', 'Rev', 'Sir', 'Jonkheer', 'Dona'], 'Rare')\n",
    "    dataset['Title'] = dataset['Title'].replace('Mlle', 'Miss')\n",
    "    dataset['Title'] = dataset['Title'].replace('Ms', 'Miss')\n",
    "    dataset['Title'] = dataset['Title'].replace('Mme', 'Mrs')\n",
    "\n",
    "    # Gui et parenthese\n",
    "    dataset['parenthese'] = dataset['Name'].apply(lambda x : '(' in(x)  ).astype(int)\n",
    "    dataset['guill'] = dataset['Name'].apply(lambda x : '\"' in(x)  ).astype(int)\n",
    "    dataset['Random'] = np.random.randn(dataset.shape[0])\n",
    "    \n",
    "    \n",
    "    # Mapping Sex\n",
    "    dataset['Sex'] = dataset['Sex'].map( {'female': 0, 'male': 1} ).astype(int)\n",
    "        \n",
    "    dataset['Embarked'] = dataset['Embarked'].fillna('C')   \n",
    "\n",
    "\n",
    "    dataset['Fare'] = dataset['Fare'].fillna(dataset['Fare'].median())\n",
    "\n",
    "    def cabin_estimator(i):\n",
    "        \"\"\"Grouping cabin feature by the first letter\"\"\"\n",
    "        a = 0\n",
    "        if i<16:\n",
    "            a = \"G\"\n",
    "        elif i>=16 and i<27:\n",
    "            a = \"F\"\n",
    "        elif i>=27 and i<38:\n",
    "            a = \"T\"\n",
    "        elif i>=38 and i<47:\n",
    "            a = \"A\"\n",
    "        elif i>= 47 and i<53:\n",
    "            a = \"E\"\n",
    "        elif i>= 53 and i<54:\n",
    "            a = \"D\"\n",
    "        elif i>=54 and i<116:\n",
    "            a = 'C'\n",
    "        else:\n",
    "            a = \"B\"\n",
    "        return a\n",
    "\n",
    "    dataset['Cabin_alpha'] = dataset['Cabin'].fillna('N')\n",
    "    dataset['Cabin_alpha'] = dataset['Cabin_alpha'].apply( lambda x : x.split()[0][0] )\n",
    "    \n",
    "    dataset[dataset['Cabin_alpha']=='N']['Cabin_alpha'] = dataset[dataset['Cabin_alpha']=='N']['Fare'].apply(cabin_estimator)\n",
    "  \n",
    "    dataset['calculated_fare'] = dataset.Fare/dataset.FamilySize\n",
    "    def fare_group(fare):\n",
    "        a= ''\n",
    "        if fare == 0.0:\n",
    "            a='Invited'\n",
    "        elif fare <= 7.25:\n",
    "            a = 'Very_low'\n",
    "        elif fare <= 8.3:\n",
    "            a = 'low'\n",
    "        elif fare <= 23.667:\n",
    "            a = 'mid'\n",
    "        elif fare <= 40:\n",
    "            a = 'high'\n",
    "        else:\n",
    "            a = \"very_high\"\n",
    "        return a\n",
    "\n",
    "    dataset['fare_group'] = dataset['calculated_fare'].map(fare_group)\n",
    "\n",
    "train_df.drop(['Name', 'PassengerId', 'Ticket', 'Survived','Cabin'], axis=1, inplace=True)\n",
    "test_df.drop(['Name', 'PassengerId','Ticket', 'Cabin'], axis=1, inplace=True)\n",
    "\n",
    "#features_enc\n",
    "mask_categorical = (train_df.dtypes=='O').reset_index()\n",
    "cat_features = mask_categorical[mask_categorical[0]==True]['index'].values\n",
    "\n",
    "train_df = pd.get_dummies(train_df, columns=cat_features, drop_first=False)\n",
    "test_df = pd.get_dummies(test_df, columns=cat_features, drop_first=False)\n",
    "\n",
    "## rearranging the columns so that I can easily use the dataframe to predict the missing age values. \n",
    "train_df = pd.concat([train_df[[\"Age\", \"Sex\",\"SibSp\",\"Pclass\"]], train_df.loc[:,\"Parch\":]], axis=1)\n",
    "test_df = pd.concat([test_df[[\"Age\", \"Sex\",\"SibSp\",\"Pclass\"]], test_df.loc[:,\"Parch\":]], axis=1)\n",
    "\n",
    "def completing_age(df):\n",
    "    ## gettting all the features except survived\n",
    "    age_df = df.loc[:,\"Age\":] \n",
    "    \n",
    "    temp_train = age_df.loc[age_df.Age.notnull()] ## df with age values\n",
    "    temp_test = age_df.loc[age_df.Age.isnull()] ## df without age values\n",
    "    \n",
    "    y = temp_train.Age.values ## setting target variables(age) in y \n",
    "    x = temp_train.loc[:, \"Sex\":].values\n",
    "    rfr = RandomForestRegressor(n_estimators=1500, n_jobs=-1)\n",
    "    rfr.fit(x, y)\n",
    "    \n",
    "    predicted_age = rfr.predict(temp_test.loc[:, \"Sex\":])\n",
    "    df.loc[df.Age.isnull(), \"Age\"] = predicted_age\n",
    "    \n",
    "    return df\n",
    "\n",
    "## Implementing the completing_age function in both train and test dataset. \n",
    "train_df = completing_age(train_df)\n",
    "test_df = completing_age(test_df);\n",
    "\n",
    "def cat_age(x):\n",
    "    a=None\n",
    "    if x <=2:\n",
    "        a='Baby_1'\n",
    "    elif x <=8:\n",
    "        a='Baby_2'\n",
    "    elif x <=11:\n",
    "        a='Baby_3'\n",
    "    elif x <=13:\n",
    "        a='Baby_4'\n",
    "    elif x <=19:\n",
    "        a='Baby_5'\n",
    "    elif x <=25:\n",
    "        a='Baby_6'\n",
    "    elif x <=30:\n",
    "        a='Baby_7'\n",
    "    elif x <=40:\n",
    "        a='Baby_8'\n",
    "    elif x <=60:\n",
    "        a='Baby_9'\n",
    "    else:\n",
    "        a='Baby_10'\n",
    "    return a\n",
    "\n",
    "train_df['Age_cat'] = train_df['Age'].apply(lambda x:cat_age(x))\n",
    "test_df['Age_cat'] = test_df['Age'].apply(lambda x:cat_age(x))\n",
    "\n",
    "train_df['Pclass_cat'] = train_df['Pclass'].map({1:'First',2:'Second',3:'Third'})\n",
    "test_df['Pclass_cat'] = test_df['Pclass'].map({1:'First',2:'Second',3:'Third'})\n",
    "\n",
    "\n",
    "#features_enc\n",
    "mask_categorical = (train_df.dtypes=='O').reset_index()\n",
    "cat_features = mask_categorical[mask_categorical[0]==True]['index'].values\n",
    "\n",
    "train_df = pd.get_dummies(train_df, columns=cat_features, drop_first=False)\n",
    "test_df = pd.get_dummies(test_df, columns=cat_features, drop_first=False)\n",
    "\n",
    "\n",
    "train_df.drop(['Title_Mr', 'FamilySize', 'Embarked_S','calculated_fare','Pclass_cat_Third','Cabin_alpha_N','Cabin_alpha_T','FamilyGroup_small','Pclass_cat_First'], axis=1, inplace=True)\n",
    "test_df.drop(['Title_Mr','FamilySize','Embarked_S','calculated_fare','Pclass_cat_Third','Cabin_alpha_N','FamilyGroup_small','Pclass_cat_First'], axis=1, inplace=True)\n"
   ]
  },
  {
   "cell_type": "code",
   "execution_count": 32,
   "metadata": {},
   "outputs": [
    {
     "data": {
      "text/plain": [
       "array(['Age', 'Sex', 'SibSp', 'Pclass', 'Parch', 'Fare', 'Name_length',\n",
       "       'Has_Cabin', 'parenthese', 'guill', 'Random', 'Embarked_C',\n",
       "       'Embarked_Q', 'FamilyGroup_large', 'Title_Master', 'Title_Miss',\n",
       "       'Title_Mrs', 'Title_Rare', 'Cabin_alpha_A', 'Cabin_alpha_B',\n",
       "       'Cabin_alpha_C', 'Cabin_alpha_D', 'Cabin_alpha_E', 'Cabin_alpha_F',\n",
       "       'Cabin_alpha_G', 'fare_group_Invited', 'fare_group_Very_low',\n",
       "       'fare_group_high', 'fare_group_low', 'fare_group_mid',\n",
       "       'fare_group_very_high', 'Age_cat_Baby_1', 'Age_cat_Baby_10',\n",
       "       'Age_cat_Baby_2', 'Age_cat_Baby_3', 'Age_cat_Baby_4',\n",
       "       'Age_cat_Baby_5', 'Age_cat_Baby_6', 'Age_cat_Baby_7',\n",
       "       'Age_cat_Baby_8', 'Age_cat_Baby_9', 'Pclass_cat_Second'],\n",
       "      dtype=object)"
      ]
     },
     "execution_count": 32,
     "metadata": {},
     "output_type": "execute_result"
    }
   ],
   "source": [
    "#features_enc\n",
    "mask_numerical = (train_df.dtypes!='O').reset_index()\n",
    "new_features = mask_numerical[mask_numerical[0]==True]['index'].values\n",
    "new_features"
   ]
  },
  {
   "cell_type": "markdown",
   "metadata": {},
   "source": [
    "## Covariance shift\n",
    "\n",
    "- https://github.com/erlendd/covariate-shift-adaption/blob/master/Supervised%20classification%20by%20covariate%20shift%20adaption.ipynb\n",
    "- https://tiao.io/post/density-ratio-estimation-for-kl-divergence-minimization-between-implicit-distributions/\n",
    "\n",
    "- https://gsarantitis.wordpress.com/2019/03/26/machine-learning-feature-selection-a-collection-of-91-techniques/\n",
    "- https://towardsdatascience.com/how-dis-similar-are-my-train-and-test-data-56af3923de9b\n",
    "- https://medium.com/@alon.lek/should-i-look-at-precision-recall-or-specificity-sensitivity-3946158aace1\n",
    "- https://en.wikipedia.org/wiki/Sensitivity_and_specificity\n",
    "- https://github.com/hoxo-m/densratio_py\n",
    "- https://en.wikipedia.org/wiki/Accuracy_and_precision\n",
    "- https://scikit-learn.org/stable/modules/model_evaluation.html#scoring-parameter\n",
    "\n",
    "- https://medium.com/@alon.lek/should-i-look-at-precision-recall-or-specificity-sensitivity-3946158aace1\n",
    "- https://en.wikipedia.org/wiki/Sensitivity_and_specificity"
   ]
  },
  {
   "cell_type": "code",
   "execution_count": 6,
   "metadata": {},
   "outputs": [
    {
     "data": {
      "text/plain": [
       "<matplotlib.axes._subplots.AxesSubplot at 0x1c9b2b6d108>"
      ]
     },
     "execution_count": 6,
     "metadata": {},
     "output_type": "execute_result"
    },
    {
     "data": {
      "image/png": "[encoded data removed]",
      "text/plain": [
       "<Figure size 576x396 with 1 Axes>"
      ]
     },
     "metadata": {},
     "output_type": "display_data"
    }
   ],
   "source": [
    "sns.distplot(train_df.Age.values,color='r',rug=True,hist=False)\n",
    "sns.distplot(test_df.Age.values,color='g',rug=True,hist=False)"
   ]
  },
  {
   "cell_type": "code",
   "execution_count": 7,
   "metadata": {},
   "outputs": [],
   "source": [
    "train_sample = train_df.copy()\n",
    "train_sample['Target'] = 1\n",
    "test_sample = test_df.copy()\n",
    "test_sample['Target'] = 0\n",
    "cov_shift = pd.concat([train_sample,test_sample], axis=0,ignore_index=True)\n",
    "y_shift = cov_shift['Target']\n",
    "cov_shift = cov_shift.drop('Target',axis=1)"
   ]
  },
  {
   "cell_type": "markdown",
   "metadata": {},
   "source": [
    "### Individual variables"
   ]
  },
  {
   "cell_type": "code",
   "execution_count": 8,
   "metadata": {},
   "outputs": [
    {
     "name": "stdout",
     "output_type": "stream",
     "text": [
      "Feature {%f}: ROC-AUC {%f} Age 0.5442624007217308\n",
      "Feature {%f}: ROC-AUC {%f} Sex 0.5407316117044985\n",
      "Feature {%f}: ROC-AUC {%f} SibSp 0.5413773567681064\n",
      "Feature {%f}: ROC-AUC {%f} Pclass 0.5386426734114134\n",
      "Feature {%f}: ROC-AUC {%f} Parch 0.5267762688017872\n",
      "Feature {%f}: ROC-AUC {%f} Fare 0.5381566864820453\n",
      "Feature {%f}: ROC-AUC {%f} Name_length 0.5387326212685064\n",
      "Feature {%f}: ROC-AUC {%f} Has_Cabin 0.5542801754922968\n",
      "Feature {%f}: ROC-AUC {%f} parenthese 0.537454556194588\n",
      "Feature {%f}: ROC-AUC {%f} guill 0.5365322550330525\n",
      "Feature {%f}: ROC-AUC {%f} Random 0.5302949752710518\n",
      "Feature {%f}: ROC-AUC {%f} Embarked_C 0.5373807184014521\n",
      "Feature {%f}: ROC-AUC {%f} Embarked_Q 0.5500942438741482\n",
      "Feature {%f}: ROC-AUC {%f} FamilyGroup_large 0.5407235566725199\n",
      "Feature {%f}: ROC-AUC {%f} Title_Master 0.5322469780205027\n",
      "Feature {%f}: ROC-AUC {%f} Title_Miss 0.5215821156809992\n",
      "Feature {%f}: ROC-AUC {%f} Title_Mrs 0.5415075797850918\n",
      "Feature {%f}: ROC-AUC {%f} Title_Rare 0.5372854005230401\n",
      "Feature {%f}: ROC-AUC {%f} Cabin_alpha_A 0.5411988035592501\n",
      "Feature {%f}: ROC-AUC {%f} Cabin_alpha_B 0.5331813617300061\n",
      "Feature {%f}: ROC-AUC {%f} Cabin_alpha_C 0.5465755374048835\n",
      "Feature {%f}: ROC-AUC {%f} Cabin_alpha_D 0.5467366380444529\n",
      "Feature {%f}: ROC-AUC {%f} Cabin_alpha_E 0.5287645191951411\n",
      "Feature {%f}: ROC-AUC {%f} Cabin_alpha_F 0.5423600706694806\n",
      "Feature {%f}: ROC-AUC {%f} Cabin_alpha_G 0.5487812736616564\n",
      "Feature {%f}: ROC-AUC {%f} fare_group_Invited 0.5470413867543055\n",
      "Feature {%f}: ROC-AUC {%f} fare_group_Very_low 0.5449591609878691\n",
      "Feature {%f}: ROC-AUC {%f} fare_group_high 0.5407504067791149\n",
      "Feature {%f}: ROC-AUC {%f} fare_group_low 0.534318463744301\n",
      "Feature {%f}: ROC-AUC {%f} fare_group_mid 0.5299768015079019\n",
      "Feature {%f}: ROC-AUC {%f} fare_group_very_high 0.5323328983616065\n",
      "Feature {%f}: ROC-AUC {%f} Age_cat_Baby_1 0.5474736734704837\n",
      "Feature {%f}: ROC-AUC {%f} Age_cat_Baby_10 0.5264500400066588\n",
      "Feature {%f}: ROC-AUC {%f} Age_cat_Baby_2 0.5379499406612644\n",
      "Feature {%f}: ROC-AUC {%f} Age_cat_Baby_3 0.5363416192762285\n",
      "Feature {%f}: ROC-AUC {%f} Age_cat_Baby_4 0.5345319220917307\n",
      "Feature {%f}: ROC-AUC {%f} Age_cat_Baby_5 0.5340432501517032\n",
      "Feature {%f}: ROC-AUC {%f} Age_cat_Baby_6 0.5352394224005069\n",
      "Feature {%f}: ROC-AUC {%f} Age_cat_Baby_7 0.5483382469028402\n",
      "Feature {%f}: ROC-AUC {%f} Age_cat_Baby_8 0.54315617633002\n",
      "Feature {%f}: ROC-AUC {%f} Age_cat_Baby_9 0.5479381803145759\n",
      "Feature {%f}: ROC-AUC {%f} Pclass_cat_Second 0.5392776784323834\n"
     ]
    }
   ],
   "source": [
    "from sklearn.model_selection import train_test_split, cross_val_score\n",
    "from sklearn.metrics import accuracy_score, roc_auc_score, roc_curve\n",
    "\n",
    "clf =  RandomForestClassifier(n_estimators=150, max_depth=2)\n",
    "\n",
    "predictions = np.zeros(y_shift.shape)\n",
    "\n",
    "for feature in new_features : \n",
    "    cv = StratifiedKFold(n_splits=20,shuffle=True)\n",
    "\n",
    "    for fold, (train_idx, test_idx) in enumerate(cv.split(cov_shift,y_shift)):\n",
    "        X_train, X_test = cov_shift.loc[train_idx], cov_shift.loc[test_idx]\n",
    "        y_train, y_test = y_shift[train_idx], y_shift[test_idx]\n",
    "\n",
    "        clf.fit(X_train, y_train)\n",
    "        probs = clf.predict_proba(X_test)[:, 1]\n",
    "        predictions[test_idx] = probs\n",
    "    \n",
    "    print ('Feature {%f}: ROC-AUC {%f}',feature, roc_auc_score(y_shift, predictions))"
   ]
  },
  {
   "cell_type": "markdown",
   "metadata": {},
   "source": [
    "### By samples"
   ]
  },
  {
   "cell_type": "code",
   "execution_count": 11,
   "metadata": {},
   "outputs": [
    {
     "name": "stdout",
     "output_type": "stream",
     "text": [
      "Training discriminator model for fold 0\n",
      "Training discriminator model for fold 1\n",
      "Training discriminator model for fold 2\n",
      "Training discriminator model for fold 3\n",
      "Training discriminator model for fold 4\n",
      "Training discriminator model for fold 5\n",
      "Training discriminator model for fold 6\n",
      "Training discriminator model for fold 7\n",
      "Training discriminator model for fold 8\n",
      "Training discriminator model for fold 9\n",
      "Training discriminator model for fold 10\n",
      "Training discriminator model for fold 11\n",
      "Training discriminator model for fold 12\n",
      "Training discriminator model for fold 13\n",
      "Training discriminator model for fold 14\n",
      "Training discriminator model for fold 15\n",
      "Training discriminator model for fold 16\n",
      "Training discriminator model for fold 17\n",
      "Training discriminator model for fold 18\n",
      "Training discriminator model for fold 19\n",
      "ROC-AUC for Train and Test distributions: 0.5615834044861158 0.680672268907563\n"
     ]
    }
   ],
   "source": [
    "from sklearn.model_selection import train_test_split, cross_val_score\n",
    "from sklearn.metrics import accuracy_score, roc_auc_score, roc_curve\n",
    "\n",
    "cv = StratifiedKFold(n_splits=20,shuffle=True)\n",
    "clf =  RandomForestClassifier(n_estimators=150, max_depth=2)\n",
    "\n",
    "predictions = np.zeros(y_shift.shape)\n",
    "\n",
    "for fold, (train_idx, test_idx) in enumerate(cv.split(cov_shift,y_shift)):\n",
    "    print ('Training discriminator model for fold {}'.format(fold))\n",
    "    X_train, X_test = cov_shift.loc[train_idx], cov_shift.loc[test_idx]\n",
    "    y_train, y_test = y_shift[train_idx], y_shift[test_idx]\n",
    "        \n",
    "    clf.fit(X_train, y_train)\n",
    "    probs = clf.predict_proba(X_test)[:, 1]\n",
    "    predictions[test_idx] = probs\n",
    "    \n",
    "print ('ROC-AUC for Train and Test distributions:', roc_auc_score(y_shift, predictions), accuracy_score(y_shift,(predictions>=0.5).astype(int)))"
   ]
  },
  {
   "cell_type": "code",
   "execution_count": 12,
   "metadata": {},
   "outputs": [
    {
     "data": {
      "text/plain": [
       "<matplotlib.axes._subplots.AxesSubplot at 0x2a7ffad1e48>"
      ]
     },
     "execution_count": 12,
     "metadata": {},
     "output_type": "execute_result"
    },
    {
     "data": {
      "image/png": "[encoded data removed]",
      "text/plain": [
       "<Figure size 576x396 with 1 Axes>"
      ]
     },
     "metadata": {},
     "output_type": "display_data"
    }
   ],
   "source": [
    "# first, isolate the training part (recall we joined them above)\n",
    "predictions_Z = predictions[:len(train_sample)]\n",
    "my_weights = (1./predictions_Z) - 1. \n",
    "my_weights /= np.mean(my_weights) # we do this to re-normalize the computed log-loss\n",
    "plt.xlabel('Computed sample weight')\n",
    "plt.ylabel('# Samples')\n",
    "sns.distplot(my_weights, kde=False)"
   ]
  },
  {
   "cell_type": "markdown",
   "metadata": {},
   "source": [
    "## Correlation study"
   ]
  },
  {
   "cell_type": "code",
   "execution_count": 33,
   "metadata": {},
   "outputs": [
    {
     "ename": "KeyError",
     "evalue": "\"['FamilySize'] not in index\"",
     "output_type": "error",
     "traceback": [
      "\u001b[1;31m---------------------------------------------------------------------------\u001b[0m",
      "\u001b[1;31mKeyError\u001b[0m                                  Traceback (most recent call last)",
      "\u001b[1;32m<ipython-input-33-8ec86f8f52f4>\u001b[0m in \u001b[0;36m<module>\u001b[1;34m\u001b[0m\n\u001b[0;32m      1\u001b[0m \u001b[0mplt\u001b[0m\u001b[1;33m.\u001b[0m\u001b[0mfigure\u001b[0m\u001b[1;33m(\u001b[0m\u001b[0mfigsize\u001b[0m\u001b[1;33m=\u001b[0m\u001b[1;33m(\u001b[0m\u001b[1;36m10\u001b[0m\u001b[1;33m,\u001b[0m\u001b[1;36m10\u001b[0m\u001b[1;33m)\u001b[0m\u001b[1;33m)\u001b[0m\u001b[1;33m\u001b[0m\u001b[1;33m\u001b[0m\u001b[0m\n\u001b[0;32m      2\u001b[0m \u001b[1;31m#train_df[['Title_Mr','Sex']].corr()\u001b[0m\u001b[1;33m\u001b[0m\u001b[1;33m\u001b[0m\u001b[1;33m\u001b[0m\u001b[0m\n\u001b[1;32m----> 3\u001b[1;33m \u001b[0mtrain_df\u001b[0m\u001b[1;33m[\u001b[0m\u001b[1;33m[\u001b[0m\u001b[1;34m'FamilySize'\u001b[0m\u001b[1;33m,\u001b[0m\u001b[1;34m'SibSp'\u001b[0m\u001b[1;33m]\u001b[0m\u001b[1;33m]\u001b[0m\u001b[1;33m.\u001b[0m\u001b[0mcorr\u001b[0m\u001b[1;33m(\u001b[0m\u001b[1;33m)\u001b[0m \u001b[1;31m#.89\u001b[0m\u001b[1;33m\u001b[0m\u001b[1;33m\u001b[0m\u001b[0m\n\u001b[0m\u001b[0;32m      4\u001b[0m \u001b[1;31m#train_df[['Embarked_S','Embarked_C']].corr() # -0.78\u001b[0m\u001b[1;33m\u001b[0m\u001b[1;33m\u001b[0m\u001b[1;33m\u001b[0m\u001b[0m\n\u001b[0;32m      5\u001b[0m \u001b[1;31m#train_df[['Title_Miss','Sex']].corr() # -0.69\u001b[0m\u001b[1;33m\u001b[0m\u001b[1;33m\u001b[0m\u001b[1;33m\u001b[0m\u001b[0m\n",
      "\u001b[1;32mC:\\ProgramData\\Anaconda3\\envs\\courses\\lib\\site-packages\\pandas\\core\\frame.py\u001b[0m in \u001b[0;36m__getitem__\u001b[1;34m(self, key)\u001b[0m\n\u001b[0;32m   2804\u001b[0m             \u001b[1;32mif\u001b[0m \u001b[0mis_iterator\u001b[0m\u001b[1;33m(\u001b[0m\u001b[0mkey\u001b[0m\u001b[1;33m)\u001b[0m\u001b[1;33m:\u001b[0m\u001b[1;33m\u001b[0m\u001b[1;33m\u001b[0m\u001b[0m\n\u001b[0;32m   2805\u001b[0m                 \u001b[0mkey\u001b[0m \u001b[1;33m=\u001b[0m \u001b[0mlist\u001b[0m\u001b[1;33m(\u001b[0m\u001b[0mkey\u001b[0m\u001b[1;33m)\u001b[0m\u001b[1;33m\u001b[0m\u001b[1;33m\u001b[0m\u001b[0m\n\u001b[1;32m-> 2806\u001b[1;33m             \u001b[0mindexer\u001b[0m \u001b[1;33m=\u001b[0m \u001b[0mself\u001b[0m\u001b[1;33m.\u001b[0m\u001b[0mloc\u001b[0m\u001b[1;33m.\u001b[0m\u001b[0m_get_listlike_indexer\u001b[0m\u001b[1;33m(\u001b[0m\u001b[0mkey\u001b[0m\u001b[1;33m,\u001b[0m \u001b[0maxis\u001b[0m\u001b[1;33m=\u001b[0m\u001b[1;36m1\u001b[0m\u001b[1;33m,\u001b[0m \u001b[0mraise_missing\u001b[0m\u001b[1;33m=\u001b[0m\u001b[1;32mTrue\u001b[0m\u001b[1;33m)\u001b[0m\u001b[1;33m[\u001b[0m\u001b[1;36m1\u001b[0m\u001b[1;33m]\u001b[0m\u001b[1;33m\u001b[0m\u001b[1;33m\u001b[0m\u001b[0m\n\u001b[0m\u001b[0;32m   2807\u001b[0m \u001b[1;33m\u001b[0m\u001b[0m\n\u001b[0;32m   2808\u001b[0m         \u001b[1;31m# take() does not accept boolean indexers\u001b[0m\u001b[1;33m\u001b[0m\u001b[1;33m\u001b[0m\u001b[1;33m\u001b[0m\u001b[0m\n",
      "\u001b[1;32mC:\\ProgramData\\Anaconda3\\envs\\courses\\lib\\site-packages\\pandas\\core\\indexing.py\u001b[0m in \u001b[0;36m_get_listlike_indexer\u001b[1;34m(self, key, axis, raise_missing)\u001b[0m\n\u001b[0;32m   1550\u001b[0m \u001b[1;33m\u001b[0m\u001b[0m\n\u001b[0;32m   1551\u001b[0m         self._validate_read_indexer(\n\u001b[1;32m-> 1552\u001b[1;33m             \u001b[0mkeyarr\u001b[0m\u001b[1;33m,\u001b[0m \u001b[0mindexer\u001b[0m\u001b[1;33m,\u001b[0m \u001b[0mo\u001b[0m\u001b[1;33m.\u001b[0m\u001b[0m_get_axis_number\u001b[0m\u001b[1;33m(\u001b[0m\u001b[0maxis\u001b[0m\u001b[1;33m)\u001b[0m\u001b[1;33m,\u001b[0m \u001b[0mraise_missing\u001b[0m\u001b[1;33m=\u001b[0m\u001b[0mraise_missing\u001b[0m\u001b[1;33m\u001b[0m\u001b[1;33m\u001b[0m\u001b[0m\n\u001b[0m\u001b[0;32m   1553\u001b[0m         )\n\u001b[0;32m   1554\u001b[0m         \u001b[1;32mreturn\u001b[0m \u001b[0mkeyarr\u001b[0m\u001b[1;33m,\u001b[0m \u001b[0mindexer\u001b[0m\u001b[1;33m\u001b[0m\u001b[1;33m\u001b[0m\u001b[0m\n",
      "\u001b[1;32mC:\\ProgramData\\Anaconda3\\envs\\courses\\lib\\site-packages\\pandas\\core\\indexing.py\u001b[0m in \u001b[0;36m_validate_read_indexer\u001b[1;34m(self, key, indexer, axis, raise_missing)\u001b[0m\n\u001b[0;32m   1643\u001b[0m             \u001b[1;32mif\u001b[0m \u001b[1;32mnot\u001b[0m \u001b[1;33m(\u001b[0m\u001b[0mself\u001b[0m\u001b[1;33m.\u001b[0m\u001b[0mname\u001b[0m \u001b[1;33m==\u001b[0m \u001b[1;34m\"loc\"\u001b[0m \u001b[1;32mand\u001b[0m \u001b[1;32mnot\u001b[0m \u001b[0mraise_missing\u001b[0m\u001b[1;33m)\u001b[0m\u001b[1;33m:\u001b[0m\u001b[1;33m\u001b[0m\u001b[1;33m\u001b[0m\u001b[0m\n\u001b[0;32m   1644\u001b[0m                 \u001b[0mnot_found\u001b[0m \u001b[1;33m=\u001b[0m \u001b[0mlist\u001b[0m\u001b[1;33m(\u001b[0m\u001b[0mset\u001b[0m\u001b[1;33m(\u001b[0m\u001b[0mkey\u001b[0m\u001b[1;33m)\u001b[0m \u001b[1;33m-\u001b[0m \u001b[0mset\u001b[0m\u001b[1;33m(\u001b[0m\u001b[0max\u001b[0m\u001b[1;33m)\u001b[0m\u001b[1;33m)\u001b[0m\u001b[1;33m\u001b[0m\u001b[1;33m\u001b[0m\u001b[0m\n\u001b[1;32m-> 1645\u001b[1;33m                 \u001b[1;32mraise\u001b[0m \u001b[0mKeyError\u001b[0m\u001b[1;33m(\u001b[0m\u001b[1;34mf\"{not_found} not in index\"\u001b[0m\u001b[1;33m)\u001b[0m\u001b[1;33m\u001b[0m\u001b[1;33m\u001b[0m\u001b[0m\n\u001b[0m\u001b[0;32m   1646\u001b[0m \u001b[1;33m\u001b[0m\u001b[0m\n\u001b[0;32m   1647\u001b[0m             \u001b[1;31m# we skip the warning on Categorical/Interval\u001b[0m\u001b[1;33m\u001b[0m\u001b[1;33m\u001b[0m\u001b[1;33m\u001b[0m\u001b[0m\n",
      "\u001b[1;31mKeyError\u001b[0m: \"['FamilySize'] not in index\""
     ]
    },
    {
     "data": {
      "text/plain": [
       "<Figure size 720x720 with 0 Axes>"
      ]
     },
     "metadata": {},
     "output_type": "display_data"
    }
   ],
   "source": [
    "plt.figure(figsize=(10,10))\n",
    "#train_df[['Title_Mr','Sex']].corr()\n",
    "#train_df[['FamilySize','SibSp']].corr() #.89\n",
    "#train_df[['Embarked_S','Embarked_C']].corr() # -0.78\n",
    "#train_df[['Title_Miss','Sex']].corr() # -0.69\n",
    "#train_df[['Pclass','Age_cat']].corr()\n",
    "\n",
    "#_= sns.heatmap(train_df.corr()[train_df.corr() > 0.7])\n",
    "#_= sns.heatmap(train_df.corr()[train_df.corr() < -0.6])\n",
    "#_= sns.heatmap(train_df.corr())\n",
    "#train_df[['FamilySize','Survived']].corr() #.89\n",
    "\n",
    "#train_df.corr()"
   ]
  },
  {
   "cell_type": "markdown",
   "metadata": {},
   "source": [
    "## Model construction"
   ]
  },
  {
   "cell_type": "code",
   "execution_count": 34,
   "metadata": {},
   "outputs": [],
   "source": [
    "X = train_df[new_features]\n",
    "sub_test = test_df[new_features]"
   ]
  },
  {
   "cell_type": "markdown",
   "metadata": {},
   "source": [
    "### Data Scaling"
   ]
  },
  {
   "cell_type": "code",
   "execution_count": 126,
   "metadata": {},
   "outputs": [],
   "source": [
    "#Not the best way but for this example, \n",
    "scl = MinMaxScaler()\n",
    "scl.fit(pd.concat((X,sub_test),axis=0))\n",
    "X_scaled_minmax = pd.DataFrame(data=scl.transform(X),columns=X.columns)\n",
    "X_test_scaled_minmax = pd.DataFrame(data=scl.transform(sub_test),columns=X.columns)\n",
    "\n",
    "\n",
    "scl = StandardScaler()\n",
    "scl.fit(pd.concat((X,sub_test),axis=0))\n",
    "X_scaled_std = pd.DataFrame(data=scl.transform(X),columns=X.columns)\n",
    "X_test_scaled_std = pd.DataFrame(data=scl.transform(sub_test),columns=X.columns)\n",
    "\n",
    "scl = RobustScaler()\n",
    "scl.fit(pd.concat((X,sub_test),axis=0))\n",
    "X_scaled_rob = pd.DataFrame(data=scl.transform(X),columns=X.columns)\n",
    "X_test_scaled_rob = pd.DataFrame(data=scl.transform(sub_test),columns=X.columns)"
   ]
  },
  {
   "cell_type": "markdown",
   "metadata": {},
   "source": [
    "### Principal Component Analysis\n",
    "- #https://jakevdp.github.io/PythonDataScienceHandbook/05.09-principal-component-analysis.html\n"
   ]
  },
  {
   "cell_type": "code",
   "execution_count": 40,
   "metadata": {},
   "outputs": [
    {
     "data": {
      "text/plain": [
       "array([2.47365e+03, 1.88510e+02, 8.42200e+01, 1.25000e+00])"
      ]
     },
     "execution_count": 40,
     "metadata": {},
     "output_type": "execute_result"
    }
   ],
   "source": [
    "from sklearn.decomposition import PCA\n",
    "\n",
    "pca_best = ['PCA_'+str(fold) for fold in range(1,5)]\n",
    "\n",
    "pca = PCA(n_components=4)\n",
    "pca.fit(X)\n",
    "X_pca = pd.DataFrame(data=pca.transform(X),columns=pca_best)\n",
    "\n",
    "sub_test_pca = pd.DataFrame(data=pca.transform(sub_test),columns=pca_best)\n",
    "np.round(pca.explained_variance_,2)"
   ]
  },
  {
   "cell_type": "code",
   "execution_count": 41,
   "metadata": {},
   "outputs": [
    {
     "data": {
      "text/plain": [
       "Text(0, 0.5, 'cumulative explained variance')"
      ]
     },
     "execution_count": 41,
     "metadata": {},
     "output_type": "execute_result"
    },
    {
     "data": {
      "image/png": "[encoded data removed]",
      "text/plain": [
       "<Figure size 576x396 with 1 Axes>"
      ]
     },
     "metadata": {},
     "output_type": "display_data"
    }
   ],
   "source": [
    "plt.plot(np.cumsum(pca.explained_variance_ratio_))\n",
    "plt.xlabel('number of components')\n",
    "plt.ylabel('cumulative explained variance')"
   ]
  },
  {
   "cell_type": "markdown",
   "metadata": {},
   "source": [
    "###  Factor Analysis\n",
    "- #https://www.datacamp.com/community/tutorials/introduction-factor-analysis\n",
    "- https://www.statology.org/a-guide-to-bartletts-test-of-sphericity/\n",
    "- https://easystats.github.io/parameters/reference/check_sphericity.html\n",
    "- https://towardsdatascience.com/why-feature-correlation-matters-a-lot-847e8ba439c4\n",
    "- https://statisticsbyjim.com/regression/multicollinearity-in-regression-analysis/\n",
    "- https://www.kaggle.com/reisel/how-to-handle-correlated-features\n",
    "- https://towardsdatascience.com/feature-selection-correlation-and-p-value-da8921bfb3cf\n",
    "- Latent variable\n",
    "- https://factor-analyzer.readthedocs.io/en/latest/factor_analyzer.html\n",
    "\n",
    "Bartlett’s Test of Sphericity compares an observed correlation matrix to the identity matrix. Essentially it checks to see if there is a certain redundancy between the variables that we can summarize with a few number of factors. "
   ]
  },
  {
   "cell_type": "code",
   "execution_count": 77,
   "metadata": {},
   "outputs": [
    {
     "name": "stdout",
     "output_type": "stream",
     "text": [
      "Bartlet Test(p_value sould be near from 0):  80730.83670760643 0.0\n",
      "KMO Test (should be > 0.6): 0.2775898758107305\n"
     ]
    }
   ],
   "source": [
    "from factor_analyzer.factor_analyzer import calculate_bartlett_sphericity,calculate_kmo\n",
    "from factor_analyzer import FactorAnalyzer\n",
    "  \n",
    "chi_square_value,p_value = calculate_bartlett_sphericity(X)\n",
    "print(\"Bartlet Test(p_value sould be near from 0): \",chi_square_value, p_value)\n",
    "\n",
    "kmo_all,kmo_model=calculate_kmo(X)\n",
    "print(\"KMO Test (should be > 0.6):\", kmo_model)"
   ]
  },
  {
   "cell_type": "code",
   "execution_count": 81,
   "metadata": {},
   "outputs": [
    {
     "name": "stdout",
     "output_type": "stream",
     "text": [
      "Eigne values: Important are > 1:\n",
      " [4.72099974 3.83035458 2.74339092 2.28937402 2.00868269 1.65992628\n",
      " 1.41923713 1.39392554 1.30212918 1.26370854 1.24407767 1.1651673\n",
      " 1.13772021 1.0954615  1.06442889 1.04693993 1.04455677 1.01311604\n",
      " 0.99692704 0.96835175 0.91679959]\n"
     ]
    }
   ],
   "source": [
    "fa_best = ['FA_'+str(fold) for fold in range(1,22)]\n",
    "\n",
    "fa = FactorAnalyzer(rotation=\"varimax\",n_factors=27)\n",
    "fa.fit(X)\n",
    "\n",
    "#Check Eigenvalues\n",
    "ev, v = fa.get_eigenvalues()\n",
    "#print(\"Contribution is the initial variables\\n\", fa.loadings_)\n",
    "print(\"Eigne values: Important are > 1:\\n\", ev[np.round(ev,2)>0.9])\n",
    "#Case 1 : only latent variables\n",
    "X_fa = fa.transform(X)\n",
    "sub_test_fa = fa.transform(sub_test)"
   ]
  },
  {
   "cell_type": "code",
   "execution_count": 79,
   "metadata": {},
   "outputs": [
    {
     "data": {
      "text/plain": [
       "Text(0, 0.5, 'cumulative  variance')"
      ]
     },
     "execution_count": 79,
     "metadata": {},
     "output_type": "execute_result"
    },
    {
     "data": {
      "image/png": "[encoded data removed]",
      "text/plain": [
       "<Figure size 576x396 with 1 Axes>"
      ]
     },
     "metadata": {},
     "output_type": "display_data"
    }
   ],
   "source": [
    "#https://www.datacamp.com/community/tutorials/introduction-factor-analysis\n",
    "# 1. Sum of squared loadings (variance)\n",
    "# 2. Proportional variance\n",
    "# 3. Cumulative variance\n",
    "a,b,c = fa.get_factor_variance()\n",
    "#plt.plot(np.cumsum(a))\n",
    "#plt.plot(np.cumsum(b))\n",
    "plt.plot(c)\n",
    "\n",
    "-= plt.xlabel('number of components')\n",
    "-= plt.ylabel('cumulative variance')"
   ]
  },
  {
   "cell_type": "markdown",
   "metadata": {},
   "source": [
    "### Feature selection\n",
    "\n",
    "Often in data science we have hundreds or even millions of features and we want a way to create a model that only includes the most important features. This has three benefits. First, we make our model more simple to interpret. Second, we can reduce the variance of the model, and therefore overfitting. Finally, we can reduce the computational cost (and time) of training a model. The process of identifying only the most relevant features is called “feature selection.”\n",
    "- https://chrisalbon.com/machine_learning/trees_and_forests/feature_selection_using_random_forest/\n",
    "- http://blog.datadive.net/selecting-good-features-part-iii-random-forests/\n",
    "- http://blog.datadive.net/selecting-good-features-part-i-univariate-selection/\n",
    "- https://gsarantitis.wordpress.com/2019/03/26/machine-learning-feature-selection-a-collection-of-91-techniques/\n",
    "- #https://www.coursehero.com/file/p30eqa6a/How-is-this-different-from-Recursive-Feature-Elimination-RFE-eg-as-implemented/\n",
    "- #https://towardsdatascience.com/feature-selection-using-wrapper-methods-in-python-f0d352b346f\n"
   ]
  },
  {
   "cell_type": "code",
   "execution_count": 252,
   "metadata": {},
   "outputs": [
    {
     "name": "stderr",
     "output_type": "stream",
     "text": [
      "[Parallel(n_jobs=-1)]: Using backend LokyBackend with 8 concurrent workers.\n",
      "[Parallel(n_jobs=-1)]: Done  25 tasks      | elapsed:    1.4s\n",
      "[Parallel(n_jobs=-1)]: Done  42 out of  42 | elapsed:    2.1s finished\n",
      "\n",
      "[2020-04-03 01:55:37] Features: 1/18 -- score: 0.786729088639201[Parallel(n_jobs=-1)]: Using backend LokyBackend with 8 concurrent workers.\n",
      "[Parallel(n_jobs=-1)]: Done  25 tasks      | elapsed:    1.9s\n",
      "[Parallel(n_jobs=-1)]: Done  41 out of  41 | elapsed:    2.7s finished\n",
      "\n",
      "[2020-04-03 01:55:39] Features: 2/18 -- score: 0.809238451935081[Parallel(n_jobs=-1)]: Using backend LokyBackend with 8 concurrent workers.\n",
      "[Parallel(n_jobs=-1)]: Done  25 tasks      | elapsed:    2.7s\n",
      "[Parallel(n_jobs=-1)]: Done  40 out of  40 | elapsed:    3.6s finished\n",
      "\n",
      "[2020-04-03 01:55:43] Features: 3/18 -- score: 0.8271910112359551[Parallel(n_jobs=-1)]: Using backend LokyBackend with 8 concurrent workers.\n",
      "[Parallel(n_jobs=-1)]: Done  39 out of  39 | elapsed:    3.3s finished\n",
      "\n",
      "[2020-04-03 01:55:47] Features: 4/18 -- score: 0.839538077403246[Parallel(n_jobs=-1)]: Using backend LokyBackend with 8 concurrent workers.\n",
      "[Parallel(n_jobs=-1)]: Done  38 out of  38 | elapsed:    3.4s finished\n",
      "\n",
      "[2020-04-03 01:55:50] Features: 5/18 -- score: 0.8451685393258428[Parallel(n_jobs=-1)]: Using backend LokyBackend with 8 concurrent workers.\n",
      "[Parallel(n_jobs=-1)]: Done  37 out of  37 | elapsed:    3.5s finished\n",
      "\n",
      "[2020-04-03 01:55:54] Features: 6/18 -- score: 0.8451685393258428[Parallel(n_jobs=-1)]: Using backend LokyBackend with 8 concurrent workers.\n",
      "[Parallel(n_jobs=-1)]: Done  36 out of  36 | elapsed:    3.9s finished\n",
      "\n",
      "[2020-04-03 01:55:58] Features: 7/18 -- score: 0.8451685393258428[Parallel(n_jobs=-1)]: Using backend LokyBackend with 8 concurrent workers.\n",
      "[Parallel(n_jobs=-1)]: Done  35 out of  35 | elapsed:    4.3s finished\n",
      "\n",
      "[2020-04-03 01:56:02] Features: 8/18 -- score: 0.8451685393258428[Parallel(n_jobs=-1)]: Using backend LokyBackend with 8 concurrent workers.\n",
      "[Parallel(n_jobs=-1)]: Done  34 out of  34 | elapsed:    4.3s finished\n",
      "\n",
      "[2020-04-03 01:56:06] Features: 9/18 -- score: 0.8451685393258428[Parallel(n_jobs=-1)]: Using backend LokyBackend with 8 concurrent workers.\n",
      "[Parallel(n_jobs=-1)]: Done  33 out of  33 | elapsed:    3.9s finished\n",
      "\n",
      "[2020-04-03 01:56:10] Features: 10/18 -- score: 0.8451685393258428[Parallel(n_jobs=-1)]: Using backend LokyBackend with 8 concurrent workers.\n",
      "[Parallel(n_jobs=-1)]: Done  32 out of  32 | elapsed:    3.5s finished\n",
      "\n",
      "[2020-04-03 01:56:14] Features: 11/18 -- score: 0.8451685393258428[Parallel(n_jobs=-1)]: Using backend LokyBackend with 8 concurrent workers.\n",
      "[Parallel(n_jobs=-1)]: Done  31 out of  31 | elapsed:    3.2s finished\n",
      "\n",
      "[2020-04-03 01:56:17] Features: 12/18 -- score: 0.8440324594257179[Parallel(n_jobs=-1)]: Using backend LokyBackend with 8 concurrent workers.\n",
      "[Parallel(n_jobs=-1)]: Done  30 out of  30 | elapsed:    3.3s finished\n",
      "\n",
      "[2020-04-03 01:56:21] Features: 13/18 -- score: 0.8451685393258428[Parallel(n_jobs=-1)]: Using backend LokyBackend with 8 concurrent workers.\n",
      "[Parallel(n_jobs=-1)]: Done  29 out of  29 | elapsed:    3.0s remaining:    0.0s\n",
      "[Parallel(n_jobs=-1)]: Done  29 out of  29 | elapsed:    3.0s finished\n",
      "\n",
      "[2020-04-03 01:56:24] Features: 14/18 -- score: 0.8418227215980025[Parallel(n_jobs=-1)]: Using backend LokyBackend with 8 concurrent workers.\n",
      "[Parallel(n_jobs=-1)]: Done  28 out of  28 | elapsed:    3.1s remaining:    0.0s\n",
      "[Parallel(n_jobs=-1)]: Done  28 out of  28 | elapsed:    3.1s finished\n",
      "\n",
      "[2020-04-03 01:56:27] Features: 15/18 -- score: 0.838414481897628[Parallel(n_jobs=-1)]: Using backend LokyBackend with 8 concurrent workers.\n",
      "[Parallel(n_jobs=-1)]: Done  27 out of  27 | elapsed:    2.8s finished\n",
      "\n",
      "[2020-04-03 01:56:30] Features: 16/18 -- score: 0.8507990012484395[Parallel(n_jobs=-1)]: Using backend LokyBackend with 8 concurrent workers.\n",
      "[Parallel(n_jobs=-1)]: Done  26 out of  26 | elapsed:    2.9s finished\n",
      "\n",
      "[2020-04-03 01:56:33] Features: 17/18 -- score: 0.8507615480649188[Parallel(n_jobs=-1)]: Using backend LokyBackend with 8 concurrent workers.\n",
      "[Parallel(n_jobs=-1)]: Done  23 out of  25 | elapsed:    2.5s remaining:    0.1s\n",
      "[Parallel(n_jobs=-1)]: Done  25 out of  25 | elapsed:    2.8s finished\n",
      "\n",
      "[2020-04-03 01:56:36] Features: 18/18 -- score: 0.852996254681648"
     ]
    },
    {
     "data": {
      "text/plain": [
       "('Age',\n",
       " 'Sex',\n",
       " 'Pclass',\n",
       " 'Fare',\n",
       " 'Title_Master',\n",
       " 'Title_Mrs',\n",
       " 'Cabin_alpha_A',\n",
       " 'Cabin_alpha_B',\n",
       " 'Cabin_alpha_D',\n",
       " 'Cabin_alpha_F',\n",
       " 'Cabin_alpha_G',\n",
       " 'fare_group_Invited',\n",
       " 'fare_group_Very_low',\n",
       " 'Age_cat_Baby_10',\n",
       " 'Age_cat_Baby_3',\n",
       " 'Age_cat_Baby_4',\n",
       " 'Age_cat_Baby_5',\n",
       " 'Pclass_cat_Second')"
      ]
     },
     "execution_count": 252,
     "metadata": {},
     "output_type": "execute_result"
    }
   ],
   "source": [
    "# Two approaches : \n",
    "# - Recursive Feature Elimination (RFE)\n",
    "# - Sequential Feature Selector (SFS)\n",
    "# RFE is computationally less complex using the feature weight coefficients (e.g., linear models) \n",
    "# or feature importance (tree-based algorithms) to eliminate features recursively,\n",
    "# whereas SFSs eliminate (or add) features based on a user-defined classifier/regression performance metric.\n",
    "\n",
    "from mlxtend.feature_selection import SequentialFeatureSelector as sfs\n",
    "\n",
    "rf = RandomForestClassifier(n_estimators=150, n_jobs=-1)\n",
    "dt= DecisionTreeClassifier()\n",
    "sgb = SGDClassifier(max_iter=2000,validation_fraction=0.2,n_iter_no_change=10, tol=0.005,random_state=10)\n",
    "svc = SVC(kernel=\"rbf\",C=0.9,random_state=10)\n",
    "et = ExtraTreesClassifier()\n",
    "knn = KNeighborsClassifier()\n",
    "nb = GaussianNB()\n",
    "gbs = GradientBoostingClassifier(n_estimators=3500,validation_fraction=0.2,n_iter_no_change=10, tol=0.01,random_state=10)\n",
    "ada = AdaBoostClassifier(DecisionTreeClassifier())\n",
    "lgb = LGBMClassifier(objective='binary',colsample_bytree=0.2, max_depth=4, n_estimators=350, num_leaves=13,subsample=0.1)\n",
    "\n",
    "X = train_df[new_features]\n",
    "X=  train_df  \n",
    "#X = X_scaled_std #SVM, KNN??, boos, ET\n",
    "#X = X_scaled_minmax.drop('Random',axis=1) #SGD, DT\n",
    "#X = X_pca\n",
    "#X = X_fa # RF\n",
    "\n",
    "# Build step forward feature selection\n",
    "sfs1 = sfs(lgb,k_features=18,forward=True,floating=False,verbose=2,scoring='accuracy',\n",
    "           cv=10,n_jobs=-1)\n",
    "# Perform SFFS\n",
    "sfs1 = sfs1.fit(X, y)\n",
    "sfs1.k_feature_names_"
   ]
  },
  {
   "cell_type": "code",
   "execution_count": 257,
   "metadata": {},
   "outputs": [],
   "source": [
    "rf_best  = ['Sex','Pclass','Fare','Embarked_Q','Title_Master','Cabin_alpha_A',\n",
    "           'Cabin_alpha_C','Cabin_alpha_D','Cabin_alpha_F','fare_group_high',\n",
    "           'fare_group_low','fare_group_mid','Age_cat_Baby_10','Age_cat_Baby_5',\n",
    "           'Pclass_cat_Second']\n",
    "\n",
    "dt_best  = ['Sex','Pclass','Fare','Embarked_C','Embarked_Q','FamilyGroup_large',\n",
    "          'Title_Master','Cabin_alpha_F','fare_group_low','Age_cat_Baby_10']\n",
    "\n",
    "sgb_best = ['Sex','Pclass','Parch','Fare','Name_length','FamilyGroup_large',\n",
    "            'Title_Master','Cabin_alpha_C','Cabin_alpha_E','Cabin_alpha_F',\n",
    "            'Age_cat_Baby_3']\n",
    "\n",
    "svc_best = ['Age','Sex','Pclass','Fare','Has_Cabin','Embarked_C',\n",
    "            'FamilyGroup_large','Title_Master','Title_Miss','Title_Mrs',\n",
    "            'Cabin_alpha_E','fare_group_Very_low','fare_group_low',\n",
    "            'Age_cat_Baby_3','Age_cat_Baby_6','Age_cat_Baby_9','Pclass_cat_Second']\n",
    "\n",
    "et_best = ['Sex','Pclass','Fare','Embarked_Q','Title_Master','Title_Rare',\n",
    "           'Cabin_alpha_A','Cabin_alpha_D','Cabin_alpha_F','Cabin_alpha_G',\n",
    "           'fare_group_Invited','fare_group_Very_low','fare_group_low',\n",
    "           'fare_group_very_high','Age_cat_Baby_10','Age_cat_Baby_5']\n",
    "\n",
    "knn_best = ['Sex','parenthese','guill','FamilyGroup_large','Title_Master',\n",
    "            'Title_Mrs','Cabin_alpha_E','Cabin_alpha_F','fare_group_Very_low',\n",
    "            'Age_cat_Baby_1','Age_cat_Baby_5','Age_cat_Baby_7','Age_cat_Baby_9',\n",
    "            'Pclass_cat_Second']\n",
    "\n",
    "nb_best = ['Age','Sex','SibSp','Parch','parenthese','Random','FamilyGroup_large',\n",
    "           'Title_Master','fare_group_Very_low','Age_cat_Baby_3']\n",
    "\n",
    "gbs_best = ['Age','Sex','SibSp','Pclass','Embarked_Q','FamilyGroup_large',\n",
    "            'Title_Master','Cabin_alpha_A','Cabin_alpha_D','Cabin_alpha_E',\n",
    "            'Cabin_alpha_F','Cabin_alpha_G','fare_group_mid','Age_cat_Baby_1',\n",
    "            'Age_cat_Baby_10','Age_cat_Baby_2','Age_cat_Baby_3','Age_cat_Baby_6']\n",
    "\n",
    "ada_best = ['Sex','SibSp','Pclass','Fare','Embarked_Q','Title_Master',\n",
    "            'fare_group_Very_low','fare_group_high','fare_group_mid',\n",
    "            'fare_group_very_high','Age_cat_Baby_10','Age_cat_Baby_3',\n",
    "            'Age_cat_Baby_4']\n",
    "\n",
    "all_best = [ 'Sex','Pclass','Embarked_C','Embarked_Q','FamilyGroup_large', \n",
    "            'Title_Master','Title_Miss','Title_Mrs','Title_Rare','Cabin_alpha_A',\n",
    "            'Cabin_alpha_B','Cabin_alpha_C','Cabin_alpha_D','Cabin_alpha_E',\n",
    "            'Cabin_alpha_F','Cabin_alpha_G','fare_group_low','fare_group_high',\n",
    "            'fare_group_mid','fare_group_Invited','fare_group_Very_low',\n",
    "            'fare_group_very_high','Age_cat_Baby_1','Age_cat_Baby_2','Age_cat_Baby_3',\n",
    "            'Age_cat_Baby_4','Age_cat_Baby_5','Age_cat_Baby_6','Age_cat_Baby_7',\n",
    "            'Age_cat_Baby_8','Age_cat_Baby_9','Age_cat_Baby_10','Pclass_cat_Second',\n",
    "            'Name_length', 'parenthese','guill']\n",
    "\n",
    "lgb_best = ['Age','Sex','Pclass','Fare','Title_Master','Title_Mrs','Cabin_alpha_A','Cabin_alpha_B',\n",
    "              'Cabin_alpha_D','Cabin_alpha_F','Cabin_alpha_G','fare_group_Invited','fare_group_Very_low',\n",
    "              'Age_cat_Baby_10','Age_cat_Baby_3','Age_cat_Baby_4','Age_cat_Baby_5','Pclass_cat_Second']"
   ]
  },
  {
   "cell_type": "markdown",
   "metadata": {},
   "source": [
    "### Grid search"
   ]
  },
  {
   "cell_type": "code",
   "execution_count": 255,
   "metadata": {},
   "outputs": [],
   "source": [
    "rf_params = {\n",
    "    'n_estimators': range(100,2000,50),\n",
    "    'max_depth': range(1,10),\n",
    "    'min_samples_leaf': range(2,10,2),\n",
    "    'min_samples_split':range(2,10,2),\n",
    "}\n",
    "\n",
    "dt_params = {\n",
    "    'max_depth': range(1,10),\n",
    "    'min_samples_leaf': range(2,10),\n",
    "    'min_samples_split':range(2,10),\n",
    "    'criterion' : ['gini', 'entropy']\n",
    "}\n",
    "\n",
    "sgb_params = {\n",
    "    'validation_fraction': [0.3,0.2],\n",
    "    'n_iter_no_change': [5,10], \n",
    "    'tol': [0.005,0.01],\n",
    "    'max_iter' : [1000,2000],\n",
    "    \"loss\" : [\"hinge\", \"log\", \"squared_hinge\", \"modified_huber\"],\n",
    "    \"alpha\" : [0.0001, 0.001, 0.01, 0.1],\n",
    "    \"penalty\" : [\"l2\", \"l1\", \"none\"],\n",
    "}\n",
    "\n",
    "svc_params = [{'kernel': ['rbf'], 'gamma': [1e-3, 1e-4],\n",
    "                     'C': [0.8,0.9, 1, 10, 100, 1000]},\n",
    "                    {'kernel': ['linear'], 'C': [0.8,0.9, 1, 10, 100, 1000]}]\n",
    "\n",
    "et_params = {\n",
    "    'max_depth': range(1,10),\n",
    "    'min_samples_leaf': range(2,10),\n",
    "    'min_samples_split':range(2,10),\n",
    "    'max_features': range(2,15)\n",
    "}\n",
    "\n",
    "knn_params = {\n",
    "    'n_neighbors':[1,2,5,10,20,30], \n",
    "    'p':[1,2],\n",
    "    'weights':['uniform','distance']\n",
    "}\n",
    "\n",
    "nb_params = {\n",
    "    'var_smoothing' : [1e-9,1e-8]\n",
    "}\n",
    "\n",
    "gbs_params = {\n",
    "    #\"loss\":[\"deviance\", 'exponential'],\n",
    "    \"learning_rate\": [0.01, 0.025, 0.05, 0.075, 0.1, 0.15, 0.2],\n",
    "    \"min_samples_split\": np.linspace(0.1, 0.5, 6),\n",
    "    \"min_samples_leaf\": np.linspace(0.1, 0.5, 6),\n",
    "    \"max_depth\":[3,5,8,10],\n",
    "    \"max_features\":[\"log2\",\"sqrt\"],\n",
    "    \"criterion\": [\"friedman_mse\",  \"mae\"],\n",
    "    \"subsample\":[0.5, 0.618, 0.8, 0.85, 0.9, 0.95, 1.0],\n",
    "    \"n_estimators\":range(1,4000,100),\n",
    "    #'validation_fraction': [0.3,0.2],\n",
    "    #'n_iter_no_change': [5,10], \n",
    "    #'tol': [0.005,0.01],\n",
    "    #'max_iter' : [1000,2000]\n",
    "}\n",
    "\n",
    "ada_params = {\n",
    "    'n_estimators': range(50,2000,100),\n",
    "    'learning_rate':[0.01,0.05,0.1,0.2,0.5,1],\n",
    "    'algorithm' : ['SAMME', 'SAMME.R']\n",
    " }\n",
    "\n",
    "\n",
    "lgb_params = {'n_estimators': [275, 350,450,1000, 1500, 2000, 2500],\n",
    "               'max_depth':  [3,4, 5, 6, 8, -1],\n",
    "               'num_leaves': [13,14,15, 16, 31, 63, 127],\n",
    "               'subsample': [0.1, 0.15,0.2, 0.25, 0.6, 0.7, 0.8, 1.0],\n",
    "               'colsample_bytree': [0.45, 0.4, 0.35, 0.2, 0.6, 0.7, 0.8, 1.0]}\n",
    "\n"
   ]
  },
  {
   "cell_type": "code",
   "execution_count": 138,
   "metadata": {
    "scrolled": true
   },
   "outputs": [
    {
     "name": "stdout",
     "output_type": "stream",
     "text": [
      "Grid search for classifier :  GaussianNB\n",
      "Grid search for classifier :  RandomForestClassifier\n"
     ]
    },
    {
     "ename": "KeyboardInterrupt",
     "evalue": "",
     "output_type": "error",
     "traceback": [
      "\u001b[1;31m---------------------------------------------------------------------------\u001b[0m",
      "\u001b[1;31mKeyboardInterrupt\u001b[0m                         Traceback (most recent call last)",
      "\u001b[1;32m<ipython-input-138-6778c9f6c3eb>\u001b[0m in \u001b[0;36m<module>\u001b[1;34m\u001b[0m\n\u001b[0;32m     24\u001b[0m     \u001b[0mtrain_clf\u001b[0m \u001b[1;33m=\u001b[0m \u001b[0mmodels\u001b[0m\u001b[1;33m[\u001b[0m\u001b[0mkey\u001b[0m\u001b[1;33m]\u001b[0m\u001b[1;33m[\u001b[0m\u001b[1;36m1\u001b[0m\u001b[1;33m]\u001b[0m\u001b[1;33m[\u001b[0m\u001b[0mbest_attrib\u001b[0m\u001b[1;33m]\u001b[0m\u001b[1;33m\u001b[0m\u001b[1;33m\u001b[0m\u001b[0m\n\u001b[0;32m     25\u001b[0m     \u001b[0mclassifiers_gs\u001b[0m\u001b[1;33m[\u001b[0m\u001b[0mkey\u001b[0m\u001b[1;33m]\u001b[0m \u001b[1;33m=\u001b[0m \u001b[0mGridSearchCV\u001b[0m\u001b[1;33m(\u001b[0m\u001b[0mclf\u001b[0m\u001b[1;33m,\u001b[0m \u001b[0mparam_grid\u001b[0m\u001b[1;33m=\u001b[0m\u001b[0mgrid_params\u001b[0m\u001b[1;33m,\u001b[0m \u001b[0mcv\u001b[0m\u001b[1;33m=\u001b[0m\u001b[0mcv\u001b[0m\u001b[1;33m,\u001b[0m\u001b[0mn_jobs\u001b[0m\u001b[1;33m=\u001b[0m\u001b[1;33m-\u001b[0m\u001b[1;36m1\u001b[0m\u001b[1;33m)\u001b[0m\u001b[1;33m\u001b[0m\u001b[1;33m\u001b[0m\u001b[0m\n\u001b[1;32m---> 26\u001b[1;33m     \u001b[0m_\u001b[0m \u001b[1;33m=\u001b[0m \u001b[0mclassifiers_gs\u001b[0m\u001b[1;33m[\u001b[0m\u001b[0mkey\u001b[0m\u001b[1;33m]\u001b[0m\u001b[1;33m.\u001b[0m\u001b[0mfit\u001b[0m\u001b[1;33m(\u001b[0m\u001b[0mtrain_clf\u001b[0m\u001b[1;33m[\u001b[0m\u001b[0mbest_attrib\u001b[0m\u001b[1;33m]\u001b[0m\u001b[1;33m,\u001b[0m\u001b[0my\u001b[0m\u001b[1;33m)\u001b[0m\u001b[1;33m\u001b[0m\u001b[1;33m\u001b[0m\u001b[0m\n\u001b[0m",
      "\u001b[1;32mC:\\ProgramData\\Anaconda3\\envs\\courses\\lib\\site-packages\\sklearn\\model_selection\\_search.py\u001b[0m in \u001b[0;36mfit\u001b[1;34m(self, X, y, groups, **fit_params)\u001b[0m\n\u001b[0;32m    710\u001b[0m                 \u001b[1;32mreturn\u001b[0m \u001b[0mresults\u001b[0m\u001b[1;33m\u001b[0m\u001b[1;33m\u001b[0m\u001b[0m\n\u001b[0;32m    711\u001b[0m \u001b[1;33m\u001b[0m\u001b[0m\n\u001b[1;32m--> 712\u001b[1;33m             \u001b[0mself\u001b[0m\u001b[1;33m.\u001b[0m\u001b[0m_run_search\u001b[0m\u001b[1;33m(\u001b[0m\u001b[0mevaluate_candidates\u001b[0m\u001b[1;33m)\u001b[0m\u001b[1;33m\u001b[0m\u001b[1;33m\u001b[0m\u001b[0m\n\u001b[0m\u001b[0;32m    713\u001b[0m \u001b[1;33m\u001b[0m\u001b[0m\n\u001b[0;32m    714\u001b[0m         \u001b[1;31m# For multi-metric evaluation, store the best_index_, best_params_ and\u001b[0m\u001b[1;33m\u001b[0m\u001b[1;33m\u001b[0m\u001b[1;33m\u001b[0m\u001b[0m\n",
      "\u001b[1;32mC:\\ProgramData\\Anaconda3\\envs\\courses\\lib\\site-packages\\sklearn\\model_selection\\_search.py\u001b[0m in \u001b[0;36m_run_search\u001b[1;34m(self, evaluate_candidates)\u001b[0m\n\u001b[0;32m   1151\u001b[0m     \u001b[1;32mdef\u001b[0m \u001b[0m_run_search\u001b[0m\u001b[1;33m(\u001b[0m\u001b[0mself\u001b[0m\u001b[1;33m,\u001b[0m \u001b[0mevaluate_candidates\u001b[0m\u001b[1;33m)\u001b[0m\u001b[1;33m:\u001b[0m\u001b[1;33m\u001b[0m\u001b[1;33m\u001b[0m\u001b[0m\n\u001b[0;32m   1152\u001b[0m         \u001b[1;34m\"\"\"Search all candidates in param_grid\"\"\"\u001b[0m\u001b[1;33m\u001b[0m\u001b[1;33m\u001b[0m\u001b[0m\n\u001b[1;32m-> 1153\u001b[1;33m         \u001b[0mevaluate_candidates\u001b[0m\u001b[1;33m(\u001b[0m\u001b[0mParameterGrid\u001b[0m\u001b[1;33m(\u001b[0m\u001b[0mself\u001b[0m\u001b[1;33m.\u001b[0m\u001b[0mparam_grid\u001b[0m\u001b[1;33m)\u001b[0m\u001b[1;33m)\u001b[0m\u001b[1;33m\u001b[0m\u001b[1;33m\u001b[0m\u001b[0m\n\u001b[0m\u001b[0;32m   1154\u001b[0m \u001b[1;33m\u001b[0m\u001b[0m\n\u001b[0;32m   1155\u001b[0m \u001b[1;33m\u001b[0m\u001b[0m\n",
      "\u001b[1;32mC:\\ProgramData\\Anaconda3\\envs\\courses\\lib\\site-packages\\sklearn\\model_selection\\_search.py\u001b[0m in \u001b[0;36mevaluate_candidates\u001b[1;34m(candidate_params)\u001b[0m\n\u001b[0;32m    689\u001b[0m                                \u001b[1;32mfor\u001b[0m \u001b[0mparameters\u001b[0m\u001b[1;33m,\u001b[0m \u001b[1;33m(\u001b[0m\u001b[0mtrain\u001b[0m\u001b[1;33m,\u001b[0m \u001b[0mtest\u001b[0m\u001b[1;33m)\u001b[0m\u001b[1;33m\u001b[0m\u001b[1;33m\u001b[0m\u001b[0m\n\u001b[0;32m    690\u001b[0m                                in product(candidate_params,\n\u001b[1;32m--> 691\u001b[1;33m                                           cv.split(X, y, groups)))\n\u001b[0m\u001b[0;32m    692\u001b[0m \u001b[1;33m\u001b[0m\u001b[0m\n\u001b[0;32m    693\u001b[0m                 \u001b[1;32mif\u001b[0m \u001b[0mlen\u001b[0m\u001b[1;33m(\u001b[0m\u001b[0mout\u001b[0m\u001b[1;33m)\u001b[0m \u001b[1;33m<\u001b[0m \u001b[1;36m1\u001b[0m\u001b[1;33m:\u001b[0m\u001b[1;33m\u001b[0m\u001b[1;33m\u001b[0m\u001b[0m\n",
      "\u001b[1;32mC:\\ProgramData\\Anaconda3\\envs\\courses\\lib\\site-packages\\joblib\\parallel.py\u001b[0m in \u001b[0;36m__call__\u001b[1;34m(self, iterable)\u001b[0m\n\u001b[0;32m   1015\u001b[0m \u001b[1;33m\u001b[0m\u001b[0m\n\u001b[0;32m   1016\u001b[0m             \u001b[1;32mwith\u001b[0m \u001b[0mself\u001b[0m\u001b[1;33m.\u001b[0m\u001b[0m_backend\u001b[0m\u001b[1;33m.\u001b[0m\u001b[0mretrieval_context\u001b[0m\u001b[1;33m(\u001b[0m\u001b[1;33m)\u001b[0m\u001b[1;33m:\u001b[0m\u001b[1;33m\u001b[0m\u001b[1;33m\u001b[0m\u001b[0m\n\u001b[1;32m-> 1017\u001b[1;33m                 \u001b[0mself\u001b[0m\u001b[1;33m.\u001b[0m\u001b[0mretrieve\u001b[0m\u001b[1;33m(\u001b[0m\u001b[1;33m)\u001b[0m\u001b[1;33m\u001b[0m\u001b[1;33m\u001b[0m\u001b[0m\n\u001b[0m\u001b[0;32m   1018\u001b[0m             \u001b[1;31m# Make sure that we get a last message telling us we are done\u001b[0m\u001b[1;33m\u001b[0m\u001b[1;33m\u001b[0m\u001b[1;33m\u001b[0m\u001b[0m\n\u001b[0;32m   1019\u001b[0m             \u001b[0melapsed_time\u001b[0m \u001b[1;33m=\u001b[0m \u001b[0mtime\u001b[0m\u001b[1;33m.\u001b[0m\u001b[0mtime\u001b[0m\u001b[1;33m(\u001b[0m\u001b[1;33m)\u001b[0m \u001b[1;33m-\u001b[0m \u001b[0mself\u001b[0m\u001b[1;33m.\u001b[0m\u001b[0m_start_time\u001b[0m\u001b[1;33m\u001b[0m\u001b[1;33m\u001b[0m\u001b[0m\n",
      "\u001b[1;32mC:\\ProgramData\\Anaconda3\\envs\\courses\\lib\\site-packages\\joblib\\parallel.py\u001b[0m in \u001b[0;36mretrieve\u001b[1;34m(self)\u001b[0m\n\u001b[0;32m    907\u001b[0m             \u001b[1;32mtry\u001b[0m\u001b[1;33m:\u001b[0m\u001b[1;33m\u001b[0m\u001b[1;33m\u001b[0m\u001b[0m\n\u001b[0;32m    908\u001b[0m                 \u001b[1;32mif\u001b[0m \u001b[0mgetattr\u001b[0m\u001b[1;33m(\u001b[0m\u001b[0mself\u001b[0m\u001b[1;33m.\u001b[0m\u001b[0m_backend\u001b[0m\u001b[1;33m,\u001b[0m \u001b[1;34m'supports_timeout'\u001b[0m\u001b[1;33m,\u001b[0m \u001b[1;32mFalse\u001b[0m\u001b[1;33m)\u001b[0m\u001b[1;33m:\u001b[0m\u001b[1;33m\u001b[0m\u001b[1;33m\u001b[0m\u001b[0m\n\u001b[1;32m--> 909\u001b[1;33m                     \u001b[0mself\u001b[0m\u001b[1;33m.\u001b[0m\u001b[0m_output\u001b[0m\u001b[1;33m.\u001b[0m\u001b[0mextend\u001b[0m\u001b[1;33m(\u001b[0m\u001b[0mjob\u001b[0m\u001b[1;33m.\u001b[0m\u001b[0mget\u001b[0m\u001b[1;33m(\u001b[0m\u001b[0mtimeout\u001b[0m\u001b[1;33m=\u001b[0m\u001b[0mself\u001b[0m\u001b[1;33m.\u001b[0m\u001b[0mtimeout\u001b[0m\u001b[1;33m)\u001b[0m\u001b[1;33m)\u001b[0m\u001b[1;33m\u001b[0m\u001b[1;33m\u001b[0m\u001b[0m\n\u001b[0m\u001b[0;32m    910\u001b[0m                 \u001b[1;32melse\u001b[0m\u001b[1;33m:\u001b[0m\u001b[1;33m\u001b[0m\u001b[1;33m\u001b[0m\u001b[0m\n\u001b[0;32m    911\u001b[0m                     \u001b[0mself\u001b[0m\u001b[1;33m.\u001b[0m\u001b[0m_output\u001b[0m\u001b[1;33m.\u001b[0m\u001b[0mextend\u001b[0m\u001b[1;33m(\u001b[0m\u001b[0mjob\u001b[0m\u001b[1;33m.\u001b[0m\u001b[0mget\u001b[0m\u001b[1;33m(\u001b[0m\u001b[1;33m)\u001b[0m\u001b[1;33m)\u001b[0m\u001b[1;33m\u001b[0m\u001b[1;33m\u001b[0m\u001b[0m\n",
      "\u001b[1;32mC:\\ProgramData\\Anaconda3\\envs\\courses\\lib\\site-packages\\joblib\\_parallel_backends.py\u001b[0m in \u001b[0;36mwrap_future_result\u001b[1;34m(future, timeout)\u001b[0m\n\u001b[0;32m    560\u001b[0m         AsyncResults.get from multiprocessing.\"\"\"\n\u001b[0;32m    561\u001b[0m         \u001b[1;32mtry\u001b[0m\u001b[1;33m:\u001b[0m\u001b[1;33m\u001b[0m\u001b[1;33m\u001b[0m\u001b[0m\n\u001b[1;32m--> 562\u001b[1;33m             \u001b[1;32mreturn\u001b[0m \u001b[0mfuture\u001b[0m\u001b[1;33m.\u001b[0m\u001b[0mresult\u001b[0m\u001b[1;33m(\u001b[0m\u001b[0mtimeout\u001b[0m\u001b[1;33m=\u001b[0m\u001b[0mtimeout\u001b[0m\u001b[1;33m)\u001b[0m\u001b[1;33m\u001b[0m\u001b[1;33m\u001b[0m\u001b[0m\n\u001b[0m\u001b[0;32m    563\u001b[0m         \u001b[1;32mexcept\u001b[0m \u001b[0mLokyTimeoutError\u001b[0m\u001b[1;33m:\u001b[0m\u001b[1;33m\u001b[0m\u001b[1;33m\u001b[0m\u001b[0m\n\u001b[0;32m    564\u001b[0m             \u001b[1;32mraise\u001b[0m \u001b[0mTimeoutError\u001b[0m\u001b[1;33m(\u001b[0m\u001b[1;33m)\u001b[0m\u001b[1;33m\u001b[0m\u001b[1;33m\u001b[0m\u001b[0m\n",
      "\u001b[1;32mC:\\ProgramData\\Anaconda3\\envs\\courses\\lib\\concurrent\\futures\\_base.py\u001b[0m in \u001b[0;36mresult\u001b[1;34m(self, timeout)\u001b[0m\n\u001b[0;32m    428\u001b[0m                 \u001b[1;32mreturn\u001b[0m \u001b[0mself\u001b[0m\u001b[1;33m.\u001b[0m\u001b[0m__get_result\u001b[0m\u001b[1;33m(\u001b[0m\u001b[1;33m)\u001b[0m\u001b[1;33m\u001b[0m\u001b[1;33m\u001b[0m\u001b[0m\n\u001b[0;32m    429\u001b[0m \u001b[1;33m\u001b[0m\u001b[0m\n\u001b[1;32m--> 430\u001b[1;33m             \u001b[0mself\u001b[0m\u001b[1;33m.\u001b[0m\u001b[0m_condition\u001b[0m\u001b[1;33m.\u001b[0m\u001b[0mwait\u001b[0m\u001b[1;33m(\u001b[0m\u001b[0mtimeout\u001b[0m\u001b[1;33m)\u001b[0m\u001b[1;33m\u001b[0m\u001b[1;33m\u001b[0m\u001b[0m\n\u001b[0m\u001b[0;32m    431\u001b[0m \u001b[1;33m\u001b[0m\u001b[0m\n\u001b[0;32m    432\u001b[0m             \u001b[1;32mif\u001b[0m \u001b[0mself\u001b[0m\u001b[1;33m.\u001b[0m\u001b[0m_state\u001b[0m \u001b[1;32min\u001b[0m \u001b[1;33m[\u001b[0m\u001b[0mCANCELLED\u001b[0m\u001b[1;33m,\u001b[0m \u001b[0mCANCELLED_AND_NOTIFIED\u001b[0m\u001b[1;33m]\u001b[0m\u001b[1;33m:\u001b[0m\u001b[1;33m\u001b[0m\u001b[1;33m\u001b[0m\u001b[0m\n",
      "\u001b[1;32mC:\\ProgramData\\Anaconda3\\envs\\courses\\lib\\threading.py\u001b[0m in \u001b[0;36mwait\u001b[1;34m(self, timeout)\u001b[0m\n\u001b[0;32m    294\u001b[0m         \u001b[1;32mtry\u001b[0m\u001b[1;33m:\u001b[0m    \u001b[1;31m# restore state no matter what (e.g., KeyboardInterrupt)\u001b[0m\u001b[1;33m\u001b[0m\u001b[1;33m\u001b[0m\u001b[0m\n\u001b[0;32m    295\u001b[0m             \u001b[1;32mif\u001b[0m \u001b[0mtimeout\u001b[0m \u001b[1;32mis\u001b[0m \u001b[1;32mNone\u001b[0m\u001b[1;33m:\u001b[0m\u001b[1;33m\u001b[0m\u001b[1;33m\u001b[0m\u001b[0m\n\u001b[1;32m--> 296\u001b[1;33m                 \u001b[0mwaiter\u001b[0m\u001b[1;33m.\u001b[0m\u001b[0macquire\u001b[0m\u001b[1;33m(\u001b[0m\u001b[1;33m)\u001b[0m\u001b[1;33m\u001b[0m\u001b[1;33m\u001b[0m\u001b[0m\n\u001b[0m\u001b[0;32m    297\u001b[0m                 \u001b[0mgotit\u001b[0m \u001b[1;33m=\u001b[0m \u001b[1;32mTrue\u001b[0m\u001b[1;33m\u001b[0m\u001b[1;33m\u001b[0m\u001b[0m\n\u001b[0;32m    298\u001b[0m             \u001b[1;32melse\u001b[0m\u001b[1;33m:\u001b[0m\u001b[1;33m\u001b[0m\u001b[1;33m\u001b[0m\u001b[0m\n",
      "\u001b[1;31mKeyboardInterrupt\u001b[0m: "
     ]
    }
   ],
   "source": [
    "X = train_df[new_features]\n",
    "sub_test = test_df[new_features]\n",
    "\n",
    "models = {\n",
    "#'nb' : ['GaussianNB',X,sub_test,nb_best,nb_params],\n",
    "'rf' : ['RandomForestClassifier',X,sub_test,rf_best,rf_params],\n",
    "'dt' : ['DecisionTreeClassifier',X,sub_test,dt_best,dt_params],\n",
    "'sgb': ['SGDClassifier',X_scaled_minmax,X_test_scaled_minmax,sgb_best,sgb_params],\n",
    "'svc': ['SVC',X_scaled_std,X_test_scaled_std,svc_best,svc_params],\n",
    "'et' : ['ExtraTreesClassifier',X,sub_test,et_best,et_params],\n",
    "'knn': ['KNeighborsClassifier',X_scaled_std,X_test_scaled_std,knn_best,knn_params],\n",
    "#'gbs': ['GradientBoostingClassifier',X,sub_test,gbs_best,gbs_params],\n",
    "'ada': ['AdaBoostClassifier',X,sub_test,ada_best,ada_params],\n",
    "'lgb': ['LGBMClassifier',X,sub_test,lgb_best,lgb_params]\n",
    "\n",
    "}\n",
    "\n",
    "cv = StratifiedKFold(n_splits=5,shuffle=True,random_state=100)\n",
    "classifiers_gs = {}\n",
    "\n",
    "for key in models:\n",
    "    print(\"Grid search for classifier : \", models[key][0])\n",
    "    clf = eval(models[key][0]+'()')\n",
    "    grid_params = models[key][4]\n",
    "    best_attrib = models[key][3]\n",
    "    train_clf = models[key][1][best_attrib]\n",
    "    classifiers_gs[key] = GridSearchCV(clf, param_grid=grid_params, cv=cv,n_jobs=-1)\n",
    "    _ = classifiers_gs[key].fit(train_clf[best_attrib],y)\n"
   ]
  },
  {
   "cell_type": "markdown",
   "metadata": {},
   "source": [
    "# classifiers_gs['ada'].best_params_"
   ]
  },
  {
   "cell_type": "code",
   "execution_count": 258,
   "metadata": {},
   "outputs": [],
   "source": [
    "models = {\n",
    "'nb' : ['GaussianNB',X,sub_test,nb_best,nb_params],\n",
    "'rf' : ['RandomForestClassifier',X,sub_test,rf_best,rf_params],\n",
    "'dt' : ['DecisionTreeClassifier',X,sub_test,dt_best,dt_params],\n",
    "'sgb': ['SGDClassifier',X_scaled_minmax,X_test_scaled_minmax,sgb_best,sgb_params],\n",
    "'svc': ['SVC',X_scaled_std,X_test_scaled_std,svc_best,svc_params],\n",
    "'et' : ['ExtraTreesClassifier',X,sub_test,et_best,et_params],\n",
    "'knn': ['KNeighborsClassifier',X_scaled_std,X_test_scaled_std,knn_best,knn_params],\n",
    "#'gbs': ['GradientBoostingClassifier',X,sub_test,gbs_best,gbs_params],\n",
    "'ada': ['AdaBoostClassifier',X,sub_test,ada_best,ada_params],\n",
    "'lgb': ['LGBMClassifier',X,sub_test,lgb_best,lgb_params]\n",
    "\n",
    "}\n",
    "\n",
    "grid_best_params = {\n",
    "'nb' : {'var_smoothing': 1e-09},\n",
    "'rf' : {'max_depth': 9,'min_samples_leaf': 2,'min_samples_split': 4,'n_estimators': 700},\n",
    "'dt' : {'criterion': 'entropy','max_depth': 9, 'min_samples_leaf': 7,'min_samples_split': 2},\n",
    "'sgb': {'alpha': 0.001,'loss': 'log', 'max_iter': 1000,'n_iter_no_change': 5, 'penalty': 'none','tol': 0.01, 'validation_fraction': 0.2},\n",
    "'svc': {'C': 1000, 'gamma': 0.001, 'kernel': 'rbf','probability':True},\n",
    "'et' : {'max_depth': 9,'max_features': 14, 'min_samples_leaf': 2, 'min_samples_split': 6},\n",
    "'knn' : {'n_neighbors': 10, 'p': 1, 'weights': 'distance'},\n",
    "#'gbs': {'validation_fraction':0.2,'n_iter_no_change'=10,'tol':0.01},\n",
    "'ada': {'algorithm': 'SAMME.R', 'learning_rate': 1, 'n_estimators': 450},\n",
    "'lgb' : {'boosting': 'gbdt', 'objective': 'binary','colsample_bytree': 0.2, 'max_depth': 4, 'n_estimators': 350, 'num_leaves': 13, 'subsample': 0.1}\n",
    "}"
   ]
  },
  {
   "cell_type": "markdown",
   "metadata": {},
   "source": [
    "### Construcut models"
   ]
  },
  {
   "cell_type": "code",
   "execution_count": 306,
   "metadata": {},
   "outputs": [],
   "source": [
    "results_df_test = pd.DataFrame()\n",
    "results_df_train = pd.DataFrame(data=np.zeros((len(train_df),len(models.keys()))),columns=models.keys())\n",
    "cv = StratifiedKFold(n_splits=20,shuffle=True,random_state=100)\n",
    "\n",
    "\n",
    "for key in models:\n",
    "    tuned_params = grid_best_params[key]\n",
    "    best_attrib = models[key][3]\n",
    "    X_clf = models[key][1][best_attrib]\n",
    "    sub_test_clf = models[key][2][best_attrib]\n",
    "    model = eval(models[key][0]+'()')\n",
    "    model.set_params(**tuned_params)\n",
    "    \n",
    "    for fold, (train_index, test_index) in enumerate(cv.split(X_clf, y)):\n",
    "        X_train = X_clf.loc[train_index]\n",
    "        y_train = y[train_index]\n",
    "        X_test = X_clf.loc[test_index]\n",
    "        y_test = y[test_index]\n",
    "        if key=='knn' : \n",
    "            _= model.fit(X_train, y_train)\n",
    "        else:\n",
    "            _= model.fit(X_train, y_train, sample_weight=my_weights[train_index])\n",
    "\n",
    "        pred_sub   = model.predict_proba(sub_test_clf)[:,1]\n",
    "        results_df_test[key.upper()+\"_f_\"+str(fold)] = pred_sub\n",
    "\n",
    "        pred_train   = model.predict(X_test)\n",
    "        results_df_train.loc[test_index,key] = pred_train\n",
    "        \n"
   ]
  },
  {
   "cell_type": "code",
   "execution_count": 307,
   "metadata": {},
   "outputs": [
    {
     "name": "stdout",
     "output_type": "stream",
     "text": [
      "nb 0.8316498316498316\n",
      "rf 0.8327721661054994\n",
      "dt 0.8361391694725028\n",
      "sgb 0.8170594837261503\n",
      "svc 0.8294051627384961\n",
      "et 0.8361391694725028\n",
      "knn 0.8338945005611672\n",
      "ada 0.8338945005611672\n",
      "lgb 0.8406285072951739\n"
     ]
    }
   ],
   "source": [
    "for key in  results_df_train.columns:\n",
    "    print(key, accuracy_score(results_df_train[key],y))"
   ]
  },
  {
   "cell_type": "code",
   "execution_count": 308,
   "metadata": {},
   "outputs": [
    {
     "data": {
      "text/html": [
       "<div>\n",
       "<style scoped>\n",
       "    .dataframe tbody tr th:only-of-type {\n",
       "        vertical-align: middle;\n",
       "    }\n",
       "\n",
       "    .dataframe tbody tr th {\n",
       "        vertical-align: top;\n",
       "    }\n",
       "\n",
       "    .dataframe thead th {\n",
       "        text-align: right;\n",
       "    }\n",
       "</style>\n",
       "<table border=\"1\" class=\"dataframe\">\n",
       "  <thead>\n",
       "    <tr style=\"text-align: right;\">\n",
       "      <th></th>\n",
       "      <th>ET_f_0</th>\n",
       "      <th>ET_f_4</th>\n",
       "    </tr>\n",
       "  </thead>\n",
       "  <tbody>\n",
       "    <tr>\n",
       "      <th>0</th>\n",
       "      <td>0.101</td>\n",
       "      <td>0.102</td>\n",
       "    </tr>\n",
       "    <tr>\n",
       "      <th>1</th>\n",
       "      <td>0.773</td>\n",
       "      <td>0.828</td>\n",
       "    </tr>\n",
       "    <tr>\n",
       "      <th>2</th>\n",
       "      <td>0.186</td>\n",
       "      <td>0.244</td>\n",
       "    </tr>\n",
       "    <tr>\n",
       "      <th>3</th>\n",
       "      <td>0.107</td>\n",
       "      <td>0.106</td>\n",
       "    </tr>\n",
       "    <tr>\n",
       "      <th>4</th>\n",
       "      <td>0.572</td>\n",
       "      <td>0.681</td>\n",
       "    </tr>\n",
       "    <tr>\n",
       "      <th>...</th>\n",
       "      <td>...</td>\n",
       "      <td>...</td>\n",
       "    </tr>\n",
       "    <tr>\n",
       "      <th>413</th>\n",
       "      <td>0.108</td>\n",
       "      <td>0.109</td>\n",
       "    </tr>\n",
       "    <tr>\n",
       "      <th>414</th>\n",
       "      <td>1.000</td>\n",
       "      <td>1.000</td>\n",
       "    </tr>\n",
       "    <tr>\n",
       "      <th>415</th>\n",
       "      <td>0.103</td>\n",
       "      <td>0.106</td>\n",
       "    </tr>\n",
       "    <tr>\n",
       "      <th>416</th>\n",
       "      <td>0.108</td>\n",
       "      <td>0.109</td>\n",
       "    </tr>\n",
       "    <tr>\n",
       "      <th>417</th>\n",
       "      <td>0.687</td>\n",
       "      <td>0.719</td>\n",
       "    </tr>\n",
       "  </tbody>\n",
       "</table>\n",
       "<p>418 rows × 2 columns</p>\n",
       "</div>"
      ],
      "text/plain": [
       "     ET_f_0  ET_f_4\n",
       "0     0.101   0.102\n",
       "1     0.773   0.828\n",
       "2     0.186   0.244\n",
       "3     0.107   0.106\n",
       "4     0.572   0.681\n",
       "..      ...     ...\n",
       "413   0.108   0.109\n",
       "414   1.000   1.000\n",
       "415   0.103   0.106\n",
       "416   0.108   0.109\n",
       "417   0.687   0.719\n",
       "\n",
       "[418 rows x 2 columns]"
      ]
     },
     "execution_count": 308,
     "metadata": {},
     "output_type": "execute_result"
    }
   ],
   "source": [
    "round(results_df_test[['ET_f_0','ET_f_4']],3)"
   ]
  },
  {
   "cell_type": "code",
   "execution_count": 310,
   "metadata": {},
   "outputs": [
    {
     "data": {
      "text/html": [
       "<div>\n",
       "<style scoped>\n",
       "    .dataframe tbody tr th:only-of-type {\n",
       "        vertical-align: middle;\n",
       "    }\n",
       "\n",
       "    .dataframe tbody tr th {\n",
       "        vertical-align: top;\n",
       "    }\n",
       "\n",
       "    .dataframe thead th {\n",
       "        text-align: right;\n",
       "    }\n",
       "</style>\n",
       "<table border=\"1\" class=\"dataframe\">\n",
       "  <thead>\n",
       "    <tr style=\"text-align: right;\">\n",
       "      <th></th>\n",
       "      <th>nb</th>\n",
       "      <th>rf</th>\n",
       "      <th>dt</th>\n",
       "      <th>sgb</th>\n",
       "      <th>svc</th>\n",
       "      <th>et</th>\n",
       "      <th>knn</th>\n",
       "      <th>ada</th>\n",
       "      <th>lgb</th>\n",
       "      <th>Majority_vote</th>\n",
       "    </tr>\n",
       "  </thead>\n",
       "  <tbody>\n",
       "    <tr>\n",
       "      <th>0</th>\n",
       "      <td>0</td>\n",
       "      <td>0</td>\n",
       "      <td>0</td>\n",
       "      <td>0</td>\n",
       "      <td>0</td>\n",
       "      <td>0</td>\n",
       "      <td>0</td>\n",
       "      <td>0</td>\n",
       "      <td>0</td>\n",
       "      <td>0</td>\n",
       "    </tr>\n",
       "    <tr>\n",
       "      <th>1</th>\n",
       "      <td>1</td>\n",
       "      <td>1</td>\n",
       "      <td>1</td>\n",
       "      <td>1</td>\n",
       "      <td>0</td>\n",
       "      <td>1</td>\n",
       "      <td>0</td>\n",
       "      <td>1</td>\n",
       "      <td>0</td>\n",
       "      <td>1</td>\n",
       "    </tr>\n",
       "    <tr>\n",
       "      <th>2</th>\n",
       "      <td>0</td>\n",
       "      <td>0</td>\n",
       "      <td>0</td>\n",
       "      <td>0</td>\n",
       "      <td>0</td>\n",
       "      <td>0</td>\n",
       "      <td>0</td>\n",
       "      <td>0</td>\n",
       "      <td>0</td>\n",
       "      <td>0</td>\n",
       "    </tr>\n",
       "    <tr>\n",
       "      <th>3</th>\n",
       "      <td>0</td>\n",
       "      <td>0</td>\n",
       "      <td>0</td>\n",
       "      <td>0</td>\n",
       "      <td>0</td>\n",
       "      <td>0</td>\n",
       "      <td>0</td>\n",
       "      <td>0</td>\n",
       "      <td>0</td>\n",
       "      <td>0</td>\n",
       "    </tr>\n",
       "    <tr>\n",
       "      <th>4</th>\n",
       "      <td>1</td>\n",
       "      <td>1</td>\n",
       "      <td>1</td>\n",
       "      <td>1</td>\n",
       "      <td>1</td>\n",
       "      <td>1</td>\n",
       "      <td>1</td>\n",
       "      <td>1</td>\n",
       "      <td>1</td>\n",
       "      <td>1</td>\n",
       "    </tr>\n",
       "    <tr>\n",
       "      <th>...</th>\n",
       "      <td>...</td>\n",
       "      <td>...</td>\n",
       "      <td>...</td>\n",
       "      <td>...</td>\n",
       "      <td>...</td>\n",
       "      <td>...</td>\n",
       "      <td>...</td>\n",
       "      <td>...</td>\n",
       "      <td>...</td>\n",
       "      <td>...</td>\n",
       "    </tr>\n",
       "    <tr>\n",
       "      <th>413</th>\n",
       "      <td>0</td>\n",
       "      <td>0</td>\n",
       "      <td>0</td>\n",
       "      <td>0</td>\n",
       "      <td>0</td>\n",
       "      <td>0</td>\n",
       "      <td>0</td>\n",
       "      <td>0</td>\n",
       "      <td>0</td>\n",
       "      <td>0</td>\n",
       "    </tr>\n",
       "    <tr>\n",
       "      <th>414</th>\n",
       "      <td>1</td>\n",
       "      <td>1</td>\n",
       "      <td>1</td>\n",
       "      <td>1</td>\n",
       "      <td>1</td>\n",
       "      <td>1</td>\n",
       "      <td>1</td>\n",
       "      <td>1</td>\n",
       "      <td>1</td>\n",
       "      <td>1</td>\n",
       "    </tr>\n",
       "    <tr>\n",
       "      <th>415</th>\n",
       "      <td>0</td>\n",
       "      <td>0</td>\n",
       "      <td>0</td>\n",
       "      <td>0</td>\n",
       "      <td>0</td>\n",
       "      <td>0</td>\n",
       "      <td>0</td>\n",
       "      <td>0</td>\n",
       "      <td>0</td>\n",
       "      <td>0</td>\n",
       "    </tr>\n",
       "    <tr>\n",
       "      <th>416</th>\n",
       "      <td>0</td>\n",
       "      <td>0</td>\n",
       "      <td>0</td>\n",
       "      <td>0</td>\n",
       "      <td>0</td>\n",
       "      <td>0</td>\n",
       "      <td>0</td>\n",
       "      <td>0</td>\n",
       "      <td>0</td>\n",
       "      <td>0</td>\n",
       "    </tr>\n",
       "    <tr>\n",
       "      <th>417</th>\n",
       "      <td>1</td>\n",
       "      <td>0</td>\n",
       "      <td>1</td>\n",
       "      <td>1</td>\n",
       "      <td>1</td>\n",
       "      <td>1</td>\n",
       "      <td>1</td>\n",
       "      <td>1</td>\n",
       "      <td>1</td>\n",
       "      <td>1</td>\n",
       "    </tr>\n",
       "  </tbody>\n",
       "</table>\n",
       "<p>418 rows × 10 columns</p>\n",
       "</div>"
      ],
      "text/plain": [
       "     nb  rf  dt  sgb  svc  et  knn  ada  lgb  Majority_vote\n",
       "0     0   0   0    0    0   0    0    0    0              0\n",
       "1     1   1   1    1    0   1    0    1    0              1\n",
       "2     0   0   0    0    0   0    0    0    0              0\n",
       "3     0   0   0    0    0   0    0    0    0              0\n",
       "4     1   1   1    1    1   1    1    1    1              1\n",
       "..   ..  ..  ..  ...  ...  ..  ...  ...  ...            ...\n",
       "413   0   0   0    0    0   0    0    0    0              0\n",
       "414   1   1   1    1    1   1    1    1    1              1\n",
       "415   0   0   0    0    0   0    0    0    0              0\n",
       "416   0   0   0    0    0   0    0    0    0              0\n",
       "417   1   0   1    1    1   1    1    1    1              1\n",
       "\n",
       "[418 rows x 10 columns]"
      ]
     },
     "execution_count": 310,
     "metadata": {},
     "output_type": "execute_result"
    }
   ],
   "source": [
    "ensemble_prediction = pd.DataFrame()\n",
    "for clf in models:\n",
    "    ensemble_prediction[clf] = (results_df_test.loc[:,clf.upper()+\"_f_0\":clf.upper()+\"_f_19\"].mean(axis=1)>=0.5).astype(int)\n",
    "\n",
    "ensemble_prediction['Majority_vote'] = (ensemble_prediction.mean(axis=1)>=0.5).astype(int) \n",
    "ensemble_prediction"
   ]
  },
  {
   "cell_type": "code",
   "execution_count": 311,
   "metadata": {},
   "outputs": [
    {
     "data": {
      "text/plain": [
       "0.76076"
      ]
     },
     "execution_count": 311,
     "metadata": {},
     "output_type": "execute_result"
    }
   ],
   "source": [
    "for key in ensemble_prediction.columns.values: \n",
    "    my_final_sub = pd.read_csv('.\\\\titanic\\\\test.csv')[['PassengerId']]\n",
    "    my_final_sub['Survived'] = ensemble_prediction[key]\n",
    "    my_final_sub.to_csv('submission_'+str(key)+'_.csv', index=False)\n",
    "#Kaggle Score : \n",
    "# ADA : 0.76076\n",
    "# DT : 0.77990\n",
    "# ET : 0.77511\n",
    "# KNN : 0.74641\n",
    "# NB : 0.74641\n",
    "# RF : 0.77990\n",
    "# SGB : 0.77033\n",
    "# SVC : 0.77033\n",
    "# Majority : 0.80382\n",
    "# LGB : 0.74162\n",
    "0.76076\n"
   ]
  },
  {
   "cell_type": "code",
   "execution_count": 213,
   "metadata": {},
   "outputs": [],
   "source": [
    "ensemble_5cv = ensemble_prediction.copy()"
   ]
  },
  {
   "cell_type": "code",
   "execution_count": 210,
   "metadata": {},
   "outputs": [],
   "source": [
    "ensemble_10cv = ensemble_prediction.copy()"
   ]
  },
  {
   "cell_type": "code",
   "execution_count": null,
   "metadata": {},
   "outputs": [],
   "source": [
    "last_sub"
   ]
  },
  {
   "cell_type": "code",
   "execution_count": null,
   "metadata": {},
   "outputs": [],
   "source": [
    "model.score(X,y)"
   ]
  },
  {
   "cell_type": "code",
   "execution_count": null,
   "metadata": {},
   "outputs": [],
   "source": [
    "results_df_train.mean(),results_df_train.std()#18.8"
   ]
  },
  {
   "cell_type": "code",
   "execution_count": null,
   "metadata": {},
   "outputs": [],
   "source": [
    "preds = (results_df_test.mean(axis=1) >=0.5).astype(int)\n",
    "preds"
   ]
  },
  {
   "cell_type": "markdown",
   "metadata": {},
   "source": [
    "https://dkopczyk.quantee.co.uk/hyperparameter-optimization/"
   ]
  },
  {
   "cell_type": "code",
   "execution_count": 245,
   "metadata": {},
   "outputs": [
    {
     "ename": "TypeError",
     "evalue": "fit() missing 2 required positional arguments: 'X' and 'y'",
     "output_type": "error",
     "traceback": [
      "\u001b[1;31m---------------------------------------------------------------------------\u001b[0m",
      "\u001b[1;31mTypeError\u001b[0m                                 Traceback (most recent call last)",
      "\u001b[1;32m<ipython-input-245-a65f8826740a>\u001b[0m in \u001b[0;36m<module>\u001b[1;34m\u001b[0m\n\u001b[0;32m     17\u001b[0m \u001b[1;33m\u001b[0m\u001b[0m\n\u001b[0;32m     18\u001b[0m \u001b[0mest\u001b[0m \u001b[1;33m=\u001b[0m \u001b[0mlgb\u001b[0m\u001b[1;33m.\u001b[0m\u001b[0mLGBMClassifier\u001b[0m\u001b[1;33m(\u001b[0m\u001b[0mboosting\u001b[0m\u001b[1;33m=\u001b[0m\u001b[1;34m'gbdt'\u001b[0m\u001b[1;33m,\u001b[0m \u001b[0mn_jobs\u001b[0m\u001b[1;33m=\u001b[0m\u001b[1;33m-\u001b[0m\u001b[1;36m1\u001b[0m\u001b[1;33m,\u001b[0m \u001b[0mobjective\u001b[0m \u001b[1;33m=\u001b[0m \u001b[1;34m'binary'\u001b[0m\u001b[1;33m,\u001b[0m\u001b[0mrandom_state\u001b[0m\u001b[1;33m=\u001b[0m\u001b[1;36m2018\u001b[0m\u001b[1;33m,\u001b[0m\u001b[0mcolsample_bytree\u001b[0m\u001b[1;33m=\u001b[0m\u001b[1;36m0.2\u001b[0m\u001b[1;33m,\u001b[0m\u001b[0mmax_depth\u001b[0m\u001b[1;33m=\u001b[0m\u001b[1;36m4\u001b[0m\u001b[1;33m,\u001b[0m\u001b[0mn_estimators\u001b[0m\u001b[1;33m=\u001b[0m\u001b[1;36m350\u001b[0m\u001b[1;33m,\u001b[0m\u001b[0mnum_leaves\u001b[0m\u001b[1;33m=\u001b[0m\u001b[1;36m13\u001b[0m\u001b[1;33m,\u001b[0m \u001b[0msubsample\u001b[0m\u001b[1;33m=\u001b[0m\u001b[1;36m0.1\u001b[0m\u001b[1;33m)\u001b[0m\u001b[1;33m\u001b[0m\u001b[1;33m\u001b[0m\u001b[0m\n\u001b[1;32m---> 19\u001b[1;33m \u001b[0mest\u001b[0m\u001b[1;33m.\u001b[0m\u001b[0mfit\u001b[0m\u001b[1;33m(\u001b[0m\u001b[1;33m)\u001b[0m\u001b[1;33m\u001b[0m\u001b[1;33m\u001b[0m\u001b[0m\n\u001b[0m\u001b[0;32m     20\u001b[0m \u001b[0mgs\u001b[0m \u001b[1;33m=\u001b[0m \u001b[0mGridSearchCV\u001b[0m\u001b[1;33m(\u001b[0m\u001b[0mest\u001b[0m\u001b[1;33m,\u001b[0m \u001b[0mhyper_space\u001b[0m\u001b[1;33m,\u001b[0m  \u001b[0mcv\u001b[0m\u001b[1;33m=\u001b[0m\u001b[1;36m4\u001b[0m\u001b[1;33m,\u001b[0m \u001b[0mverbose\u001b[0m\u001b[1;33m=\u001b[0m\u001b[1;36m1\u001b[0m\u001b[1;33m,\u001b[0m \u001b[0mn_jobs\u001b[0m\u001b[1;33m=\u001b[0m\u001b[1;33m-\u001b[0m\u001b[1;36m1\u001b[0m\u001b[1;33m)\u001b[0m\u001b[1;33m\u001b[0m\u001b[1;33m\u001b[0m\u001b[0m\n\u001b[0;32m     21\u001b[0m \u001b[0mgs_results\u001b[0m \u001b[1;33m=\u001b[0m \u001b[0mgs\u001b[0m\u001b[1;33m.\u001b[0m\u001b[0mfit\u001b[0m\u001b[1;33m(\u001b[0m\u001b[0mX_pca\u001b[0m\u001b[1;33m,\u001b[0m \u001b[0my\u001b[0m\u001b[1;33m)\u001b[0m\u001b[1;33m\u001b[0m\u001b[1;33m\u001b[0m\u001b[0m\n",
      "\u001b[1;31mTypeError\u001b[0m: fit() missing 2 required positional arguments: 'X' and 'y'"
     ]
    }
   ],
   "source": [
    "# X : {'colsample_bytree': 0.2, 'max_depth': 4, 'n_estimators': 350, 'num_leaves': 13, 'subsample': 0.1}\n",
    "# X minmax : {'colsample_bytree': 0.2, 'max_depth': 4, 'n_estimators': 450, 'num_leaves': 14, 'subsample': 0.1}\n",
    "#X rob : {'colsample_bytree': 0.2, 'max_depth': 4, 'n_estimators': 450, 'num_leaves': 14, 'subsample': 0.1} \n",
    "\n",
    "hyper_space = {'n_estimators': [275, 350,450,1000, 1500, 2000, 2500],\n",
    "               'max_depth':  [3,4, 5, 6 8, -1],\n",
    "               'num_leaves': [13,14,15, 16, 31, 63, 127],\n",
    "               'subsample': [0.1, 0.15,0.2, 0.25, 0.6, 0.7, 0.8, 1.0],\n",
    "               'colsample_bytree': [0.45, 0.4, 0.35, 0.2, 0.6, 0.7, 0.8, 1.0]}\n",
    "\n",
    "\n",
    "est = lgb.LGBMClassifier(boosting='gbdt', n_jobs=-1, objective = 'binary',random_state=2018,colsample_bytree=0.2,max_depth=4,n_estimators=350,num_leaves=13, subsample=0.1)\n",
    "est.fit()\n",
    "gs = GridSearchCV(est, hyper_space,  cv=4, verbose=1, n_jobs=-1)\n",
    "gs_results = gs.fit(X_pca, y)\n",
    "print(\"BEST PARAMETERS: \" + str(gs_results.best_params_))\n",
    "print(\"BEST CV SCORE: \" + str(gs_results.best_score_))\n"
   ]
  },
  {
   "cell_type": "code",
   "execution_count": 243,
   "metadata": {},
   "outputs": [
    {
     "ename": "AttributeError",
     "evalue": "module 'lightgbm' has no attribute 'fit'",
     "output_type": "error",
     "traceback": [
      "\u001b[1;31m---------------------------------------------------------------------------\u001b[0m",
      "\u001b[1;31mAttributeError\u001b[0m                            Traceback (most recent call last)",
      "\u001b[1;32m<ipython-input-243-902eb7df168e>\u001b[0m in \u001b[0;36m<module>\u001b[1;34m\u001b[0m\n\u001b[0;32m     12\u001b[0m \u001b[0mparams\u001b[0m\u001b[1;33m[\u001b[0m\u001b[1;34m'max_depth'\u001b[0m\u001b[1;33m]\u001b[0m \u001b[1;33m=\u001b[0m \u001b[1;36m10\u001b[0m\u001b[1;33m\u001b[0m\u001b[1;33m\u001b[0m\u001b[0m\n\u001b[0;32m     13\u001b[0m \u001b[0mclf\u001b[0m \u001b[1;33m=\u001b[0m \u001b[0mlgb\u001b[0m\u001b[1;33m.\u001b[0m\u001b[0mtrain\u001b[0m\u001b[1;33m(\u001b[0m\u001b[0mparams\u001b[0m\u001b[1;33m,\u001b[0m \u001b[0md_train\u001b[0m\u001b[1;33m,\u001b[0m \u001b[1;36m100\u001b[0m\u001b[1;33m)\u001b[0m\u001b[1;33m\u001b[0m\u001b[1;33m\u001b[0m\u001b[0m\n\u001b[1;32m---> 14\u001b[1;33m \u001b[0mlgb\u001b[0m\u001b[1;33m.\u001b[0m\u001b[0mfit\u001b[0m\u001b[1;33m(\u001b[0m\u001b[1;33m)\u001b[0m\u001b[1;33m\u001b[0m\u001b[1;33m\u001b[0m\u001b[0m\n\u001b[0m\u001b[0;32m     15\u001b[0m \u001b[1;31m#Prediction\u001b[0m\u001b[1;33m\u001b[0m\u001b[1;33m\u001b[0m\u001b[1;33m\u001b[0m\u001b[0m\n\u001b[0;32m     16\u001b[0m \u001b[0my_pred\u001b[0m\u001b[1;33m=\u001b[0m\u001b[0mclf\u001b[0m\u001b[1;33m.\u001b[0m\u001b[0mpredict\u001b[0m\u001b[1;33m(\u001b[0m\u001b[0mx_test\u001b[0m\u001b[1;33m)\u001b[0m\u001b[1;31m#convert into binary valuesfor i in range(0,99):\u001b[0m\u001b[1;33m\u001b[0m\u001b[1;33m\u001b[0m\u001b[0m\n",
      "\u001b[1;31mAttributeError\u001b[0m: module 'lightgbm' has no attribute 'fit'"
     ]
    }
   ],
   "source": [
    "import lightgbm as lgb\n",
    "\n",
    "d_train = lgb.Dataset(X_fa, label=y)\n",
    "params = {}\n",
    "params['learning_rate'] = 0.003\n",
    "params['boosting_type'] = 'gbdt'\n",
    "params['objective'] = 'binary'\n",
    "params['metric'] = 'binary_logloss'\n",
    "params['sub_feature'] = 0.5\n",
    "params['num_leaves'] = 10\n",
    "params['min_data'] = 50\n",
    "params['max_depth'] = 10\n",
    "clf = lgb.train(params, d_train, 100)\n",
    "#Prediction\n",
    "y_pred=clf.predict(x_test)#convert into binary valuesfor i in range(0,99):\n",
    "if y_pred[i]>=.5:       # setting threshold to .5\n",
    "    y_pred[i]=1\n",
    "else:  \n",
    "    y_pred[i]=0"
   ]
  },
  {
   "cell_type": "code",
   "execution_count": 220,
   "metadata": {},
   "outputs": [
    {
     "data": {
      "text/plain": [
       "GridSearchCV(cv=4, error_score=nan,\n",
       "             estimator=LGBMClassifier(boosting_type='gbdt', class_weight=None,\n",
       "                                      colsample_bytree=1.0,\n",
       "                                      importance_type='split',\n",
       "                                      learning_rate=0.1, max_bin=512,\n",
       "                                      max_depth=-1, min_child_samples=5,\n",
       "                                      min_child_weight=1, min_split_gain=0.5,\n",
       "                                      n_estimators=100, n_jobs=3, num_leaves=31,\n",
       "                                      objective='binary', random_state=None,\n",
       "                                      reg_alpha=0.0, reg_lambda=0.0,...\n",
       "             iid='deprecated', n_jobs=-1,\n",
       "             param_grid={'boosting_type': ['gbdt'],\n",
       "                         'colsample_bytree': [0.65, 0.66],\n",
       "                         'learning_rate': [0.005], 'n_estimators': [40],\n",
       "                         'num_leaves': [6, 8, 12, 16], 'objective': ['binary'],\n",
       "                         'random_state': [501], 'reg_alpha': [1, 1.2],\n",
       "                         'reg_lambda': [1, 1.2, 1.4],\n",
       "                         'subsample': [0.7, 0.75]},\n",
       "             pre_dispatch='2*n_jobs', refit=True, return_train_score=False,\n",
       "             scoring=None, verbose=0)"
      ]
     },
     "execution_count": 220,
     "metadata": {},
     "output_type": "execute_result"
    }
   ],
   "source": [
    "import lightgbm as lgb\n",
    "\n",
    "params = {'boosting_type': 'gbdt',\n",
    "          'max_depth' : -1,\n",
    "          'objective': 'binary',\n",
    "          #'nthread': 3, # Updated from nthread\n",
    "          'num_leaves': 64,\n",
    "          'learning_rate': 0.05,\n",
    "          'max_bin': 512,\n",
    "          'subsample_for_bin': 200,\n",
    "          'subsample': 1,\n",
    "          'subsample_freq': 1,\n",
    "          'colsample_bytree': 0.8,\n",
    "          'reg_alpha': 5,\n",
    "          'reg_lambda': 10,\n",
    "          'min_split_gain': 0.5,\n",
    "          'min_child_weight': 1,\n",
    "          'min_child_samples': 5,\n",
    "          'scale_pos_weight': 1,\n",
    "          'num_class' : 1,\n",
    "          'metric' : 'binary_error'}\n",
    "\n",
    "# Create parameters to search\n",
    "gridParams = {\n",
    "    'learning_rate': [0.005],\n",
    "    'n_estimators': [40],\n",
    "    'num_leaves': [6,8,12,16],\n",
    "    'boosting_type' : ['gbdt'],\n",
    "    'objective' : ['binary'],\n",
    "    'random_state' : [501], # Updated from 'seed'\n",
    "    'colsample_bytree' : [0.65, 0.66],\n",
    "    'subsample' : [0.7,0.75],\n",
    "    'reg_alpha' : [1,1.2],\n",
    "    'reg_lambda' : [1,1.2,1.4],\n",
    "    }\n",
    "\n",
    "# Create the dataset :\n",
    "\n",
    "d_train = lgb.Dataset(ensemble_5cv, label=y)\n",
    "\n",
    "# Create classifier to use. Note that parameters have to be input manually\n",
    "# not as a dict!\n",
    "mdl = lgb.LGBMClassifier(boosting_type= 'gbdt',\n",
    "          objective = 'binary',\n",
    "          n_jobs = 3, # Updated from 'nthread'\n",
    "          silent = True,\n",
    "          max_depth = params['max_depth'],\n",
    "          max_bin = params['max_bin'],\n",
    "          subsample_for_bin = params['subsample_for_bin'],\n",
    "          subsample = params['subsample'],\n",
    "          subsample_freq = params['subsample_freq'],\n",
    "          min_split_gain = params['min_split_gain'],\n",
    "          min_child_weight = params['min_child_weight'],\n",
    "          min_child_samples = params['min_child_samples'],\n",
    "          scale_pos_weight = params['scale_pos_weight'])\n",
    "\n",
    "# To view the default model params:\n",
    "mdl.get_params().keys()\n",
    "\n",
    "# Create the grid\n",
    "grid = GridSearchCV(mdl, gridParams,\n",
    "                    verbose=0,\n",
    "                    cv=4,\n",
    "                    n_jobs=-1)\n",
    "# Run the grid\n",
    "\n",
    "grid.fit(results_df_train,y)\n",
    "\n"
   ]
  },
  {
   "cell_type": "code",
   "execution_count": 221,
   "metadata": {},
   "outputs": [
    {
     "name": "stdout",
     "output_type": "stream",
     "text": [
      "{'boosting_type': 'gbdt', 'colsample_bytree': 0.65, 'learning_rate': 0.005, 'n_estimators': 40, 'num_leaves': 6, 'objective': 'binary', 'random_state': 501, 'reg_alpha': 1, 'reg_lambda': 1, 'subsample': 0.7}\n",
      "0.6161626873510282\n",
      "Fitting with params: \n",
      "{'boosting_type': 'gbdt', 'max_depth': -1, 'objective': 'binary', 'num_leaves': 6, 'learning_rate': 0.005, 'max_bin': 512, 'subsample_for_bin': 200, 'subsample': 0.7, 'subsample_freq': 1, 'colsample_bytree': 0.65, 'reg_alpha': 1, 'reg_lambda': 1, 'min_split_gain': 0.5, 'min_child_weight': 1, 'min_child_samples': 5, 'scale_pos_weight': 1, 'num_class': 1, 'metric': 'binary_error'}\n"
     ]
    }
   ],
   "source": [
    "# Print the best parameters found\n",
    "print(grid.best_params_)\n",
    "print(grid.best_score_)\n",
    "\n",
    "# Using parameters already set above, replace in the best from the grid search\n",
    "params['colsample_bytree'] = grid.best_params_['colsample_bytree']\n",
    "params['learning_rate'] = grid.best_params_['learning_rate']\n",
    "# params['max_bin'] = grid.best_params_['max_bin']\n",
    "params['num_leaves'] = grid.best_params_['num_leaves']\n",
    "params['reg_alpha'] = grid.best_params_['reg_alpha']\n",
    "params['reg_lambda'] = grid.best_params_['reg_lambda']\n",
    "params['subsample'] = grid.best_params_['subsample']\n",
    "# params['subsample_for_bin'] = grid.best_params_['subsample_for_bin']\n",
    "\n",
    "print('Fitting with params: ')\n",
    "print(params)\n"
   ]
  },
  {
   "cell_type": "code",
   "execution_count": null,
   "metadata": {},
   "outputs": [],
   "source": [
    "\n",
    "# Kit k models with early-stopping on different training/validation splits\n",
    "k = 4\n",
    "predsValid = 0\n",
    "predsTrain = 0\n",
    "predsTest = 0\n",
    "for i in range(0, k):\n",
    "    print('Fitting model', k)\n",
    "\n",
    "    # Prepare the data set for fold\n",
    "    trainData, validData = train_test_split(train,\n",
    "                                            test_size=0.4,\n",
    "                                            stratify=train.Survived)\n",
    "    trainDataL, trainLabels, trainIDs, trainData = prepLGB(trainData,\n",
    "                                                     classCol='Survived',\n",
    "                                                     IDCol='PassengerId',\n",
    "                                                     fDrop=fDrop)\n",
    "    validDataL, validLabels, validIDs, validData = prepLGB(validData,\n",
    "                                                     classCol='Survived',\n",
    "                                                     IDCol='PassengerId',\n",
    "                                                     fDrop=fDrop)\n",
    "    # Train\n",
    "    gbm = lgb.train(params,\n",
    "                    trainDataL,\n",
    "                    100000,\n",
    "                    valid_sets=[trainDataL, validDataL],\n",
    "                    early_stopping_rounds=50,\n",
    "                    verbose_eval=4)\n",
    "\n",
    "    # Plot importance\n",
    "    lgb.plot_importance(gbm)\n",
    "    plt.show()\n",
    "\n",
    "    # Predict\n",
    "    predsValid += gbm.predict(validData,\n",
    "                              num_iteration=gbm.best_iteration)/k\n",
    "    predsTrain += gbm.predict(trainData,\n",
    "                              num_iteration=gbm.best_iteration)/k\n",
    "    predsTest += gbm.predict(testData,\n",
    "                             num_iteration=gbm.best_iteration)/k\n",
    "\n",
    "# Print assessment\n",
    "# assessMod(predsTrain, trainLabels, predsValid=predsValid, yValid= validLabels,\n",
    "#           report=True, plot=True)\n",
    "\n",
    "# Save submission\n",
    "sub = pd.DataFrame()\n",
    "sub['PassengerId'] = test['PassengerId']\n",
    "sub['Survived'] = np.int32(predsTest > 0.5)\n",
    "sub.to_csv('sub2.csv',\n",
    "           index=False)\n"
   ]
  },
  {
   "cell_type": "code",
   "execution_count": null,
   "metadata": {},
   "outputs": [],
   "source": [
    "import xgboost as xgb\n",
    "X = train_df\n",
    "sub_test = test_df\n",
    "\n",
    "# Gradient Boosting parameters\n",
    "gb_params = {\n",
    "    'n_estimators': range(1,100),\n",
    "     #'max_features': 0.2,\n",
    "    'max_depth': range(0,10),\n",
    "    'min_samples_leaf': range(0,10),\n",
    "}\n",
    "\n",
    "# Stacking\n",
    "gbm = xgb.XGBClassifier(\n",
    "    #learning_rate = 0.02,\n",
    " n_estimators= 1500,\n",
    " max_depth= 4,\n",
    " min_child_weight= 2,\n",
    " #gamma=1,\n",
    " gamma=0.9,                        \n",
    " subsample=0.8,\n",
    " colsample_bytree=0.8,\n",
    " objective= 'binary:logistic',\n",
    " nthread= -1,\n",
    " scale_pos_weight=1)\n",
    "\n",
    "clf_gbm = GridSearchCV(gbm,param_grid=gb_params,cv=2, n_jobs=-1)\n",
    "clf_gbm.fit(results_df_train, y)\n",
    "\n",
    "predictions = clf_gbm.predict(ensemble_prediction)\n"
   ]
  },
  {
   "cell_type": "code",
   "execution_count": null,
   "metadata": {},
   "outputs": [],
   "source": [
    "clf_gbm.best_score_"
   ]
  },
  {
   "cell_type": "code",
   "execution_count": null,
   "metadata": {},
   "outputs": [],
   "source": [
    "https://www.quora.com/How-does-the-boosting-algorithm-work-in-machine-learning-and-what-is-a-short-example-thereof"
   ]
  }
 ],
 "metadata": {
  "kernelspec": {
   "display_name": "Python 3",
   "language": "python",
   "name": "python3"
  },
  "language_info": {
   "codemirror_mode": {
    "name": "ipython",
    "version": 3
   },
   "file_extension": ".py",
   "mimetype": "text/x-python",
   "name": "python",
   "nbconvert_exporter": "python",
   "pygments_lexer": "ipython3",
   "version": "3.8.5"
  }
 },
 "nbformat": 4,
 "nbformat_minor": 4
}
