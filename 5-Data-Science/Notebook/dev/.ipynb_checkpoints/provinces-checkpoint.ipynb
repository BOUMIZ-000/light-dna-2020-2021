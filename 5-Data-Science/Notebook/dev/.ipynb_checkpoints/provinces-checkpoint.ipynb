{
 "cells": [
  {
   "cell_type": "markdown",
   "metadata": {},
   "source": [
    "# Corona Visualization"
   ]
  },
  {
   "attachments": {},
   "cell_type": "markdown",
   "metadata": {},
   "source": [
    "This dataset reports total_cases from 24 February until 18 March date of the last detection, by province with latitude and longitude. In italy, the first level devision is region which may include many provinces. The number of regions is 20 and the number of provinces is 110. \n",
    "\n",
    "   **Variables Description**\n",
    "\n",
    "\n",
    "- Two files: covid19_italy_province.csv and covid19_italy_region.csv\n",
    "- Province Data: covid19_italy_province.csv\n",
    "\n",
    "    * SNo: Serial Number\n",
    "    * Date: Date of Notification in format YYYY-MM-DD HH:MM:SS (ISO 8601)\n",
    "    * Country: Country in format XYZ (ISO 3166-1 alpha-3)\n",
    "    * RegionCode: Code of the Region (ISTAT 2019)\n",
    "    * RegionName: Name of the Region\n",
    "    * ProvinceCode: Code of the Province (ISTAT 2019)\n",
    "    * ProvinceName: Province name\n",
    "    * ProvinceAbbreviation: Province abbreviated (2 letters)\n",
    "    * Latitude: Latitude\n",
    "    * Longitude: Longitude\n",
    "    * TotalPositiveCases: Total amount of positive cases\n",
    "\n",
    "- Regional Data : covid19_italy_region.csv\n",
    "\n",
    "    * SNo: Serial Number\n",
    "    * Date: Date of Notification in format YYYY-MM-DD HH:MM:SS (ISO 8601)\n",
    "    * Country: Country in format XYZ (ISO 3166-1 alpha-3)\n",
    "    * RegionCode: Code of the Region (ISTAT 2019)\n",
    "    * RegionName: Name of the Region\n",
    "    * Latitude: Latitude\n",
    "    * Longitude: Longitude\n",
    "    * HospitalizedPatients: Hospitalized patients with symptoms, not in Intensive Care\n",
    "    * IntensiveCarePatients: Intensive Care Patients\n",
    "    * TotalHospitalizedPatients: Total hospitalized patients (HospitalizedPatients + IntensiveCarePatients)\n",
    "    * HomeConfinement: Individuals in quarantine through home confinement\n",
    "    * CurrentPositiveCases: Total amount of current positive cases (Total Hospitalized patients + Home Confinement)\n",
    "    * NewPositiveCases: New amount of current positive cases from previous record (previous day)\n",
    "    * Recovered: Number of recovered cases\n",
    "    * Deaths: Number of deaths\n",
    "    * TotalPositiveCases: Total amount of positive cases\n",
    "    * TestsPerformed: Number of tests performed"
   ]
  },
  {
   "cell_type": "code",
   "execution_count": null,
   "metadata": {},
   "outputs": [],
   "source": [
    "import pandas as pd\n",
    "import numpy as np\n",
    "\n",
    "import matplotlib.pyplot as plt\n",
    "import seaborn as sns\n",
    "import plotly.express as px # Drawing \n",
    "from mpl_toolkits.basemap import Basemap # Map\n",
    "\n",
    "import warnings\n",
    "warnings.filterwarnings('ignore')\n",
    "\n",
    "from fbprophet import Prophet\n",
    "from fbprophet.plot import plot_plotly, add_changepoints_to_plot\n",
    "import plotly.offline as py\n",
    "%matplotlib inline\n"
   ]
  },
  {
   "cell_type": "markdown",
   "metadata": {},
   "source": [
    "# 1. Loading the dataset"
   ]
  },
  {
   "cell_type": "markdown",
   "metadata": {},
   "source": [
    "### Before loading the data using DataFrame from pandas, please read this link:\n",
    "- https://support.google.com/meet/answer/9760270?hl=en"
   ]
  },
  {
   "cell_type": "markdown",
   "metadata": {},
   "source": [
    "### Question 1: Load the dataset of privinces (resp. regions) in a dataframe provinces (resp. regions). The row index will be the column SNo"
   ]
  },
  {
   "cell_type": "code",
   "execution_count": null,
   "metadata": {},
   "outputs": [],
   "source": []
  },
  {
   "cell_type": "code",
   "execution_count": null,
   "metadata": {},
   "outputs": [],
   "source": []
  },
  {
   "cell_type": "markdown",
   "metadata": {},
   "source": [
    "### Question 2: For each dataset, print the information about its attributes (name, count, and type)"
   ]
  },
  {
   "cell_type": "code",
   "execution_count": null,
   "metadata": {},
   "outputs": [],
   "source": []
  },
  {
   "cell_type": "code",
   "execution_count": null,
   "metadata": {},
   "outputs": [],
   "source": []
  },
  {
   "cell_type": "markdown",
   "metadata": {},
   "source": [
    "### Question 3: Using isna(), print the number of Nan value for each attribute (for both dataset)"
   ]
  },
  {
   "cell_type": "code",
   "execution_count": null,
   "metadata": {},
   "outputs": [],
   "source": []
  },
  {
   "cell_type": "code",
   "execution_count": null,
   "metadata": {},
   "outputs": [],
   "source": []
  },
  {
   "cell_type": "markdown",
   "metadata": {},
   "source": [
    "### Question 4: For numerical data, print the statistics of each attribute for both dataset"
   ]
  },
  {
   "cell_type": "code",
   "execution_count": null,
   "metadata": {},
   "outputs": [],
   "source": []
  },
  {
   "cell_type": "code",
   "execution_count": null,
   "metadata": {},
   "outputs": [],
   "source": []
  },
  {
   "cell_type": "markdown",
   "metadata": {},
   "source": [
    "### Question 5: Print the first 20 rows in each dataset"
   ]
  },
  {
   "cell_type": "code",
   "execution_count": null,
   "metadata": {},
   "outputs": [],
   "source": []
  },
  {
   "cell_type": "code",
   "execution_count": null,
   "metadata": {},
   "outputs": [],
   "source": []
  },
  {
   "cell_type": "markdown",
   "metadata": {},
   "source": [
    "### Question 6: Print the last 20 rows in each dataset"
   ]
  },
  {
   "cell_type": "code",
   "execution_count": null,
   "metadata": {},
   "outputs": [],
   "source": []
  },
  {
   "cell_type": "code",
   "execution_count": null,
   "metadata": {},
   "outputs": [],
   "source": []
  },
  {
   "cell_type": "markdown",
   "metadata": {},
   "source": [
    "### Question 7:  Using unique() function, check that the number of italian provinces (resp. regions) is 128 (resp. 20)"
   ]
  },
  {
   "cell_type": "code",
   "execution_count": null,
   "metadata": {},
   "outputs": [],
   "source": []
  },
  {
   "cell_type": "code",
   "execution_count": null,
   "metadata": {},
   "outputs": [],
   "source": []
  },
  {
   "cell_type": "markdown",
   "metadata": {},
   "source": [
    "### Question 8: Print the contengency table of Regions and Provinces in function of total cases:\n",
    "- https://www.geeksforgeeks.org/contingency-table-in-python/"
   ]
  },
  {
   "cell_type": "code",
   "execution_count": null,
   "metadata": {},
   "outputs": [],
   "source": []
  },
  {
   "cell_type": "markdown",
   "metadata": {},
   "source": [
    "# 2. Provinces dataset: attributes visualization"
   ]
  },
  {
   "cell_type": "markdown",
   "metadata": {},
   "source": [
    "## Numerical Attributes"
   ]
  },
  {
   "cell_type": "markdown",
   "metadata": {},
   "source": [
    "### Question 1: Using histogram, check the frequence distribution. What do you notice?"
   ]
  },
  {
   "cell_type": "code",
   "execution_count": null,
   "metadata": {},
   "outputs": [],
   "source": []
  },
  {
   "cell_type": "markdown",
   "metadata": {},
   "source": [
    "### Question 2: Using boxplot, check if the provinces data  has any outliers"
   ]
  },
  {
   "cell_type": "code",
   "execution_count": null,
   "metadata": {},
   "outputs": [],
   "source": []
  },
  {
   "cell_type": "markdown",
   "metadata": {},
   "source": [
    "### Question 3: Rescale the y axe using symlog: \n",
    "- https://stackoverflow.com/questions/3305865/what-is-the-difference-between-log-and-symlogm"
   ]
  },
  {
   "cell_type": "code",
   "execution_count": null,
   "metadata": {},
   "outputs": [],
   "source": []
  },
  {
   "cell_type": "markdown",
   "metadata": {},
   "source": [
    "### Question 3: Using a scatter graph, plot the x='Longitude' and y='Latitude'"
   ]
  },
  {
   "cell_type": "code",
   "execution_count": null,
   "metadata": {},
   "outputs": [],
   "source": []
  }
 ],
 "metadata": {
  "kernelspec": {
   "display_name": "Python 3",
   "language": "python",
   "name": "python3"
  },
  "language_info": {
   "codemirror_mode": {
    "name": "ipython",
    "version": 3
   },
   "file_extension": ".py",
   "mimetype": "text/x-python",
   "name": "python",
   "nbconvert_exporter": "python",
   "pygments_lexer": "ipython3",
   "version": "3.7.5"
  }
 },
 "nbformat": 4,
 "nbformat_minor": 2
}
