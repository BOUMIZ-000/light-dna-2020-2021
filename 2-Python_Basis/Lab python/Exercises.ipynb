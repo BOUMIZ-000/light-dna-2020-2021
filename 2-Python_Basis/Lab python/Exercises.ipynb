{
 "cells": [
  {
   "cell_type": "markdown",
   "metadata": {},
   "source": [
    "# 1. Numbers"
   ]
  },
  {
   "cell_type": "markdown",
   "metadata": {},
   "source": [
    "##  Creating formulas\n",
    "\n",
    "Write the following mathematical formula in Python:\n",
    "\n",
    "\\begin{align}\n",
    " result = 6a^3 - \\frac{8b^2 }{4c} + 11\n",
    "\\end{align}\n",
    "\n",
    "```python\n",
    "a = 2\n",
    "b = 3\n",
    "c = 2\n",
    "```\n",
    "\n",
    "> write your formula as \n",
    "```python\n",
    "result = \n",
    "```\n",
    "\n",
    "It must verify\n",
    "```python\n",
    ">>> assert result == 50\n",
    "```"
   ]
  },
  {
   "cell_type": "markdown",
   "metadata": {},
   "source": [
    "# 2. Lists"
   ]
  },
  {
   "cell_type": "markdown",
   "metadata": {},
   "source": [
    "## Fill the missing pieces\n",
    "\n",
    "Fill the `____` parts of the code below.\n",
    "\n",
    "```python\n",
    "# Let's create an empty list\n",
    "my_list = ____\n",
    "\n",
    "# Let's add some values\n",
    "my_list.____('Python')\n",
    "my_list.____('is ok')\n",
    "my_list.____('sometimes')\n",
    "\n",
    "# Let's remove 'sometimes'\n",
    "my_list.____('sometimes')\n",
    "\n",
    "# Let's change the second item\n",
    "my_list[____] = 'is neat'\n",
    "```\n",
    "\n",
    "Let's verify that it's correct\n",
    "```python\n",
    ">>> assert my_list == ['Python', 'is neat']\n",
    "```"
   ]
  },
  {
   "cell_type": "markdown",
   "metadata": {},
   "source": [
    "## Create a new list without modifiying the original one\n",
    "\n",
    "```python\n",
    "original = ['I', 'am', 'learning', 'hacking', 'in']\n",
    "```\n",
    "\n",
    "> Your implementation here\n",
    "```python\n",
    "modified = \n",
    "```\n",
    "\n",
    "```python\n",
    ">>> assert original == ['I', 'am', 'learning', 'hacking', 'in']\n",
    ">>> assert modified == ['I', 'am', 'learning', 'lists', 'in', 'Python']\n",
    "```"
   ]
  },
  {
   "cell_type": "markdown",
   "metadata": {},
   "source": [
    "## Create a merged sorted list\n",
    "\n",
    "```python\n",
    "list1 = [6, 12, 5]\n",
    "list2 = [6.2, 0, 14, 1]\n",
    "list3 = [0.9]\n",
    "```\n",
    "\n",
    "> Your implementation here\n",
    "```python\n",
    "my_list =\n",
    "```\n",
    "\n",
    "```python\n",
    ">>> assert my_list == [14, 12, 6.2, 6, 5, 1, 0.9, 0]\n",
    "```"
   ]
  },
  {
   "cell_type": "markdown",
   "metadata": {},
   "source": [
    "# 3. Dictionaries"
   ]
  },
  {
   "cell_type": "markdown",
   "metadata": {},
   "source": [
    "## Populating a dictionary\n",
    "\n",
    "Create a dictionary by using all the given variables.\n",
    "\n",
    "```python\n",
    "first_name = 'John'\n",
    "last_name = 'Doe'\n",
    "favorite_hobby = 'Python'\n",
    "sports_hobby = 'gym'\n",
    "age = 82\n",
    "```\n",
    "\n",
    "> Your implementation\n",
    "```python\n",
    "my_dict =\n",
    "```\n",
    "\n",
    "```python\n",
    ">>> assert my_dict == {\n",
    "        'name': 'John Doe',\n",
    "        'age': 82,\n",
    "        'hobbies': ['Python', 'gym']\n",
    "    }\n",
    "```"
   ]
  },
  {
   "cell_type": "code",
   "execution_count": null,
   "metadata": {},
   "outputs": [],
   "source": []
  },
  {
   "cell_type": "markdown",
   "metadata": {},
   "source": [
    "## Accessing and merging dictionaries\n",
    "\n",
    "Combine `dict1`, `dict2`, and `dict3` into `my_dict`. In addition, get the value of `special_key` from `my_dict` into a `special_value` variable. Note that original dictionaries should stay untouched and `special_key` should be removed from `my_dict`.\n",
    "\n",
    "```python\n",
    "dict1 = dict(key1='This is not that hard', key2='Python is still cool')\n",
    "dict2 = {'key1': 123, 'special_key': 'secret'}\n",
    "# This is also a away to initialize a dict (list of tuples) \n",
    "dict3 = dict([('key2', 456), ('keyX', 'X')])\n",
    "```\n",
    "\n",
    "> Your impelementation\n",
    "```python\n",
    "my_dict = \n",
    "special_value = \n",
    "```\n",
    "\n",
    "```python\n",
    ">>> assert my_dict == {'key1': 123, 'key2': 456, 'keyX': 'X'}\n",
    ">>> assert special_value == 'secret'\n",
    "\n",
    ">>> # Let's check that the originals are untouched\n",
    ">>> assert dict1 == {\n",
    "        'key1': 'This is not that hard',\n",
    "        'key2': 'Python is still cool'\n",
    "    }\n",
    ">>> assert dict2 == {'key1': 123, 'special_key': 'secret'}\n",
    ">>> assert dict3 == {'key2': 456, 'keyX': 'X'}\n",
    "```"
   ]
  },
  {
   "cell_type": "markdown",
   "metadata": {},
   "source": [
    "# 5. Strings"
   ]
  },
  {
   "cell_type": "markdown",
   "metadata": {},
   "source": [
    "## Fill missing pieces\n",
    "\n",
    "Fill `____` pieces below to have correct values for `lower_cased`, `stripped` and `stripped_lower_case` variables.\n",
    "\n",
    "```python\n",
    "original = ' Python strings are COOL! '\n",
    "lower_cased = original._____\n",
    "stripped = ____.strip()\n",
    "stripped_lower_cased = original._____._____\n",
    "```\n",
    "\n",
    "Let's verify that the implementation is correct by running the cell below. `assert` will raise `AssertionError` if the statement is not true.  \n",
    "\n",
    "```python\n",
    ">>> assert lower_cased == ' python strings are cool! '\n",
    ">>> assert stripped == 'Python strings are COOL!'\n",
    ">>> assert stripped_lower_cased == 'python strings are cool!'\n",
    "```"
   ]
  },
  {
   "cell_type": "markdown",
   "metadata": {},
   "source": [
    "## Prettify ugly string\n",
    "\n",
    "Use `str` methods to convert `ugly` to wanted `pretty`.\n",
    "\n",
    "```python\n",
    "ugly = ' tiTle of MY new Book\\n\\n'\n",
    "```\n",
    "\n",
    "> Your implementation:\n",
    "```python\n",
    "pretty = 'TODO'\n",
    "```\n",
    "\n",
    "Let's make sure that it does what we want. `assert` raises [`AssertionError`](https://docs.python.org/3/library/exceptions.html#AssertionError) if the statement is not `True`.\n",
    "\n",
    "```python\n",
    ">>> print('pretty: {}'.format(pretty))\n",
    ">>> assert pretty == 'Title Of My New Book'\n",
    "```"
   ]
  },
  {
   "cell_type": "markdown",
   "metadata": {},
   "source": [
    "## Format string based on existing variables\n",
    "\n",
    "Create `sentence` by using `verb`, `language`, and `punctuation` and any other strings you may need.\n",
    "\n",
    "```python\n",
    "verb = 'is'\n",
    "language = 'Python'\n",
    "punctuation = '!'\n",
    "```\n",
    "\n",
    "> Your implementation:\n",
    "```python\n",
    "sentence = 'TODO'\n",
    "```\n",
    "\n",
    "```python\n",
    ">>> print('sentence: {}'.format(sentence))\n",
    ">>> assert sentence == 'Learning Python is fun!'\n",
    "```"
   ]
  }
 ],
 "metadata": {
  "kernelspec": {
   "display_name": "Python 3",
   "language": "python",
   "name": "python3"
  },
  "language_info": {
   "codemirror_mode": {
    "name": "ipython",
    "version": 3
   },
   "file_extension": ".py",
   "mimetype": "text/x-python",
   "name": "python",
   "nbconvert_exporter": "python",
   "pygments_lexer": "ipython3",
   "version": "3.8.5"
  }
 },
 "nbformat": 4,
 "nbformat_minor": 4
}
