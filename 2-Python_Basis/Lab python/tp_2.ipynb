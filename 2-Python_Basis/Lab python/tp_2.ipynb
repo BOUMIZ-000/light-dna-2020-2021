{
 "cells": [
  {
   "cell_type": "code",
   "execution_count": 1,
   "metadata": {},
   "outputs": [
    {
     "name": "stdout",
     "output_type": "stream",
     "text": [
      "B\n",
      "o\n",
      "n\n",
      "j\n",
      "o\n",
      "u\n",
      "r\n"
     ]
    }
   ],
   "source": [
    "my_string = \"Bonjour\"\n",
    "for i in my_string:\n",
    "    print(i)"
   ]
  },
  {
   "cell_type": "code",
   "execution_count": 2,
   "metadata": {},
   "outputs": [
    {
     "name": "stdout",
     "output_type": "stream",
     "text": [
      "B\n",
      "o\n",
      "n\n",
      "j\n",
      "o\n",
      "u\n",
      "r\n"
     ]
    }
   ],
   "source": [
    "for i in range(len(my_string)):\n",
    "    print(my_string[i])\n"
   ]
  },
  {
   "cell_type": "code",
   "execution_count": 6,
   "metadata": {},
   "outputs": [
    {
     "data": {
      "text/plain": [
       "False"
      ]
     },
     "execution_count": 6,
     "metadata": {},
     "output_type": "execute_result"
    }
   ],
   "source": [
    "def my_funct(st):\n",
    "    if st.count('e'):\n",
    "        return True\n",
    "    else:\n",
    "        return False\n",
    "my_funct(\"Bonjour\")"
   ]
  },
  {
   "cell_type": "code",
   "execution_count": 8,
   "metadata": {},
   "outputs": [
    {
     "data": {
      "text/plain": [
       "True"
      ]
     },
     "execution_count": 8,
     "metadata": {},
     "output_type": "execute_result"
    }
   ],
   "source": [
    "def my_funct(st):\n",
    "    if 'e' in st:\n",
    "        return True\n",
    "    else:\n",
    "        return False\n",
    "my_funct(\"Benjour\")"
   ]
  },
  {
   "cell_type": "code",
   "execution_count": 10,
   "metadata": {},
   "outputs": [
    {
     "data": {
      "text/plain": [
       "False"
      ]
     },
     "execution_count": 10,
     "metadata": {},
     "output_type": "execute_result"
    }
   ],
   "source": [
    "def my_funct(st):\n",
    "    return 'e' in st\n",
    "\n",
    "my_funct(\"Bonjour\")"
   ]
  },
  {
   "cell_type": "code",
   "execution_count": 14,
   "metadata": {},
   "outputs": [
    {
     "name": "stdout",
     "output_type": "stream",
     "text": [
      "C*P*G*E*\n"
     ]
    }
   ],
   "source": [
    "def recopy(st):\n",
    "    s =\"\"\n",
    "    for car in st:\n",
    "        s = s + car +'*'\n",
    "    return s\n",
    "\n",
    "print(recopy('CPGE'))\n",
    "    "
   ]
  },
  {
   "cell_type": "code",
   "execution_count": 21,
   "metadata": {},
   "outputs": [
    {
     "data": {
      "text/plain": [
       "'C*P*G*E*'"
      ]
     },
     "execution_count": 21,
     "metadata": {},
     "output_type": "execute_result"
    }
   ],
   "source": [
    "def recopy(st):\n",
    "    return \"*\".join(st)+'*'\n",
    "\n",
    "recopy('CPGE')\n"
   ]
  },
  {
   "cell_type": "code",
   "execution_count": 23,
   "metadata": {},
   "outputs": [
    {
     "data": {
      "text/plain": [
       "'ruojnoB'"
      ]
     },
     "execution_count": 23,
     "metadata": {},
     "output_type": "execute_result"
    }
   ],
   "source": [
    "def Inverse(st):\n",
    "    return st[::-1]\n",
    "\n",
    "Inverse(\"Bonjour\")"
   ]
  },
  {
   "cell_type": "code",
   "execution_count": 36,
   "metadata": {},
   "outputs": [],
   "source": [
    "L = [17, 38, 10, 25, 72]"
   ]
  },
  {
   "cell_type": "code",
   "execution_count": 26,
   "metadata": {},
   "outputs": [
    {
     "data": {
      "text/plain": [
       "[38, 10, 25, 72]"
      ]
     },
     "execution_count": 26,
     "metadata": {},
     "output_type": "execute_result"
    }
   ],
   "source": [
    "L[1:]"
   ]
  },
  {
   "cell_type": "code",
   "execution_count": 27,
   "metadata": {},
   "outputs": [
    {
     "data": {
      "text/plain": [
       "True"
      ]
     },
     "execution_count": 27,
     "metadata": {},
     "output_type": "execute_result"
    }
   ],
   "source": [
    "10 in L"
   ]
  },
  {
   "cell_type": "code",
   "execution_count": 28,
   "metadata": {},
   "outputs": [
    {
     "data": {
      "text/plain": [
       "False"
      ]
     },
     "execution_count": 28,
     "metadata": {},
     "output_type": "execute_result"
    }
   ],
   "source": [
    "34 in L"
   ]
  },
  {
   "cell_type": "code",
   "execution_count": 29,
   "metadata": {},
   "outputs": [],
   "source": [
    "L.sort()"
   ]
  },
  {
   "cell_type": "code",
   "execution_count": 30,
   "metadata": {},
   "outputs": [
    {
     "data": {
      "text/plain": [
       "[10, 17, 25, 38, 72]"
      ]
     },
     "execution_count": 30,
     "metadata": {},
     "output_type": "execute_result"
    }
   ],
   "source": [
    "L"
   ]
  },
  {
   "cell_type": "code",
   "execution_count": 32,
   "metadata": {},
   "outputs": [],
   "source": [
    "L.extend(['a', 'aa', 'bc'])"
   ]
  },
  {
   "cell_type": "code",
   "execution_count": 33,
   "metadata": {},
   "outputs": [
    {
     "data": {
      "text/plain": [
       "[10, 17, 25, 38, 72, 'a', 'aa', 'bc']"
      ]
     },
     "execution_count": 33,
     "metadata": {},
     "output_type": "execute_result"
    }
   ],
   "source": [
    "L"
   ]
  },
  {
   "cell_type": "code",
   "execution_count": 37,
   "metadata": {},
   "outputs": [
    {
     "data": {
      "text/plain": [
       "72"
      ]
     },
     "execution_count": 37,
     "metadata": {},
     "output_type": "execute_result"
    }
   ],
   "source": [
    "max(L)"
   ]
  },
  {
   "cell_type": "code",
   "execution_count": 38,
   "metadata": {},
   "outputs": [
    {
     "data": {
      "text/plain": [
       "10"
      ]
     },
     "execution_count": 38,
     "metadata": {},
     "output_type": "execute_result"
    }
   ],
   "source": [
    "min(L)"
   ]
  },
  {
   "cell_type": "code",
   "execution_count": 42,
   "metadata": {},
   "outputs": [
    {
     "data": {
      "text/plain": [
       "[(0, 1), (1, 2), (2, 3), (3, 'b'), (4, 'aaa'), (5, 4), (6, 5), (7, 'a')]"
      ]
     },
     "execution_count": 42,
     "metadata": {},
     "output_type": "execute_result"
    }
   ],
   "source": [
    "L1 = [1,2,3,'b','aaa',4,5,'a'] \n",
    "L2 = [5,2,4,1,3] \n",
    "\n",
    "def anagramme(l1,l2):\n",
    "    return len(l1)==len(l2) and set(l1)==set(l2)\n",
    "\n",
    "anagramme(L1,L2)\n",
    "\n",
    "list(enumerate(L1))\n"
   ]
  },
  {
   "cell_type": "code",
   "execution_count": null,
   "metadata": {},
   "outputs": [],
   "source": [
    "Nbralphabet = {’a’ : 1, ’c’ : 1, ’b’ : 0, 'e' : 2, 'd' : 1, 'g' : 0, 'f' : 0, 'i' : 3, 'h' : 0,\n",
    "’k’ : 0, 'j' : 0, 'm' : 0, 'l' : 1, 'o' : 1, 'n' : 2, 'q' : 0, 'p' : 0, 's' : 1, 'r' : 1, 'u' : 0, 't' : 1}\n"
   ]
  },
  {
   "cell_type": "code",
   "execution_count": 47,
   "metadata": {},
   "outputs": [
    {
     "data": {
      "text/plain": [
       "{' ': 13,\n",
       " 'j': 2,\n",
       " 'à': 2,\n",
       " 't': 1,\n",
       " 'i': 4,\n",
       " 'c': 4,\n",
       " 's': 5,\n",
       " 'B': 1,\n",
       " 'o': 6,\n",
       " 'h': 4,\n",
       " 'm': 3,\n",
       " 'a': 5,\n",
       " 'e': 7,\n",
       " ',': 2,\n",
       " 'd': 2,\n",
       " 'u': 4,\n",
       " 'l': 3,\n",
       " 'n': 5,\n",
       " '9': 1,\n",
       " 'r': 4,\n",
       " \"'\": 1}"
      ]
     },
     "execution_count": 47,
     "metadata": {},
     "output_type": "execute_result"
    }
   ],
   "source": [
    "L = \"Bonjour, je dois assister au cours à l'heure, demain on commence à 9h inchallah\"\n",
    "\n",
    "dict = {}\n",
    "for car in set(L):\n",
    "    dict[car] = L.count(car)\n",
    "    \n",
    "dict"
   ]
  },
  {
   "cell_type": "code",
   "execution_count": 50,
   "metadata": {},
   "outputs": [],
   "source": [
    "d = {car:L.count(car) for car in set(L)}"
   ]
  },
  {
   "cell_type": "code",
   "execution_count": 51,
   "metadata": {},
   "outputs": [
    {
     "data": {
      "text/plain": [
       "{' ': 13,\n",
       " 'j': 2,\n",
       " 'à': 2,\n",
       " 't': 1,\n",
       " 'i': 4,\n",
       " 'c': 4,\n",
       " 's': 5,\n",
       " 'B': 1,\n",
       " 'o': 6,\n",
       " 'h': 4,\n",
       " 'm': 3,\n",
       " 'a': 5,\n",
       " 'e': 7,\n",
       " ',': 2,\n",
       " 'd': 2,\n",
       " 'u': 4,\n",
       " 'l': 3,\n",
       " 'n': 5,\n",
       " '9': 1,\n",
       " 'r': 4,\n",
       " \"'\": 1}"
      ]
     },
     "execution_count": 51,
     "metadata": {},
     "output_type": "execute_result"
    }
   ],
   "source": [
    "d"
   ]
  },
  {
   "cell_type": "code",
   "execution_count": null,
   "metadata": {},
   "outputs": [],
   "source": []
  }
 ],
 "metadata": {
  "kernelspec": {
   "display_name": "Python 3",
   "language": "python",
   "name": "python3"
  },
  "language_info": {
   "codemirror_mode": {
    "name": "ipython",
    "version": 3
   },
   "file_extension": ".py",
   "mimetype": "text/x-python",
   "name": "python",
   "nbconvert_exporter": "python",
   "pygments_lexer": "ipython3",
   "version": "3.8.1"
  }
 },
 "nbformat": 4,
 "nbformat_minor": 4
}
